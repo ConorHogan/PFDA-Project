{
 "cells": [
  {
   "cell_type": "markdown",
   "metadata": {},
   "source": [
    "# 1.0 OVERVIEW"
   ]
  },
  {
   "cell_type": "markdown",
   "metadata": {},
   "source": [
    "This project consists of four main sections:\n",
    "\n",
    "1. An Introduction to the real-world dataset and the datasets I will be attempting to synthesise.\n",
    "\n",
    "2. Explaratory Data Analysis of the realword dataset and commentary on the relationships between the variables and their properties\n",
    "\n",
    "3. A first simulated dataset created using the Numpy's *\".random\"* package.\n",
    "\n",
    "4. A second simulated dataset created using Regression Analysis to model/predict changes to a one variable based on increases to other related varaible."
   ]
  },
  {
   "cell_type": "markdown",
   "metadata": {},
   "source": [
    "# 2.0 INTRODUCTION TO THE DATASET"
   ]
  },
  {
   "cell_type": "markdown",
   "metadata": {},
   "source": [
    "## 2.1 Background on the Real-World Dataset / Phenomenon"
   ]
  },
  {
   "cell_type": "markdown",
   "metadata": {},
   "source": [
    "The real-world phenomenon I have chosen to base this project around is the number of Livechats the Customer Service Team in my place of work recieves on a weekly basis. \n",
    "\n",
    "I work for a company based in Ireland that provides procurement and supplier data management software to various type of organisations around the world. \n",
    "\n",
    "The software / application is a web-based platform where \"Buyers\" of provide and services can interact with \"Suppliers\" by sending them \"Requests\" for information about the Supplier's business or for quotes and estimates on the products of services they provide. In order to engage with eachother, both sets of users must register on the system and create an account.\n",
    "\n",
    "The Customer Service Team provide technical support on how to use the system for both sets of users. The most common channel Users avail of for getting in touch with the Customer Service Team is the application's Livechat function. Each page on our products marketing website and each page in the application itself has a Livechat widget that allows Users to type questions and recieve answers from a member of the Customer Service Team. \n",
    "\n",
    "As you will see when we begin to look at the dataset below, we are currently a small enough company with a relatively low volume of Livechats, but they still take up a lot of the Customer Service Team time dealing with them. \n",
    "\n",
    "In this project I have attempted to:\n",
    "\n",
    "1. Identify what variables influence the number of Livechats and to what degree.\n",
    "\n",
    "2. Create a synthetic \"Average Week\" of activity on the application and the number of Livechats.\n",
    "\n",
    "3. Create three simulated datassets that look a the possible increase in the volume of Livechats if the volume of the other varaibles that influence the number of Livechats increased. "
   ]
  },
  {
   "cell_type": "markdown",
   "metadata": {},
   "source": [
    "## 2.2 The Real-World Dataset & it's Variables"
   ]
  },
  {
   "cell_type": "code",
   "execution_count": 1,
   "metadata": {},
   "outputs": [],
   "source": [
    "import pandas as pd\n",
    "import numpy as np\n",
    "import matplotlib.pyplot as pyplt\n",
    "import seaborn as sns\n",
    "from scipy import stats\n",
    "%matplotlib inline"
   ]
  },
  {
   "cell_type": "code",
   "execution_count": 2,
   "metadata": {},
   "outputs": [
    {
     "data": {
      "text/html": [
       "<div>\n",
       "<style scoped>\n",
       "    .dataframe tbody tr th:only-of-type {\n",
       "        vertical-align: middle;\n",
       "    }\n",
       "\n",
       "    .dataframe tbody tr th {\n",
       "        vertical-align: top;\n",
       "    }\n",
       "\n",
       "    .dataframe thead th {\n",
       "        text-align: right;\n",
       "    }\n",
       "</style>\n",
       "<table border=\"1\" class=\"dataframe\">\n",
       "  <thead>\n",
       "    <tr style=\"text-align: right;\">\n",
       "      <th></th>\n",
       "      <th>Day</th>\n",
       "      <th>Hour</th>\n",
       "      <th>Livechat</th>\n",
       "      <th>PublishedCount</th>\n",
       "      <th>SuppliersInvitedCount</th>\n",
       "      <th>DeadlineCount</th>\n",
       "      <th>SupplierDeadlineCount</th>\n",
       "      <th>CombinedRequests</th>\n",
       "      <th>CombinedSupplierAction</th>\n",
       "      <th>NewUserMail</th>\n",
       "      <th>NonRegMail</th>\n",
       "    </tr>\n",
       "  </thead>\n",
       "  <tbody>\n",
       "    <tr>\n",
       "      <th>0</th>\n",
       "      <td>1</td>\n",
       "      <td>0</td>\n",
       "      <td>0</td>\n",
       "      <td>0</td>\n",
       "      <td>0</td>\n",
       "      <td>0</td>\n",
       "      <td>0</td>\n",
       "      <td>0</td>\n",
       "      <td>0</td>\n",
       "      <td>4</td>\n",
       "      <td>76</td>\n",
       "    </tr>\n",
       "    <tr>\n",
       "      <th>1</th>\n",
       "      <td>1</td>\n",
       "      <td>1</td>\n",
       "      <td>0</td>\n",
       "      <td>0</td>\n",
       "      <td>0</td>\n",
       "      <td>10</td>\n",
       "      <td>14</td>\n",
       "      <td>10</td>\n",
       "      <td>14</td>\n",
       "      <td>1</td>\n",
       "      <td>48</td>\n",
       "    </tr>\n",
       "    <tr>\n",
       "      <th>2</th>\n",
       "      <td>1</td>\n",
       "      <td>2</td>\n",
       "      <td>0</td>\n",
       "      <td>0</td>\n",
       "      <td>0</td>\n",
       "      <td>0</td>\n",
       "      <td>0</td>\n",
       "      <td>0</td>\n",
       "      <td>0</td>\n",
       "      <td>2</td>\n",
       "      <td>7</td>\n",
       "    </tr>\n",
       "    <tr>\n",
       "      <th>3</th>\n",
       "      <td>1</td>\n",
       "      <td>3</td>\n",
       "      <td>0</td>\n",
       "      <td>0</td>\n",
       "      <td>0</td>\n",
       "      <td>0</td>\n",
       "      <td>0</td>\n",
       "      <td>0</td>\n",
       "      <td>0</td>\n",
       "      <td>0</td>\n",
       "      <td>6</td>\n",
       "    </tr>\n",
       "    <tr>\n",
       "      <th>4</th>\n",
       "      <td>1</td>\n",
       "      <td>4</td>\n",
       "      <td>1</td>\n",
       "      <td>26</td>\n",
       "      <td>26</td>\n",
       "      <td>29</td>\n",
       "      <td>33</td>\n",
       "      <td>55</td>\n",
       "      <td>59</td>\n",
       "      <td>0</td>\n",
       "      <td>194</td>\n",
       "    </tr>\n",
       "  </tbody>\n",
       "</table>\n",
       "</div>"
      ],
      "text/plain": [
       "   Day  Hour  Livechat  PublishedCount  SuppliersInvitedCount  DeadlineCount  \\\n",
       "0    1     0         0               0                      0              0   \n",
       "1    1     1         0               0                      0             10   \n",
       "2    1     2         0               0                      0              0   \n",
       "3    1     3         0               0                      0              0   \n",
       "4    1     4         1              26                     26             29   \n",
       "\n",
       "   SupplierDeadlineCount  CombinedRequests  CombinedSupplierAction  \\\n",
       "0                      0                 0                       0   \n",
       "1                     14                10                      14   \n",
       "2                      0                 0                       0   \n",
       "3                      0                 0                       0   \n",
       "4                     33                55                      59   \n",
       "\n",
       "   NewUserMail  NonRegMail  \n",
       "0            4          76  \n",
       "1            1          48  \n",
       "2            2           7  \n",
       "3            0           6  \n",
       "4            0         194  "
      ]
     },
     "execution_count": 2,
     "metadata": {},
     "output_type": "execute_result"
    }
   ],
   "source": [
    "url = \"https://raw.githubusercontent.com/ConorHogan/PFDA-Project/master/LivechatDOW.csv\"\n",
    "live_chat = pd.read_csv(url)\n",
    "live_chat.head()"
   ]
  },
  {
   "cell_type": "code",
   "execution_count": 3,
   "metadata": {
    "scrolled": true
   },
   "outputs": [
    {
     "data": {
      "text/html": [
       "<div>\n",
       "<style scoped>\n",
       "    .dataframe tbody tr th:only-of-type {\n",
       "        vertical-align: middle;\n",
       "    }\n",
       "\n",
       "    .dataframe tbody tr th {\n",
       "        vertical-align: top;\n",
       "    }\n",
       "\n",
       "    .dataframe thead th {\n",
       "        text-align: right;\n",
       "    }\n",
       "</style>\n",
       "<table border=\"1\" class=\"dataframe\">\n",
       "  <thead>\n",
       "    <tr style=\"text-align: right;\">\n",
       "      <th></th>\n",
       "      <th>Day</th>\n",
       "      <th>Hour</th>\n",
       "      <th>Livechat</th>\n",
       "      <th>PublishedCount</th>\n",
       "      <th>SuppliersInvitedCount</th>\n",
       "      <th>DeadlineCount</th>\n",
       "      <th>SupplierDeadlineCount</th>\n",
       "      <th>CombinedRequests</th>\n",
       "      <th>CombinedSupplierAction</th>\n",
       "      <th>NewUserMail</th>\n",
       "      <th>NonRegMail</th>\n",
       "    </tr>\n",
       "  </thead>\n",
       "  <tbody>\n",
       "    <tr>\n",
       "      <th>163</th>\n",
       "      <td>7</td>\n",
       "      <td>19</td>\n",
       "      <td>0</td>\n",
       "      <td>0</td>\n",
       "      <td>0</td>\n",
       "      <td>0</td>\n",
       "      <td>0</td>\n",
       "      <td>0</td>\n",
       "      <td>0</td>\n",
       "      <td>2</td>\n",
       "      <td>4</td>\n",
       "    </tr>\n",
       "    <tr>\n",
       "      <th>164</th>\n",
       "      <td>7</td>\n",
       "      <td>20</td>\n",
       "      <td>0</td>\n",
       "      <td>0</td>\n",
       "      <td>0</td>\n",
       "      <td>0</td>\n",
       "      <td>0</td>\n",
       "      <td>0</td>\n",
       "      <td>0</td>\n",
       "      <td>1</td>\n",
       "      <td>2</td>\n",
       "    </tr>\n",
       "    <tr>\n",
       "      <th>165</th>\n",
       "      <td>7</td>\n",
       "      <td>21</td>\n",
       "      <td>0</td>\n",
       "      <td>0</td>\n",
       "      <td>0</td>\n",
       "      <td>0</td>\n",
       "      <td>0</td>\n",
       "      <td>0</td>\n",
       "      <td>0</td>\n",
       "      <td>0</td>\n",
       "      <td>19</td>\n",
       "    </tr>\n",
       "    <tr>\n",
       "      <th>166</th>\n",
       "      <td>7</td>\n",
       "      <td>22</td>\n",
       "      <td>0</td>\n",
       "      <td>0</td>\n",
       "      <td>0</td>\n",
       "      <td>0</td>\n",
       "      <td>0</td>\n",
       "      <td>0</td>\n",
       "      <td>0</td>\n",
       "      <td>3</td>\n",
       "      <td>18</td>\n",
       "    </tr>\n",
       "    <tr>\n",
       "      <th>167</th>\n",
       "      <td>7</td>\n",
       "      <td>23</td>\n",
       "      <td>0</td>\n",
       "      <td>0</td>\n",
       "      <td>0</td>\n",
       "      <td>0</td>\n",
       "      <td>0</td>\n",
       "      <td>0</td>\n",
       "      <td>0</td>\n",
       "      <td>0</td>\n",
       "      <td>53</td>\n",
       "    </tr>\n",
       "  </tbody>\n",
       "</table>\n",
       "</div>"
      ],
      "text/plain": [
       "     Day  Hour  Livechat  PublishedCount  SuppliersInvitedCount  \\\n",
       "163    7    19         0               0                      0   \n",
       "164    7    20         0               0                      0   \n",
       "165    7    21         0               0                      0   \n",
       "166    7    22         0               0                      0   \n",
       "167    7    23         0               0                      0   \n",
       "\n",
       "     DeadlineCount  SupplierDeadlineCount  CombinedRequests  \\\n",
       "163              0                      0                 0   \n",
       "164              0                      0                 0   \n",
       "165              0                      0                 0   \n",
       "166              0                      0                 0   \n",
       "167              0                      0                 0   \n",
       "\n",
       "     CombinedSupplierAction  NewUserMail  NonRegMail  \n",
       "163                       0            2           4  \n",
       "164                       0            1           2  \n",
       "165                       0            0          19  \n",
       "166                       0            3          18  \n",
       "167                       0            0          53  "
      ]
     },
     "execution_count": 3,
     "metadata": {},
     "output_type": "execute_result"
    }
   ],
   "source": [
    "live_chat.tail()"
   ]
  },
  {
   "cell_type": "code",
   "execution_count": 4,
   "metadata": {},
   "outputs": [
    {
     "data": {
      "text/html": [
       "<div>\n",
       "<style scoped>\n",
       "    .dataframe tbody tr th:only-of-type {\n",
       "        vertical-align: middle;\n",
       "    }\n",
       "\n",
       "    .dataframe tbody tr th {\n",
       "        vertical-align: top;\n",
       "    }\n",
       "\n",
       "    .dataframe thead th {\n",
       "        text-align: right;\n",
       "    }\n",
       "</style>\n",
       "<table border=\"1\" class=\"dataframe\">\n",
       "  <thead>\n",
       "    <tr style=\"text-align: right;\">\n",
       "      <th></th>\n",
       "      <th>Livechat</th>\n",
       "      <th>PublishedCount</th>\n",
       "      <th>SuppliersInvitedCount</th>\n",
       "      <th>DeadlineCount</th>\n",
       "      <th>SupplierDeadlineCount</th>\n",
       "      <th>CombinedRequests</th>\n",
       "      <th>CombinedSupplierAction</th>\n",
       "      <th>NewUserMail</th>\n",
       "      <th>NonRegMail</th>\n",
       "    </tr>\n",
       "  </thead>\n",
       "  <tbody>\n",
       "    <tr>\n",
       "      <th>count</th>\n",
       "      <td>168.000000</td>\n",
       "      <td>168.000000</td>\n",
       "      <td>168.000000</td>\n",
       "      <td>168.000000</td>\n",
       "      <td>168.000000</td>\n",
       "      <td>168.000000</td>\n",
       "      <td>168.000000</td>\n",
       "      <td>168.000000</td>\n",
       "      <td>168.000000</td>\n",
       "    </tr>\n",
       "    <tr>\n",
       "      <th>mean</th>\n",
       "      <td>9.833333</td>\n",
       "      <td>19.619048</td>\n",
       "      <td>49.744048</td>\n",
       "      <td>20.958333</td>\n",
       "      <td>44.791667</td>\n",
       "      <td>40.577381</td>\n",
       "      <td>94.535714</td>\n",
       "      <td>21.011905</td>\n",
       "      <td>956.005952</td>\n",
       "    </tr>\n",
       "    <tr>\n",
       "      <th>std</th>\n",
       "      <td>15.269502</td>\n",
       "      <td>22.063547</td>\n",
       "      <td>81.169668</td>\n",
       "      <td>42.131581</td>\n",
       "      <td>77.591349</td>\n",
       "      <td>54.991507</td>\n",
       "      <td>132.941250</td>\n",
       "      <td>24.878143</td>\n",
       "      <td>1884.525098</td>\n",
       "    </tr>\n",
       "    <tr>\n",
       "      <th>min</th>\n",
       "      <td>0.000000</td>\n",
       "      <td>0.000000</td>\n",
       "      <td>0.000000</td>\n",
       "      <td>0.000000</td>\n",
       "      <td>0.000000</td>\n",
       "      <td>0.000000</td>\n",
       "      <td>0.000000</td>\n",
       "      <td>0.000000</td>\n",
       "      <td>2.000000</td>\n",
       "    </tr>\n",
       "    <tr>\n",
       "      <th>25%</th>\n",
       "      <td>0.000000</td>\n",
       "      <td>1.000000</td>\n",
       "      <td>2.000000</td>\n",
       "      <td>1.000000</td>\n",
       "      <td>2.000000</td>\n",
       "      <td>3.750000</td>\n",
       "      <td>5.750000</td>\n",
       "      <td>3.000000</td>\n",
       "      <td>70.250000</td>\n",
       "    </tr>\n",
       "    <tr>\n",
       "      <th>50%</th>\n",
       "      <td>1.000000</td>\n",
       "      <td>9.500000</td>\n",
       "      <td>22.000000</td>\n",
       "      <td>8.000000</td>\n",
       "      <td>14.500000</td>\n",
       "      <td>20.000000</td>\n",
       "      <td>40.500000</td>\n",
       "      <td>9.000000</td>\n",
       "      <td>205.000000</td>\n",
       "    </tr>\n",
       "    <tr>\n",
       "      <th>75%</th>\n",
       "      <td>16.000000</td>\n",
       "      <td>35.000000</td>\n",
       "      <td>68.500000</td>\n",
       "      <td>29.000000</td>\n",
       "      <td>59.000000</td>\n",
       "      <td>67.000000</td>\n",
       "      <td>143.000000</td>\n",
       "      <td>37.250000</td>\n",
       "      <td>1463.250000</td>\n",
       "    </tr>\n",
       "    <tr>\n",
       "      <th>max</th>\n",
       "      <td>59.000000</td>\n",
       "      <td>95.000000</td>\n",
       "      <td>638.000000</td>\n",
       "      <td>480.000000</td>\n",
       "      <td>533.000000</td>\n",
       "      <td>521.000000</td>\n",
       "      <td>723.000000</td>\n",
       "      <td>88.000000</td>\n",
       "      <td>16755.000000</td>\n",
       "    </tr>\n",
       "  </tbody>\n",
       "</table>\n",
       "</div>"
      ],
      "text/plain": [
       "         Livechat  PublishedCount  SuppliersInvitedCount  DeadlineCount  \\\n",
       "count  168.000000      168.000000             168.000000     168.000000   \n",
       "mean     9.833333       19.619048              49.744048      20.958333   \n",
       "std     15.269502       22.063547              81.169668      42.131581   \n",
       "min      0.000000        0.000000               0.000000       0.000000   \n",
       "25%      0.000000        1.000000               2.000000       1.000000   \n",
       "50%      1.000000        9.500000              22.000000       8.000000   \n",
       "75%     16.000000       35.000000              68.500000      29.000000   \n",
       "max     59.000000       95.000000             638.000000     480.000000   \n",
       "\n",
       "       SupplierDeadlineCount  CombinedRequests  CombinedSupplierAction  \\\n",
       "count             168.000000        168.000000              168.000000   \n",
       "mean               44.791667         40.577381               94.535714   \n",
       "std                77.591349         54.991507              132.941250   \n",
       "min                 0.000000          0.000000                0.000000   \n",
       "25%                 2.000000          3.750000                5.750000   \n",
       "50%                14.500000         20.000000               40.500000   \n",
       "75%                59.000000         67.000000              143.000000   \n",
       "max               533.000000        521.000000              723.000000   \n",
       "\n",
       "       NewUserMail    NonRegMail  \n",
       "count   168.000000    168.000000  \n",
       "mean     21.011905    956.005952  \n",
       "std      24.878143   1884.525098  \n",
       "min       0.000000      2.000000  \n",
       "25%       3.000000     70.250000  \n",
       "50%       9.000000    205.000000  \n",
       "75%      37.250000   1463.250000  \n",
       "max      88.000000  16755.000000  "
      ]
     },
     "execution_count": 4,
     "metadata": {},
     "output_type": "execute_result"
    }
   ],
   "source": [
    "lc_summary = live_chat.describe()\n",
    "lc_summary.drop([\"Day\", \"Hour\"], axis=1)"
   ]
  },
  {
   "cell_type": "markdown",
   "metadata": {},
   "source": [
    "As you can see above the dataset consists of 11 variables with 168 rows data. \n",
    "\n",
    "The data is an week broken down hour by hour. Each of the \"Days\" has been given a number with 1 denoting Sunday and 7 denoting Saturday. The hours per day have been listed ranging from 0 (Midnight-1am) to 23 (11pm-Midnight). \n",
    "\n",
    "The other variables are counts of the number of time each \"event\" happened in the hourly period.\n",
    "\n",
    "**Important Note:** This dataset was created by combining six months worth of data from the period the 1/May/2018 to 31/October/2018. Therefore the counts under each variable are not a single hours data from a day or week. They are the sum of the counts from six months of data. For example, if you look at the Max value for Livechats, in all likelyhood there was never an hour on a given with 59 livechats."
   ]
  },
  {
   "cell_type": "code",
   "execution_count": 5,
   "metadata": {},
   "outputs": [
    {
     "data": {
      "text/html": [
       "<div>\n",
       "<style scoped>\n",
       "    .dataframe tbody tr th:only-of-type {\n",
       "        vertical-align: middle;\n",
       "    }\n",
       "\n",
       "    .dataframe tbody tr th {\n",
       "        vertical-align: top;\n",
       "    }\n",
       "\n",
       "    .dataframe thead th {\n",
       "        text-align: right;\n",
       "    }\n",
       "</style>\n",
       "<table border=\"1\" class=\"dataframe\">\n",
       "  <thead>\n",
       "    <tr style=\"text-align: right;\">\n",
       "      <th></th>\n",
       "      <th>Hour</th>\n",
       "      <th>Livechat</th>\n",
       "      <th>PublishedCount</th>\n",
       "      <th>SuppliersInvitedCount</th>\n",
       "      <th>DeadlineCount</th>\n",
       "      <th>SupplierDeadlineCount</th>\n",
       "      <th>CombinedRequests</th>\n",
       "      <th>CombinedSupplierAction</th>\n",
       "      <th>NewUserMail</th>\n",
       "      <th>NonRegMail</th>\n",
       "    </tr>\n",
       "    <tr>\n",
       "      <th>Day</th>\n",
       "      <th></th>\n",
       "      <th></th>\n",
       "      <th></th>\n",
       "      <th></th>\n",
       "      <th></th>\n",
       "      <th></th>\n",
       "      <th></th>\n",
       "      <th></th>\n",
       "      <th></th>\n",
       "      <th></th>\n",
       "    </tr>\n",
       "  </thead>\n",
       "  <tbody>\n",
       "    <tr>\n",
       "      <th>5</th>\n",
       "      <td>10</td>\n",
       "      <td>59</td>\n",
       "      <td>50</td>\n",
       "      <td>374</td>\n",
       "      <td>37</td>\n",
       "      <td>59</td>\n",
       "      <td>87</td>\n",
       "      <td>433</td>\n",
       "      <td>72</td>\n",
       "      <td>2330</td>\n",
       "    </tr>\n",
       "  </tbody>\n",
       "</table>\n",
       "</div>"
      ],
      "text/plain": [
       "     Hour  Livechat  PublishedCount  SuppliersInvitedCount  DeadlineCount  \\\n",
       "Day                                                                         \n",
       "5      10        59              50                    374             37   \n",
       "\n",
       "     SupplierDeadlineCount  CombinedRequests  CombinedSupplierAction  \\\n",
       "Day                                                                    \n",
       "5                       59                87                     433   \n",
       "\n",
       "     NewUserMail  NonRegMail  \n",
       "Day                           \n",
       "5             72        2330  "
      ]
     },
     "execution_count": 5,
     "metadata": {},
     "output_type": "execute_result"
    }
   ],
   "source": [
    "#locate the max livechat row\n",
    "live_chat_ind = live_chat.set_index(\"Day\")\n",
    "livechat_max = live_chat_ind[live_chat_ind['Livechat']==live_chat_ind['Livechat'].max()]\n",
    "livechat_max"
   ]
  },
  {
   "cell_type": "markdown",
   "metadata": {},
   "source": [
    "Later we will be looking at the averages per day over the time period when creating the simulated datasets. "
   ]
  },
  {
   "cell_type": "markdown",
   "metadata": {},
   "source": [
    "### 2.2.1 Description of the Variables "
   ]
  },
  {
   "cell_type": "markdown",
   "metadata": {},
   "source": [
    "Below is a description of the 9 remaining variables. The main variable we will be focused on the is the number of Livechats per hour. The other 8 variables are various types of activity on the application that could cause a User to initiate a Livechat. Please excuse the longwinded names.\n",
    "\n",
    "We have users based all over the world, but most users are based in the UK and Ireland. We have other significant groups of users based in the U.A.E, Singapore, and Australia. You will notice that there lulls in the number of livechats and other activity at particular times that line-up with activity in these countries."
   ]
  },
  {
   "cell_type": "markdown",
   "metadata": {},
   "source": [
    "#### 2.2.1.1 Livechat"
   ]
  },
  {
   "cell_type": "markdown",
   "metadata": {},
   "source": [
    "This is the number of livechats initiated per hour. As I have said above, Users can start a Livechat with members of the Customer Service Team using a widget on our Marketing Website or on the application itself. Just because a livechat is iniated by a User does not necessarily mean it will be picked up and answered. In fact our Customer Service hours are 7am - 6pm GMT Monday to Friday. Livechat that are iniated outside of these hours are still tracked, and the User has the option to leave a message that can be picked up later or converted into a ticket. "
   ]
  },
  {
   "cell_type": "markdown",
   "metadata": {},
   "source": [
    "#### 2.2.1.2 PublishedCount"
   ]
  },
  {
   "cell_type": "markdown",
   "metadata": {},
   "source": [
    "This is the number of \"Requests\" published in each hour. A \"Request\" is basically a questionnaire sent from a Buyer user to a Supplier user. It could be asking the Supplier for information about their company so they could make a decision on whether to do business with them, or it could be asking for quotes for performing a service / providing a product. \n",
    "\n",
    "The length and complexity of a Request can vary greatly and I would assume that this would increase the number of possible livechat as there is a variation in the chance for a supplier to be confused by a question or something to go wrong in the features used when building the request. Unfortunetly this data was not available, so I am forced to just examine the raw number of requests published."
   ]
  },
  {
   "cell_type": "markdown",
   "metadata": {},
   "source": [
    "#### 2.2.1.3 SuppliersInvitedCount"
   ]
  },
  {
   "cell_type": "markdown",
   "metadata": {},
   "source": [
    "Multiple Suppliers can be invited to each request. One would assume that the greater if more Suppliers are invited, there are more users interacting with the application and therefore there is a greater chance of there being a Livechat. \n",
    "\n",
    "One thing worth noting is that a Request can be published as an \"Open\" Request with no Suppliers invited at the time of publication. Suppliers can instead find the Request and join at any point before the deadline. "
   ]
  },
  {
   "cell_type": "markdown",
   "metadata": {},
   "source": [
    "#### 2.2.1.4 DeadlineCount"
   ]
  },
  {
   "cell_type": "markdown",
   "metadata": {},
   "source": [
    "This is the count of the number of Requests coming to an end in each hour. This may influence the number of Livechats as Suppliers scramble to complete and submit close to the deadline."
   ]
  },
  {
   "cell_type": "markdown",
   "metadata": {},
   "source": [
    "#### 2.2.1.5 SupplierDeadlineCount"
   ]
  },
  {
   "cell_type": "markdown",
   "metadata": {},
   "source": [
    "This is the count of the number of Supplier who were invited to or have joined a Request at the time of the deadline. As I stated above, the number of Suppliers associated with a Request can increase at any point up to the the deadline as more join or are invited.\n",
    "\n",
    "It would have been interesting to look at the number of suppliers who were still working on their response in the hour before the deadline, but unfortunately that data was not available."
   ]
  },
  {
   "cell_type": "markdown",
   "metadata": {},
   "source": [
    "#### 2.2.1.6 CombinedRequests"
   ]
  },
  {
   "cell_type": "markdown",
   "metadata": {},
   "source": [
    "This is the combined count of the number of Request starting and ending in a hourly period. I have included this in some of the initial exploration of the data, but it is dropped later."
   ]
  },
  {
   "cell_type": "markdown",
   "metadata": {},
   "source": [
    "#### 2.2.1.7  CombinedSupplierAction"
   ]
  },
  {
   "cell_type": "markdown",
   "metadata": {},
   "source": [
    "Similar to the above, this is the combined number of Supplier invited to Requests that have just been published along with the number of Suppliers associated with a Request that had a deadline in the hourly period."
   ]
  },
  {
   "cell_type": "markdown",
   "metadata": {},
   "source": [
    "#### 2.2.1.8 NewUserMail"
   ]
  },
  {
   "cell_type": "markdown",
   "metadata": {},
   "source": [
    "This is the count of mails issued to User who have registered on the system in that hour. Both new Buyer users and new Supplier users get a mail asking them to click on a link to verify their account and create a password. It is this specific mail being counted here. Users tend to have more questions when interacting with the system for the first time, which I would assume results in Livechats."
   ]
  },
  {
   "cell_type": "markdown",
   "metadata": {},
   "source": [
    "#### 2.2.1.9 NonRegMail"
   ]
  },
  {
   "cell_type": "markdown",
   "metadata": {},
   "source": [
    "This is the count of all other mails sent in each hour. Mails are mostly commonly notifications from the system reminding users about deadlines, certifications and insurance details that need to be updated, contracts that are expiring, suppliers responses that need to be reviewed. These tend to trigger an action from a User with the system. I would assume that as interation with the system goes up, so does the chance of a Livechat."
   ]
  },
  {
   "cell_type": "markdown",
   "metadata": {},
   "source": [
    "# 3.0 EXPLARATORY DATA ANALYSIS"
   ]
  },
  {
   "cell_type": "markdown",
   "metadata": {},
   "source": [
    "In this section I will take an in-depth look at the real-world dataset and its properties so that I can better simulate it. It is worth noting again that the data is the aggregate of six months worth of daily / hourly data and I will be using this to create a single simulated week's worth of data representing an average week. It is therefore important to investigate the difference in activity from day to day and hour to hour to get create the most accurate  simulation possible.\n",
    "\n",
    "Most of what I have said above relates to the first dataset I will be trying to create, which the \"average week\". For the second dataset I will be creating which will look at a simulated increase in activity, it is also important to look at the various variables influence on the number of Livechats."
   ]
  },
  {
   "cell_type": "markdown",
   "metadata": {},
   "source": [
    "## 3.1 Relationship Between Day of the Week and System Activity"
   ]
  },
  {
   "cell_type": "markdown",
   "metadata": {},
   "source": [
    "Most of our customers are based in the UK and Ireland and work Monday to Friday. However, there are customers based in the Middle East who work Sunday to Thursday. Generally speaking customers are not very active on Saturdays. While none of the Customer Service team work on weekends to answer Livechats, users can still access the Livechat function and leave a message. It is worth examing the data for the entire and getting a view of an average week to access if staff would be needed to cover weekends in the future. "
   ]
  },
  {
   "cell_type": "code",
   "execution_count": 6,
   "metadata": {},
   "outputs": [
    {
     "data": {
      "text/html": [
       "<div>\n",
       "<style scoped>\n",
       "    .dataframe tbody tr th:only-of-type {\n",
       "        vertical-align: middle;\n",
       "    }\n",
       "\n",
       "    .dataframe tbody tr th {\n",
       "        vertical-align: top;\n",
       "    }\n",
       "\n",
       "    .dataframe thead th {\n",
       "        text-align: right;\n",
       "    }\n",
       "</style>\n",
       "<table border=\"1\" class=\"dataframe\">\n",
       "  <thead>\n",
       "    <tr style=\"text-align: right;\">\n",
       "      <th></th>\n",
       "      <th>Hour</th>\n",
       "      <th>Livechat</th>\n",
       "      <th>PublishedCount</th>\n",
       "      <th>SuppliersInvitedCount</th>\n",
       "      <th>DeadlineCount</th>\n",
       "      <th>SupplierDeadlineCount</th>\n",
       "      <th>CombinedRequests</th>\n",
       "      <th>CombinedSupplierAction</th>\n",
       "      <th>NewUserMail</th>\n",
       "      <th>NonRegMail</th>\n",
       "    </tr>\n",
       "    <tr>\n",
       "      <th>Day</th>\n",
       "      <th></th>\n",
       "      <th></th>\n",
       "      <th></th>\n",
       "      <th></th>\n",
       "      <th></th>\n",
       "      <th></th>\n",
       "      <th></th>\n",
       "      <th></th>\n",
       "      <th></th>\n",
       "      <th></th>\n",
       "    </tr>\n",
       "  </thead>\n",
       "  <tbody>\n",
       "    <tr>\n",
       "      <th>1</th>\n",
       "      <td>276</td>\n",
       "      <td>9</td>\n",
       "      <td>258</td>\n",
       "      <td>272</td>\n",
       "      <td>224</td>\n",
       "      <td>270</td>\n",
       "      <td>482</td>\n",
       "      <td>542</td>\n",
       "      <td>102</td>\n",
       "      <td>6281</td>\n",
       "    </tr>\n",
       "    <tr>\n",
       "      <th>2</th>\n",
       "      <td>276</td>\n",
       "      <td>318</td>\n",
       "      <td>601</td>\n",
       "      <td>1279</td>\n",
       "      <td>483</td>\n",
       "      <td>1254</td>\n",
       "      <td>1084</td>\n",
       "      <td>2533</td>\n",
       "      <td>714</td>\n",
       "      <td>24465</td>\n",
       "    </tr>\n",
       "    <tr>\n",
       "      <th>3</th>\n",
       "      <td>276</td>\n",
       "      <td>334</td>\n",
       "      <td>719</td>\n",
       "      <td>2203</td>\n",
       "      <td>621</td>\n",
       "      <td>1337</td>\n",
       "      <td>1340</td>\n",
       "      <td>3540</td>\n",
       "      <td>736</td>\n",
       "      <td>30777</td>\n",
       "    </tr>\n",
       "    <tr>\n",
       "      <th>4</th>\n",
       "      <td>276</td>\n",
       "      <td>334</td>\n",
       "      <td>753</td>\n",
       "      <td>1877</td>\n",
       "      <td>620</td>\n",
       "      <td>1367</td>\n",
       "      <td>1373</td>\n",
       "      <td>3244</td>\n",
       "      <td>754</td>\n",
       "      <td>27292</td>\n",
       "    </tr>\n",
       "    <tr>\n",
       "      <th>5</th>\n",
       "      <td>276</td>\n",
       "      <td>361</td>\n",
       "      <td>569</td>\n",
       "      <td>1626</td>\n",
       "      <td>959</td>\n",
       "      <td>1385</td>\n",
       "      <td>1528</td>\n",
       "      <td>3011</td>\n",
       "      <td>639</td>\n",
       "      <td>40318</td>\n",
       "    </tr>\n",
       "    <tr>\n",
       "      <th>6</th>\n",
       "      <td>276</td>\n",
       "      <td>293</td>\n",
       "      <td>392</td>\n",
       "      <td>1084</td>\n",
       "      <td>588</td>\n",
       "      <td>1885</td>\n",
       "      <td>980</td>\n",
       "      <td>2969</td>\n",
       "      <td>539</td>\n",
       "      <td>27297</td>\n",
       "    </tr>\n",
       "    <tr>\n",
       "      <th>7</th>\n",
       "      <td>276</td>\n",
       "      <td>3</td>\n",
       "      <td>4</td>\n",
       "      <td>16</td>\n",
       "      <td>26</td>\n",
       "      <td>27</td>\n",
       "      <td>30</td>\n",
       "      <td>43</td>\n",
       "      <td>46</td>\n",
       "      <td>4179</td>\n",
       "    </tr>\n",
       "  </tbody>\n",
       "</table>\n",
       "</div>"
      ],
      "text/plain": [
       "     Hour  Livechat  PublishedCount  SuppliersInvitedCount  DeadlineCount  \\\n",
       "Day                                                                         \n",
       "1     276         9             258                    272            224   \n",
       "2     276       318             601                   1279            483   \n",
       "3     276       334             719                   2203            621   \n",
       "4     276       334             753                   1877            620   \n",
       "5     276       361             569                   1626            959   \n",
       "6     276       293             392                   1084            588   \n",
       "7     276         3               4                     16             26   \n",
       "\n",
       "     SupplierDeadlineCount  CombinedRequests  CombinedSupplierAction  \\\n",
       "Day                                                                    \n",
       "1                      270               482                     542   \n",
       "2                     1254              1084                    2533   \n",
       "3                     1337              1340                    3540   \n",
       "4                     1367              1373                    3244   \n",
       "5                     1385              1528                    3011   \n",
       "6                     1885               980                    2969   \n",
       "7                       27                30                      43   \n",
       "\n",
       "     NewUserMail  NonRegMail  \n",
       "Day                           \n",
       "1            102        6281  \n",
       "2            714       24465  \n",
       "3            736       30777  \n",
       "4            754       27292  \n",
       "5            639       40318  \n",
       "6            539       27297  \n",
       "7             46        4179  "
      ]
     },
     "execution_count": 6,
     "metadata": {},
     "output_type": "execute_result"
    }
   ],
   "source": [
    "DOW_groupby = live_chat.groupby(\"Day\").sum()\n",
    "DOW_groupby"
   ]
  },
  {
   "cell_type": "markdown",
   "metadata": {},
   "source": [
    "**Livechat per day**\n",
    "\n",
    "As we can see below, the number of livechats per day remains fairly consistent on weekdays and then drops off massively on weekends. "
   ]
  },
  {
   "cell_type": "code",
   "execution_count": 7,
   "metadata": {},
   "outputs": [
    {
     "data": {
      "text/plain": [
       "Text(0,0.5,'Sum of Chats')"
      ]
     },
     "execution_count": 7,
     "metadata": {},
     "output_type": "execute_result"
    },
    {
     "data": {
      "image/png": "[encoded data removed]",
      "text/plain": [
       "<Figure size 432x288 with 1 Axes>"
      ]
     },
     "metadata": {
      "needs_background": "light"
     },
     "output_type": "display_data"
    }
   ],
   "source": [
    "day_series = DOW_groupby.index.values\n",
    "livechat_by_DOW = DOW_groupby[\"Livechat\"].values\n",
    "y_pos = np.arange(len(day_series))\n",
    "\n",
    "pyplt.bar(y_pos, livechat_by_DOW)\n",
    "pyplt.title(\"Livechat by Day of the Week\")\n",
    "pyplt.xlabel(\"Day\")\n",
    "pyplt.ylabel(\"Sum of Chats\")"
   ]
  },
  {
   "cell_type": "markdown",
   "metadata": {},
   "source": [
    "**CombinedActions per Day**\n",
    "\n",
    "There is slightly more variation in the number of combined Supplier invitations and deadlines per day. There is a relatively high amount of activity on Sundays with a small dip on Mondays. The Sunday activity can be explained by our Middle East based customers. The dip on Mondays is more than likely due a relatively low number of Deadlines falling on a Monday. We also encourage users to publish new requests on Tuesdays which is refected in that being the busiest day."
   ]
  },
  {
   "cell_type": "code",
   "execution_count": 8,
   "metadata": {},
   "outputs": [
    {
     "data": {
      "text/plain": [
       "Text(0,0.5,'Sum of Invited')"
      ]
     },
     "execution_count": 8,
     "metadata": {},
     "output_type": "execute_result"
    },
    {
     "data": {
      "image/png": "[encoded data removed]",
      "text/plain": [
       "<Figure size 432x288 with 1 Axes>"
      ]
     },
     "metadata": {
      "needs_background": "light"
     },
     "output_type": "display_data"
    }
   ],
   "source": [
    "combinv_by_DOW = DOW_groupby[\"CombinedSupplierAction\"].values\n",
    "\n",
    "pyplt.bar(y_pos, combinv_by_DOW)\n",
    "pyplt.title(\"CombinedActions by Day of the Week\")\n",
    "pyplt.xlabel(\"Day\")\n",
    "pyplt.ylabel(\"Sum of Invited\")"
   ]
  },
  {
   "cell_type": "markdown",
   "metadata": {},
   "source": [
    "**Combined Requests**\n",
    "\n",
    "The numbers below are also as I would expect. We encourage users to set request deadlines for Thursdays in order to lessen the possibility of being inundated with Customer Service Support request on Friday evenings. "
   ]
  },
  {
   "cell_type": "code",
   "execution_count": 9,
   "metadata": {},
   "outputs": [
    {
     "data": {
      "text/plain": [
       "Text(0,0.5,'Sum of Requests')"
      ]
     },
     "execution_count": 9,
     "metadata": {},
     "output_type": "execute_result"
    },
    {
     "data": {
      "image/png": "[encoded data removed]",
      "text/plain": [
       "<Figure size 432x288 with 1 Axes>"
      ]
     },
     "metadata": {
      "needs_background": "light"
     },
     "output_type": "display_data"
    }
   ],
   "source": [
    "combreq_by_DOW = DOW_groupby[\"CombinedRequests\"].values\n",
    "\n",
    "pyplt.bar(y_pos, combreq_by_DOW)\n",
    "pyplt.title(\"Requests by Day of the Week\")\n",
    "pyplt.xlabel(\"Day\")\n",
    "pyplt.ylabel(\"Sum of Requests\")"
   ]
  },
  {
   "cell_type": "markdown",
   "metadata": {},
   "source": [
    "**New User Registrations**\n",
    "\n",
    "In this variables case the week is more frontloaded. I don't have a good explaination for this other than people might leave request till the start of the next week to tackle."
   ]
  },
  {
   "cell_type": "code",
   "execution_count": 10,
   "metadata": {
    "scrolled": true
   },
   "outputs": [
    {
     "data": {
      "text/plain": [
       "Text(0,0.5,'Sum of New User Mails')"
      ]
     },
     "execution_count": 10,
     "metadata": {},
     "output_type": "execute_result"
    },
    {
     "data": {
      "image/png": "[encoded data removed]",
      "text/plain": [
       "<Figure size 432x288 with 1 Axes>"
      ]
     },
     "metadata": {
      "needs_background": "light"
     },
     "output_type": "display_data"
    }
   ],
   "source": [
    "newuser_by_DOW = DOW_groupby[\"NewUserMail\"].values\n",
    "\n",
    "pyplt.bar(y_pos, newuser_by_DOW)\n",
    "pyplt.title(\"New User by Day of the Week\")\n",
    "pyplt.xlabel(\"Day\")\n",
    "pyplt.ylabel(\"Sum of New User Mails\")"
   ]
  },
  {
   "cell_type": "markdown",
   "metadata": {},
   "source": [
    "**Other Mails**"
   ]
  },
  {
   "cell_type": "markdown",
   "metadata": {},
   "source": [
    "This variable shows the most variation between the days including, relatively the most Sunday activity. The increase of emails on Thursdays could be explained by an increase in reminder emails for deadlines as well as expiring Certificates (ISO9001, ISO270001, insurance details) which are scheduled to send on Thursdays. "
   ]
  },
  {
   "cell_type": "code",
   "execution_count": 11,
   "metadata": {},
   "outputs": [
    {
     "data": {
      "text/plain": [
       "Text(0,0.5,'Sum of Other Mails')"
      ]
     },
     "execution_count": 11,
     "metadata": {},
     "output_type": "execute_result"
    },
    {
     "data": {
      "image/png": "[encoded data removed]",
      "text/plain": [
       "<Figure size 432x288 with 1 Axes>"
      ]
     },
     "metadata": {
      "needs_background": "light"
     },
     "output_type": "display_data"
    }
   ],
   "source": [
    "nonregmail_by_DOW = DOW_groupby[\"NonRegMail\"].values\n",
    "\n",
    "pyplt.bar(y_pos, nonregmail_by_DOW)\n",
    "pyplt.title(\"Other Mails by Day of the Week\")\n",
    "pyplt.xlabel(\"Day\")\n",
    "pyplt.ylabel(\"Sum of Other Mails\")\n"
   ]
  },
  {
   "cell_type": "markdown",
   "metadata": {},
   "source": [
    "### 3.1.1 Daily Comparison - Conclusion"
   ]
  },
  {
   "cell_type": "markdown",
   "metadata": {},
   "source": [
    "As expected there is a lot of variation between the different days of the week. However, I was not expecting the patterns to differ so much of the different variables. In any case we will have to simulate the distributions for each day seperately and then combine the data to create a week rather than using the same average for all days. "
   ]
  },
  {
   "cell_type": "markdown",
   "metadata": {},
   "source": [
    "## 3.2 Relationship Between Hour of the Day and System Activity"
   ]
  },
  {
   "cell_type": "markdown",
   "metadata": {},
   "source": [
    "It also needs to be confirmed if there is a large variation in the distribution of activity throughout the day. If each hour differs greatly we will have to calculate the distribution for each day independently of the other."
   ]
  },
  {
   "cell_type": "code",
   "execution_count": 12,
   "metadata": {},
   "outputs": [
    {
     "data": {
      "text/html": [
       "<div>\n",
       "<style scoped>\n",
       "    .dataframe tbody tr th:only-of-type {\n",
       "        vertical-align: middle;\n",
       "    }\n",
       "\n",
       "    .dataframe tbody tr th {\n",
       "        vertical-align: top;\n",
       "    }\n",
       "\n",
       "    .dataframe thead th {\n",
       "        text-align: right;\n",
       "    }\n",
       "</style>\n",
       "<table border=\"1\" class=\"dataframe\">\n",
       "  <thead>\n",
       "    <tr style=\"text-align: right;\">\n",
       "      <th></th>\n",
       "      <th>Day</th>\n",
       "      <th>Livechat</th>\n",
       "      <th>PublishedCount</th>\n",
       "      <th>SuppliersInvitedCount</th>\n",
       "      <th>DeadlineCount</th>\n",
       "      <th>SupplierDeadlineCount</th>\n",
       "      <th>CombinedRequests</th>\n",
       "      <th>CombinedSupplierAction</th>\n",
       "      <th>NewUserMail</th>\n",
       "      <th>NonRegMail</th>\n",
       "    </tr>\n",
       "    <tr>\n",
       "      <th>Hour</th>\n",
       "      <th></th>\n",
       "      <th></th>\n",
       "      <th></th>\n",
       "      <th></th>\n",
       "      <th></th>\n",
       "      <th></th>\n",
       "      <th></th>\n",
       "      <th></th>\n",
       "      <th></th>\n",
       "      <th></th>\n",
       "    </tr>\n",
       "  </thead>\n",
       "  <tbody>\n",
       "    <tr>\n",
       "      <th>0</th>\n",
       "      <td>28</td>\n",
       "      <td>3</td>\n",
       "      <td>18</td>\n",
       "      <td>31</td>\n",
       "      <td>33</td>\n",
       "      <td>76</td>\n",
       "      <td>51</td>\n",
       "      <td>107</td>\n",
       "      <td>58</td>\n",
       "      <td>644</td>\n",
       "    </tr>\n",
       "    <tr>\n",
       "      <th>1</th>\n",
       "      <td>28</td>\n",
       "      <td>6</td>\n",
       "      <td>40</td>\n",
       "      <td>155</td>\n",
       "      <td>64</td>\n",
       "      <td>78</td>\n",
       "      <td>104</td>\n",
       "      <td>233</td>\n",
       "      <td>60</td>\n",
       "      <td>1277</td>\n",
       "    </tr>\n",
       "    <tr>\n",
       "      <th>2</th>\n",
       "      <td>28</td>\n",
       "      <td>7</td>\n",
       "      <td>58</td>\n",
       "      <td>126</td>\n",
       "      <td>13</td>\n",
       "      <td>33</td>\n",
       "      <td>71</td>\n",
       "      <td>159</td>\n",
       "      <td>53</td>\n",
       "      <td>1120</td>\n",
       "    </tr>\n",
       "    <tr>\n",
       "      <th>3</th>\n",
       "      <td>28</td>\n",
       "      <td>13</td>\n",
       "      <td>110</td>\n",
       "      <td>249</td>\n",
       "      <td>33</td>\n",
       "      <td>56</td>\n",
       "      <td>143</td>\n",
       "      <td>305</td>\n",
       "      <td>60</td>\n",
       "      <td>987</td>\n",
       "    </tr>\n",
       "    <tr>\n",
       "      <th>4</th>\n",
       "      <td>28</td>\n",
       "      <td>3</td>\n",
       "      <td>199</td>\n",
       "      <td>321</td>\n",
       "      <td>271</td>\n",
       "      <td>601</td>\n",
       "      <td>470</td>\n",
       "      <td>922</td>\n",
       "      <td>44</td>\n",
       "      <td>1452</td>\n",
       "    </tr>\n",
       "    <tr>\n",
       "      <th>5</th>\n",
       "      <td>28</td>\n",
       "      <td>9</td>\n",
       "      <td>179</td>\n",
       "      <td>227</td>\n",
       "      <td>114</td>\n",
       "      <td>138</td>\n",
       "      <td>293</td>\n",
       "      <td>365</td>\n",
       "      <td>79</td>\n",
       "      <td>1260</td>\n",
       "    </tr>\n",
       "    <tr>\n",
       "      <th>6</th>\n",
       "      <td>28</td>\n",
       "      <td>49</td>\n",
       "      <td>202</td>\n",
       "      <td>282</td>\n",
       "      <td>173</td>\n",
       "      <td>267</td>\n",
       "      <td>375</td>\n",
       "      <td>549</td>\n",
       "      <td>118</td>\n",
       "      <td>2378</td>\n",
       "    </tr>\n",
       "    <tr>\n",
       "      <th>7</th>\n",
       "      <td>28</td>\n",
       "      <td>68</td>\n",
       "      <td>148</td>\n",
       "      <td>338</td>\n",
       "      <td>69</td>\n",
       "      <td>111</td>\n",
       "      <td>217</td>\n",
       "      <td>449</td>\n",
       "      <td>212</td>\n",
       "      <td>4199</td>\n",
       "    </tr>\n",
       "    <tr>\n",
       "      <th>8</th>\n",
       "      <td>28</td>\n",
       "      <td>159</td>\n",
       "      <td>317</td>\n",
       "      <td>683</td>\n",
       "      <td>128</td>\n",
       "      <td>236</td>\n",
       "      <td>445</td>\n",
       "      <td>919</td>\n",
       "      <td>330</td>\n",
       "      <td>10510</td>\n",
       "    </tr>\n",
       "    <tr>\n",
       "      <th>9</th>\n",
       "      <td>28</td>\n",
       "      <td>223</td>\n",
       "      <td>428</td>\n",
       "      <td>804</td>\n",
       "      <td>220</td>\n",
       "      <td>476</td>\n",
       "      <td>648</td>\n",
       "      <td>1280</td>\n",
       "      <td>383</td>\n",
       "      <td>27693</td>\n",
       "    </tr>\n",
       "    <tr>\n",
       "      <th>10</th>\n",
       "      <td>28</td>\n",
       "      <td>233</td>\n",
       "      <td>296</td>\n",
       "      <td>830</td>\n",
       "      <td>214</td>\n",
       "      <td>337</td>\n",
       "      <td>510</td>\n",
       "      <td>1167</td>\n",
       "      <td>325</td>\n",
       "      <td>12642</td>\n",
       "    </tr>\n",
       "    <tr>\n",
       "      <th>11</th>\n",
       "      <td>28</td>\n",
       "      <td>164</td>\n",
       "      <td>276</td>\n",
       "      <td>514</td>\n",
       "      <td>414</td>\n",
       "      <td>1378</td>\n",
       "      <td>690</td>\n",
       "      <td>1892</td>\n",
       "      <td>263</td>\n",
       "      <td>9546</td>\n",
       "    </tr>\n",
       "    <tr>\n",
       "      <th>12</th>\n",
       "      <td>28</td>\n",
       "      <td>179</td>\n",
       "      <td>211</td>\n",
       "      <td>403</td>\n",
       "      <td>178</td>\n",
       "      <td>351</td>\n",
       "      <td>389</td>\n",
       "      <td>754</td>\n",
       "      <td>362</td>\n",
       "      <td>42165</td>\n",
       "    </tr>\n",
       "    <tr>\n",
       "      <th>13</th>\n",
       "      <td>28</td>\n",
       "      <td>152</td>\n",
       "      <td>188</td>\n",
       "      <td>562</td>\n",
       "      <td>734</td>\n",
       "      <td>1069</td>\n",
       "      <td>922</td>\n",
       "      <td>1631</td>\n",
       "      <td>309</td>\n",
       "      <td>11984</td>\n",
       "    </tr>\n",
       "    <tr>\n",
       "      <th>14</th>\n",
       "      <td>28</td>\n",
       "      <td>160</td>\n",
       "      <td>176</td>\n",
       "      <td>1032</td>\n",
       "      <td>101</td>\n",
       "      <td>327</td>\n",
       "      <td>277</td>\n",
       "      <td>1359</td>\n",
       "      <td>306</td>\n",
       "      <td>11912</td>\n",
       "    </tr>\n",
       "    <tr>\n",
       "      <th>15</th>\n",
       "      <td>28</td>\n",
       "      <td>140</td>\n",
       "      <td>187</td>\n",
       "      <td>1058</td>\n",
       "      <td>190</td>\n",
       "      <td>499</td>\n",
       "      <td>377</td>\n",
       "      <td>1557</td>\n",
       "      <td>260</td>\n",
       "      <td>10393</td>\n",
       "    </tr>\n",
       "    <tr>\n",
       "      <th>16</th>\n",
       "      <td>28</td>\n",
       "      <td>63</td>\n",
       "      <td>126</td>\n",
       "      <td>399</td>\n",
       "      <td>399</td>\n",
       "      <td>1055</td>\n",
       "      <td>525</td>\n",
       "      <td>1454</td>\n",
       "      <td>104</td>\n",
       "      <td>4876</td>\n",
       "    </tr>\n",
       "    <tr>\n",
       "      <th>17</th>\n",
       "      <td>28</td>\n",
       "      <td>6</td>\n",
       "      <td>35</td>\n",
       "      <td>91</td>\n",
       "      <td>85</td>\n",
       "      <td>239</td>\n",
       "      <td>120</td>\n",
       "      <td>330</td>\n",
       "      <td>41</td>\n",
       "      <td>1904</td>\n",
       "    </tr>\n",
       "    <tr>\n",
       "      <th>18</th>\n",
       "      <td>28</td>\n",
       "      <td>1</td>\n",
       "      <td>19</td>\n",
       "      <td>62</td>\n",
       "      <td>22</td>\n",
       "      <td>40</td>\n",
       "      <td>41</td>\n",
       "      <td>102</td>\n",
       "      <td>25</td>\n",
       "      <td>1058</td>\n",
       "    </tr>\n",
       "    <tr>\n",
       "      <th>19</th>\n",
       "      <td>28</td>\n",
       "      <td>2</td>\n",
       "      <td>22</td>\n",
       "      <td>51</td>\n",
       "      <td>7</td>\n",
       "      <td>11</td>\n",
       "      <td>29</td>\n",
       "      <td>62</td>\n",
       "      <td>28</td>\n",
       "      <td>748</td>\n",
       "    </tr>\n",
       "    <tr>\n",
       "      <th>20</th>\n",
       "      <td>28</td>\n",
       "      <td>4</td>\n",
       "      <td>23</td>\n",
       "      <td>54</td>\n",
       "      <td>2</td>\n",
       "      <td>5</td>\n",
       "      <td>25</td>\n",
       "      <td>59</td>\n",
       "      <td>33</td>\n",
       "      <td>563</td>\n",
       "    </tr>\n",
       "    <tr>\n",
       "      <th>21</th>\n",
       "      <td>28</td>\n",
       "      <td>3</td>\n",
       "      <td>10</td>\n",
       "      <td>28</td>\n",
       "      <td>15</td>\n",
       "      <td>20</td>\n",
       "      <td>25</td>\n",
       "      <td>48</td>\n",
       "      <td>20</td>\n",
       "      <td>411</td>\n",
       "    </tr>\n",
       "    <tr>\n",
       "      <th>22</th>\n",
       "      <td>28</td>\n",
       "      <td>1</td>\n",
       "      <td>11</td>\n",
       "      <td>34</td>\n",
       "      <td>30</td>\n",
       "      <td>108</td>\n",
       "      <td>41</td>\n",
       "      <td>142</td>\n",
       "      <td>28</td>\n",
       "      <td>437</td>\n",
       "    </tr>\n",
       "    <tr>\n",
       "      <th>23</th>\n",
       "      <td>28</td>\n",
       "      <td>4</td>\n",
       "      <td>17</td>\n",
       "      <td>23</td>\n",
       "      <td>12</td>\n",
       "      <td>14</td>\n",
       "      <td>29</td>\n",
       "      <td>37</td>\n",
       "      <td>29</td>\n",
       "      <td>450</td>\n",
       "    </tr>\n",
       "  </tbody>\n",
       "</table>\n",
       "</div>"
      ],
      "text/plain": [
       "      Day  Livechat  PublishedCount  SuppliersInvitedCount  DeadlineCount  \\\n",
       "Hour                                                                        \n",
       "0      28         3              18                     31             33   \n",
       "1      28         6              40                    155             64   \n",
       "2      28         7              58                    126             13   \n",
       "3      28        13             110                    249             33   \n",
       "4      28         3             199                    321            271   \n",
       "5      28         9             179                    227            114   \n",
       "6      28        49             202                    282            173   \n",
       "7      28        68             148                    338             69   \n",
       "8      28       159             317                    683            128   \n",
       "9      28       223             428                    804            220   \n",
       "10     28       233             296                    830            214   \n",
       "11     28       164             276                    514            414   \n",
       "12     28       179             211                    403            178   \n",
       "13     28       152             188                    562            734   \n",
       "14     28       160             176                   1032            101   \n",
       "15     28       140             187                   1058            190   \n",
       "16     28        63             126                    399            399   \n",
       "17     28         6              35                     91             85   \n",
       "18     28         1              19                     62             22   \n",
       "19     28         2              22                     51              7   \n",
       "20     28         4              23                     54              2   \n",
       "21     28         3              10                     28             15   \n",
       "22     28         1              11                     34             30   \n",
       "23     28         4              17                     23             12   \n",
       "\n",
       "      SupplierDeadlineCount  CombinedRequests  CombinedSupplierAction  \\\n",
       "Hour                                                                    \n",
       "0                        76                51                     107   \n",
       "1                        78               104                     233   \n",
       "2                        33                71                     159   \n",
       "3                        56               143                     305   \n",
       "4                       601               470                     922   \n",
       "5                       138               293                     365   \n",
       "6                       267               375                     549   \n",
       "7                       111               217                     449   \n",
       "8                       236               445                     919   \n",
       "9                       476               648                    1280   \n",
       "10                      337               510                    1167   \n",
       "11                     1378               690                    1892   \n",
       "12                      351               389                     754   \n",
       "13                     1069               922                    1631   \n",
       "14                      327               277                    1359   \n",
       "15                      499               377                    1557   \n",
       "16                     1055               525                    1454   \n",
       "17                      239               120                     330   \n",
       "18                       40                41                     102   \n",
       "19                       11                29                      62   \n",
       "20                        5                25                      59   \n",
       "21                       20                25                      48   \n",
       "22                      108                41                     142   \n",
       "23                       14                29                      37   \n",
       "\n",
       "      NewUserMail  NonRegMail  \n",
       "Hour                           \n",
       "0              58         644  \n",
       "1              60        1277  \n",
       "2              53        1120  \n",
       "3              60         987  \n",
       "4              44        1452  \n",
       "5              79        1260  \n",
       "6             118        2378  \n",
       "7             212        4199  \n",
       "8             330       10510  \n",
       "9             383       27693  \n",
       "10            325       12642  \n",
       "11            263        9546  \n",
       "12            362       42165  \n",
       "13            309       11984  \n",
       "14            306       11912  \n",
       "15            260       10393  \n",
       "16            104        4876  \n",
       "17             41        1904  \n",
       "18             25        1058  \n",
       "19             28         748  \n",
       "20             33         563  \n",
       "21             20         411  \n",
       "22             28         437  \n",
       "23             29         450  "
      ]
     },
     "execution_count": 12,
     "metadata": {},
     "output_type": "execute_result"
    }
   ],
   "source": [
    "# Groupt the variables by hour of the day and sum\n",
    "HOD_groupby = live_chat.groupby(\"Hour\").sum()\n",
    "HOD_groupby"
   ]
  },
  {
   "cell_type": "markdown",
   "metadata": {},
   "source": [
    "As wee can see below there is indeed a large variation in activity from hour to hour throughout the course of the day. I would expect there to be a difference between the early morning / night and office hours, but there is still a good degree of variation with office hours. There is a general trend of spikes either side of lunch, but no other set pattern that each of the variables follow withing office hours."
   ]
  },
  {
   "cell_type": "code",
   "execution_count": 13,
   "metadata": {},
   "outputs": [
    {
     "data": {
      "text/plain": [
       "Text(0,0.5,'Sum of Chats')"
      ]
     },
     "execution_count": 13,
     "metadata": {},
     "output_type": "execute_result"
    },
    {
     "data": {
      "image/png": "[encoded data removed]",
      "text/plain": [
       "<Figure size 432x288 with 1 Axes>"
      ]
     },
     "metadata": {
      "needs_background": "light"
     },
     "output_type": "display_data"
    }
   ],
   "source": [
    "hour_series = HOD_groupby.index.values\n",
    "livechat_by_HOD = HOD_groupby[\"Livechat\"].values\n",
    "y_posH = np.arange(len(hour_series))\n",
    "\n",
    "pyplt.bar(y_posH, livechat_by_HOD)\n",
    "pyplt.title(\"Livechat by Hour\")\n",
    "pyplt.xlabel(\"Hour\")\n",
    "pyplt.ylabel(\"Sum of Chats\")"
   ]
  },
  {
   "cell_type": "code",
   "execution_count": 14,
   "metadata": {},
   "outputs": [
    {
     "name": "stderr",
     "output_type": "stream",
     "text": [
      "C:\\Users\\Conor\\Anaconda3\\lib\\site-packages\\scipy\\stats\\stats.py:1713: FutureWarning: Using a non-tuple sequence for multidimensional indexing is deprecated; use `arr[tuple(seq)]` instead of `arr[seq]`. In the future this will be interpreted as an array index, `arr[np.array(seq)]`, which will result either in an error or a different result.\n",
      "  return np.add.reduce(sorted[indexer] * weights, axis=axis) / sumval\n"
     ]
    },
    {
     "data": {
      "text/plain": [
       "<matplotlib.axes._subplots.AxesSubplot at 0x2015bd99588>"
      ]
     },
     "execution_count": 14,
     "metadata": {},
     "output_type": "execute_result"
    },
    {
     "data": {
      "image/png": "[encoded data removed]",
      "text/plain": [
       "<Figure size 432x288 with 1 Axes>"
      ]
     },
     "metadata": {
      "needs_background": "light"
     },
     "output_type": "display_data"
    }
   ],
   "source": [
    "sns.distplot(livechat_by_HOD)"
   ]
  },
  {
   "cell_type": "code",
   "execution_count": 15,
   "metadata": {},
   "outputs": [
    {
     "data": {
      "text/plain": [
       "Text(0,0.5,'Sum of Requests')"
      ]
     },
     "execution_count": 15,
     "metadata": {},
     "output_type": "execute_result"
    },
    {
     "data": {
      "image/png": "[encoded data removed]",
      "text/plain": [
       "<Figure size 432x288 with 1 Axes>"
      ]
     },
     "metadata": {
      "needs_background": "light"
     },
     "output_type": "display_data"
    }
   ],
   "source": [
    "requests_by_HOD = HOD_groupby[\"CombinedRequests\"].values\n",
    "\n",
    "pyplt.bar(y_posH, requests_by_HOD)\n",
    "pyplt.title(\"Requests Starting and Ending by Hour\")\n",
    "pyplt.xlabel(\"Hour\")\n",
    "pyplt.ylabel(\"Sum of Requests\")"
   ]
  },
  {
   "cell_type": "code",
   "execution_count": 16,
   "metadata": {},
   "outputs": [
    {
     "data": {
      "text/plain": [
       "Text(0,0.5,'Sum of Invited')"
      ]
     },
     "execution_count": 16,
     "metadata": {},
     "output_type": "execute_result"
    },
    {
     "data": {
      "image/png": "[encoded data removed]",
      "text/plain": [
       "<Figure size 432x288 with 1 Axes>"
      ]
     },
     "metadata": {
      "needs_background": "light"
     },
     "output_type": "display_data"
    }
   ],
   "source": [
    "actions_by_HOD = HOD_groupby[\"CombinedSupplierAction\"].values\n",
    "\n",
    "pyplt.bar(y_posH, actions_by_HOD)\n",
    "pyplt.title(\"Supplier Actions by Hour\")\n",
    "pyplt.xlabel(\"Hour\")\n",
    "pyplt.ylabel(\"Sum of Invited\")"
   ]
  },
  {
   "cell_type": "code",
   "execution_count": 17,
   "metadata": {},
   "outputs": [
    {
     "data": {
      "text/plain": [
       "Text(0,0.5,'Sum of Mails')"
      ]
     },
     "execution_count": 17,
     "metadata": {},
     "output_type": "execute_result"
    },
    {
     "data": {
      "image/png": "[encoded data removed]",
      "text/plain": [
       "<Figure size 432x288 with 1 Axes>"
      ]
     },
     "metadata": {
      "needs_background": "light"
     },
     "output_type": "display_data"
    }
   ],
   "source": [
    "newusermail_by_HOD = HOD_groupby[\"NewUserMail\"].values\n",
    "\n",
    "pyplt.bar(y_posH, newusermail_by_HOD)\n",
    "pyplt.title(\"New User Mails by Hour\")\n",
    "pyplt.xlabel(\"Hour\")\n",
    "pyplt.ylabel(\"Sum of Mails\")"
   ]
  },
  {
   "cell_type": "code",
   "execution_count": 18,
   "metadata": {
    "scrolled": true
   },
   "outputs": [
    {
     "data": {
      "text/plain": [
       "Text(0,0.5,'Sum of Mails')"
      ]
     },
     "execution_count": 18,
     "metadata": {},
     "output_type": "execute_result"
    },
    {
     "data": {
      "image/png": "[encoded data removed]",
      "text/plain": [
       "<Figure size 432x288 with 1 Axes>"
      ]
     },
     "metadata": {
      "needs_background": "light"
     },
     "output_type": "display_data"
    }
   ],
   "source": [
    "nonregmail_by_HOD = HOD_groupby[\"NonRegMail\"].values\n",
    "\n",
    "pyplt.bar(y_posH, nonregmail_by_HOD)\n",
    "pyplt.title(\"Other Mails by Hour\")\n",
    "pyplt.xlabel(\"Hour\")\n",
    "pyplt.ylabel(\"Sum of Mails\")"
   ]
  },
  {
   "cell_type": "markdown",
   "metadata": {},
   "source": [
    "### 3.2.1 Hourly Comparison - Conclusion"
   ]
  },
  {
   "cell_type": "markdown",
   "metadata": {},
   "source": [
    "As we have seen, there is a great variation day by and hour by hour. Also patterns, distributions are not consistent across the variables. We will therefore have to simulate our data, hour by hour, day by day, and variable by variable."
   ]
  },
  {
   "cell_type": "markdown",
   "metadata": {},
   "source": [
    "## 3.3 View of Relationships Between Variables Over Time"
   ]
  },
  {
   "cell_type": "markdown",
   "metadata": {},
   "source": [
    "The below line charts show changes in the variables values hour by hour and day by day. By looking at these graphs we can gain understanding of which variables most closely mirror or look like they influencing the number of Livechats"
   ]
  },
  {
   "cell_type": "markdown",
   "metadata": {},
   "source": [
    "**Livechats & New User Registrations**"
   ]
  },
  {
   "cell_type": "markdown",
   "metadata": {},
   "source": [
    "There seems to be a strong relationship here. This could be a coincidence, but we will see below that they highly positively corrolated."
   ]
  },
  {
   "cell_type": "code",
   "execution_count": 19,
   "metadata": {},
   "outputs": [
    {
     "data": {
      "image/png": "[encoded data removed]",
      "text/plain": [
       "<Figure size 1440x720 with 1 Axes>"
      ]
     },
     "metadata": {
      "needs_background": "light"
     },
     "output_type": "display_data"
    }
   ],
   "source": [
    "ax = live_chat[[\"Livechat\",\"NewUserMail\"]].plot(figsize=(20,10))\n",
    "ax.legend(loc='center left', bbox_to_anchor=(1, 0.5));"
   ]
  },
  {
   "cell_type": "markdown",
   "metadata": {},
   "source": [
    "**Livechats and Published Requests**\n",
    "\n",
    "Looking a the graph below it would seem that there is an upswing in the number of Livechats after a new Request is published."
   ]
  },
  {
   "cell_type": "code",
   "execution_count": 20,
   "metadata": {},
   "outputs": [
    {
     "data": {
      "image/png": "[encoded data removed]",
      "text/plain": [
       "<Figure size 1440x720 with 1 Axes>"
      ]
     },
     "metadata": {
      "needs_background": "light"
     },
     "output_type": "display_data"
    }
   ],
   "source": [
    "ax = live_chat[[\"Livechat\",\"PublishedCount\"]].plot(figsize=(20,10))\n",
    "ax.legend(loc='center left', bbox_to_anchor=(1, 0.5));"
   ]
  },
  {
   "cell_type": "markdown",
   "metadata": {},
   "source": [
    "**Livechat and Invited Suppliers**\n",
    "\n",
    "Massive spike on Tuesdays is not entirely unexpected. We often encourage customers to publish reqeusts where they are onboarding their supply chains on Tuesdays. "
   ]
  },
  {
   "cell_type": "code",
   "execution_count": 21,
   "metadata": {},
   "outputs": [
    {
     "data": {
      "image/png": "[encoded data removed]",
      "text/plain": [
       "<Figure size 1440x720 with 1 Axes>"
      ]
     },
     "metadata": {
      "needs_background": "light"
     },
     "output_type": "display_data"
    }
   ],
   "source": [
    "ax = live_chat[[\"Livechat\",\"SuppliersInvitedCount\"]].plot(figsize=(20,10))\n",
    "ax.legend(loc='center left', bbox_to_anchor=(1, 0.5));"
   ]
  },
  {
   "cell_type": "markdown",
   "metadata": {},
   "source": [
    "**Livechat & Deadlines**\n",
    "\n",
    "Massive spike on Thursdays is also to be expected. We have Middle East based customer who is responsible for publishing large amounts of requests as part of their supplier registration process. Each supplier might recieve 4 different requests from this one customer. These tend to close on a Thursday as the weekend in the Middle East is Friday and Saturday. However, it is interesting to note that this does not result in a large upswing in Livechats. Presumably, the suppliers have done what they need to do a this stage."
   ]
  },
  {
   "cell_type": "code",
   "execution_count": 22,
   "metadata": {},
   "outputs": [
    {
     "data": {
      "image/png": "[encoded data removed]",
      "text/plain": [
       "<Figure size 1440x720 with 1 Axes>"
      ]
     },
     "metadata": {
      "needs_background": "light"
     },
     "output_type": "display_data"
    }
   ],
   "source": [
    "ax = live_chat[[\"Livechat\",\"DeadlineCount\"]].plot(figsize=(20,10))\n",
    "ax.legend(loc='center left', bbox_to_anchor=(1, 0.5));"
   ]
  },
  {
   "cell_type": "markdown",
   "metadata": {},
   "source": [
    "### 3.3.1 Relationships Overtime - Conclusion"
   ]
  },
  {
   "cell_type": "markdown",
   "metadata": {},
   "source": [
    "There seems to be a positive relationship between the number of Livechats and other variables over time. We will at this more closely by calculating corrolation and through linear regression below."
   ]
  },
  {
   "cell_type": "markdown",
   "metadata": {},
   "source": [
    "## 3.4 Corrolation and Linear Regression"
   ]
  },
  {
   "cell_type": "markdown",
   "metadata": {},
   "source": [
    "In the below sections we will see which variables have the most influence on the number of livechats and best predict the number of livechats that will occur. We will then use this to select the variables we use in the activity increase models. "
   ]
  },
  {
   "cell_type": "markdown",
   "metadata": {},
   "source": [
    "### 3.4.1 Corrolation"
   ]
  },
  {
   "cell_type": "markdown",
   "metadata": {},
   "source": [
    "As we can see in the below corrolation table and corrolation heatmap, all of the variables (not including hour and day) have a positive corrolation with the number of Livechats."
   ]
  },
  {
   "cell_type": "code",
   "execution_count": 23,
   "metadata": {},
   "outputs": [
    {
     "data": {
      "text/html": [
       "<div>\n",
       "<style scoped>\n",
       "    .dataframe tbody tr th:only-of-type {\n",
       "        vertical-align: middle;\n",
       "    }\n",
       "\n",
       "    .dataframe tbody tr th {\n",
       "        vertical-align: top;\n",
       "    }\n",
       "\n",
       "    .dataframe thead th {\n",
       "        text-align: right;\n",
       "    }\n",
       "</style>\n",
       "<table border=\"1\" class=\"dataframe\">\n",
       "  <thead>\n",
       "    <tr style=\"text-align: right;\">\n",
       "      <th></th>\n",
       "      <th>Day</th>\n",
       "      <th>Hour</th>\n",
       "      <th>Livechat</th>\n",
       "      <th>PublishedCount</th>\n",
       "      <th>SuppliersInvitedCount</th>\n",
       "      <th>DeadlineCount</th>\n",
       "      <th>SupplierDeadlineCount</th>\n",
       "      <th>CombinedRequests</th>\n",
       "      <th>CombinedSupplierAction</th>\n",
       "      <th>NewUserMail</th>\n",
       "      <th>NonRegMail</th>\n",
       "    </tr>\n",
       "  </thead>\n",
       "  <tbody>\n",
       "    <tr>\n",
       "      <th>Day</th>\n",
       "      <td>1.000000</td>\n",
       "      <td>0.000000</td>\n",
       "      <td>-0.008015</td>\n",
       "      <td>-0.179942</td>\n",
       "      <td>-0.063806</td>\n",
       "      <td>-0.003259</td>\n",
       "      <td>0.022352</td>\n",
       "      <td>-0.074693</td>\n",
       "      <td>-0.025912</td>\n",
       "      <td>-0.073793</td>\n",
       "      <td>0.014096</td>\n",
       "    </tr>\n",
       "    <tr>\n",
       "      <th>Hour</th>\n",
       "      <td>0.000000</td>\n",
       "      <td>1.000000</td>\n",
       "      <td>-0.045864</td>\n",
       "      <td>-0.241421</td>\n",
       "      <td>-0.067998</td>\n",
       "      <td>-0.037636</td>\n",
       "      <td>-0.008787</td>\n",
       "      <td>-0.125697</td>\n",
       "      <td>-0.046646</td>\n",
       "      <td>-0.104177</td>\n",
       "      <td>-0.023836</td>\n",
       "    </tr>\n",
       "    <tr>\n",
       "      <th>Livechat</th>\n",
       "      <td>-0.008015</td>\n",
       "      <td>-0.045864</td>\n",
       "      <td>1.000000</td>\n",
       "      <td>0.782965</td>\n",
       "      <td>0.666309</td>\n",
       "      <td>0.393666</td>\n",
       "      <td>0.464363</td>\n",
       "      <td>0.615745</td>\n",
       "      <td>0.677853</td>\n",
       "      <td>0.932075</td>\n",
       "      <td>0.707275</td>\n",
       "    </tr>\n",
       "    <tr>\n",
       "      <th>PublishedCount</th>\n",
       "      <td>-0.179942</td>\n",
       "      <td>-0.241421</td>\n",
       "      <td>0.782965</td>\n",
       "      <td>1.000000</td>\n",
       "      <td>0.647514</td>\n",
       "      <td>0.409971</td>\n",
       "      <td>0.464122</td>\n",
       "      <td>0.715316</td>\n",
       "      <td>0.666237</td>\n",
       "      <td>0.806586</td>\n",
       "      <td>0.524166</td>\n",
       "    </tr>\n",
       "    <tr>\n",
       "      <th>SuppliersInvitedCount</th>\n",
       "      <td>-0.063806</td>\n",
       "      <td>-0.067998</td>\n",
       "      <td>0.666309</td>\n",
       "      <td>0.647514</td>\n",
       "      <td>1.000000</td>\n",
       "      <td>0.331686</td>\n",
       "      <td>0.402064</td>\n",
       "      <td>0.513914</td>\n",
       "      <td>0.845233</td>\n",
       "      <td>0.685207</td>\n",
       "      <td>0.398718</td>\n",
       "    </tr>\n",
       "    <tr>\n",
       "      <th>DeadlineCount</th>\n",
       "      <td>-0.003259</td>\n",
       "      <td>-0.037636</td>\n",
       "      <td>0.393666</td>\n",
       "      <td>0.409971</td>\n",
       "      <td>0.331686</td>\n",
       "      <td>1.000000</td>\n",
       "      <td>0.832608</td>\n",
       "      <td>0.930635</td>\n",
       "      <td>0.688470</td>\n",
       "      <td>0.404578</td>\n",
       "      <td>0.248604</td>\n",
       "    </tr>\n",
       "    <tr>\n",
       "      <th>SupplierDeadlineCount</th>\n",
       "      <td>0.022352</td>\n",
       "      <td>-0.008787</td>\n",
       "      <td>0.464363</td>\n",
       "      <td>0.464122</td>\n",
       "      <td>0.402064</td>\n",
       "      <td>0.832608</td>\n",
       "      <td>1.000000</td>\n",
       "      <td>0.824114</td>\n",
       "      <td>0.829139</td>\n",
       "      <td>0.473573</td>\n",
       "      <td>0.271595</td>\n",
       "    </tr>\n",
       "    <tr>\n",
       "      <th>CombinedRequests</th>\n",
       "      <td>-0.074693</td>\n",
       "      <td>-0.125697</td>\n",
       "      <td>0.615745</td>\n",
       "      <td>0.715316</td>\n",
       "      <td>0.513914</td>\n",
       "      <td>0.930635</td>\n",
       "      <td>0.824114</td>\n",
       "      <td>1.000000</td>\n",
       "      <td>0.794775</td>\n",
       "      <td>0.633582</td>\n",
       "      <td>0.400772</td>\n",
       "    </tr>\n",
       "    <tr>\n",
       "      <th>CombinedSupplierAction</th>\n",
       "      <td>-0.025912</td>\n",
       "      <td>-0.046646</td>\n",
       "      <td>0.677853</td>\n",
       "      <td>0.666237</td>\n",
       "      <td>0.845233</td>\n",
       "      <td>0.688470</td>\n",
       "      <td>0.829139</td>\n",
       "      <td>0.794775</td>\n",
       "      <td>1.000000</td>\n",
       "      <td>0.694767</td>\n",
       "      <td>0.401961</td>\n",
       "    </tr>\n",
       "    <tr>\n",
       "      <th>NewUserMail</th>\n",
       "      <td>-0.073793</td>\n",
       "      <td>-0.104177</td>\n",
       "      <td>0.932075</td>\n",
       "      <td>0.806586</td>\n",
       "      <td>0.685207</td>\n",
       "      <td>0.404578</td>\n",
       "      <td>0.473573</td>\n",
       "      <td>0.633582</td>\n",
       "      <td>0.694767</td>\n",
       "      <td>1.000000</td>\n",
       "      <td>0.694883</td>\n",
       "    </tr>\n",
       "    <tr>\n",
       "      <th>NonRegMail</th>\n",
       "      <td>0.014096</td>\n",
       "      <td>-0.023836</td>\n",
       "      <td>0.707275</td>\n",
       "      <td>0.524166</td>\n",
       "      <td>0.398718</td>\n",
       "      <td>0.248604</td>\n",
       "      <td>0.271595</td>\n",
       "      <td>0.400772</td>\n",
       "      <td>0.401961</td>\n",
       "      <td>0.694883</td>\n",
       "      <td>1.000000</td>\n",
       "    </tr>\n",
       "  </tbody>\n",
       "</table>\n",
       "</div>"
      ],
      "text/plain": [
       "                             Day      Hour  Livechat  PublishedCount  \\\n",
       "Day                     1.000000  0.000000 -0.008015       -0.179942   \n",
       "Hour                    0.000000  1.000000 -0.045864       -0.241421   \n",
       "Livechat               -0.008015 -0.045864  1.000000        0.782965   \n",
       "PublishedCount         -0.179942 -0.241421  0.782965        1.000000   \n",
       "SuppliersInvitedCount  -0.063806 -0.067998  0.666309        0.647514   \n",
       "DeadlineCount          -0.003259 -0.037636  0.393666        0.409971   \n",
       "SupplierDeadlineCount   0.022352 -0.008787  0.464363        0.464122   \n",
       "CombinedRequests       -0.074693 -0.125697  0.615745        0.715316   \n",
       "CombinedSupplierAction -0.025912 -0.046646  0.677853        0.666237   \n",
       "NewUserMail            -0.073793 -0.104177  0.932075        0.806586   \n",
       "NonRegMail              0.014096 -0.023836  0.707275        0.524166   \n",
       "\n",
       "                        SuppliersInvitedCount  DeadlineCount  \\\n",
       "Day                                 -0.063806      -0.003259   \n",
       "Hour                                -0.067998      -0.037636   \n",
       "Livechat                             0.666309       0.393666   \n",
       "PublishedCount                       0.647514       0.409971   \n",
       "SuppliersInvitedCount                1.000000       0.331686   \n",
       "DeadlineCount                        0.331686       1.000000   \n",
       "SupplierDeadlineCount                0.402064       0.832608   \n",
       "CombinedRequests                     0.513914       0.930635   \n",
       "CombinedSupplierAction               0.845233       0.688470   \n",
       "NewUserMail                          0.685207       0.404578   \n",
       "NonRegMail                           0.398718       0.248604   \n",
       "\n",
       "                        SupplierDeadlineCount  CombinedRequests  \\\n",
       "Day                                  0.022352         -0.074693   \n",
       "Hour                                -0.008787         -0.125697   \n",
       "Livechat                             0.464363          0.615745   \n",
       "PublishedCount                       0.464122          0.715316   \n",
       "SuppliersInvitedCount                0.402064          0.513914   \n",
       "DeadlineCount                        0.832608          0.930635   \n",
       "SupplierDeadlineCount                1.000000          0.824114   \n",
       "CombinedRequests                     0.824114          1.000000   \n",
       "CombinedSupplierAction               0.829139          0.794775   \n",
       "NewUserMail                          0.473573          0.633582   \n",
       "NonRegMail                           0.271595          0.400772   \n",
       "\n",
       "                        CombinedSupplierAction  NewUserMail  NonRegMail  \n",
       "Day                                  -0.025912    -0.073793    0.014096  \n",
       "Hour                                 -0.046646    -0.104177   -0.023836  \n",
       "Livechat                              0.677853     0.932075    0.707275  \n",
       "PublishedCount                        0.666237     0.806586    0.524166  \n",
       "SuppliersInvitedCount                 0.845233     0.685207    0.398718  \n",
       "DeadlineCount                         0.688470     0.404578    0.248604  \n",
       "SupplierDeadlineCount                 0.829139     0.473573    0.271595  \n",
       "CombinedRequests                      0.794775     0.633582    0.400772  \n",
       "CombinedSupplierAction                1.000000     0.694767    0.401961  \n",
       "NewUserMail                           0.694767     1.000000    0.694883  \n",
       "NonRegMail                            0.401961     0.694883    1.000000  "
      ]
     },
     "execution_count": 23,
     "metadata": {},
     "output_type": "execute_result"
    }
   ],
   "source": [
    "lc_corr = live_chat.corr()\n",
    "lc_corr"
   ]
  },
  {
   "cell_type": "code",
   "execution_count": 24,
   "metadata": {},
   "outputs": [
    {
     "data": {
      "image/png": "[encoded data removed]",
      "text/plain": [
       "<Figure size 432x288 with 2 Axes>"
      ]
     },
     "metadata": {
      "needs_background": "light"
     },
     "output_type": "display_data"
    }
   ],
   "source": [
    "lc_corrfig = pyplt.figure()\n",
    "ax = lc_corrfig.add_subplot(111)\n",
    "cax = ax.matshow(lc_corr,cmap='coolwarm', vmin=-1, vmax=1)\n",
    "lc_corrfig.colorbar(cax)\n",
    "ticks = np.arange(0,len(live_chat.columns),1)\n",
    "ax.set_xticks(ticks)\n",
    "pyplt.xticks(rotation=90)\n",
    "ax.set_yticks(ticks)\n",
    "ax.set_xticklabels(live_chat.columns)\n",
    "ax.set_yticklabels(live_chat.columns)\n",
    "pyplt.show()"
   ]
  },
  {
   "cell_type": "markdown",
   "metadata": {},
   "source": [
    "We can see the relationships even more clearly using the Linear Regression plots below."
   ]
  },
  {
   "cell_type": "markdown",
   "metadata": {},
   "source": [
    "#### Livechat & PublishedCount"
   ]
  },
  {
   "cell_type": "markdown",
   "metadata": {},
   "source": [
    "Corrolation is above 0.5 (0.78) indicating a strong corrolation. Simply put, if more requests are published, there are more livechats. This is also evidence in the graph below. "
   ]
  },
  {
   "cell_type": "code",
   "execution_count": 25,
   "metadata": {
    "scrolled": true
   },
   "outputs": [
    {
     "data": {
      "text/plain": [
       "<matplotlib.axes._subplots.AxesSubplot at 0x2015c9038d0>"
      ]
     },
     "execution_count": 25,
     "metadata": {},
     "output_type": "execute_result"
    },
    {
     "data": {
      "image/png": "[encoded data removed]",
      "text/plain": [
       "<Figure size 432x288 with 1 Axes>"
      ]
     },
     "metadata": {
      "needs_background": "light"
     },
     "output_type": "display_data"
    }
   ],
   "source": [
    "sns.regplot(x=live_chat[\"Livechat\"], y=live_chat[\"PublishedCount\"])"
   ]
  },
  {
   "cell_type": "markdown",
   "metadata": {},
   "source": [
    "#### Livechat & SuppliersInvitedCount"
   ]
  },
  {
   "cell_type": "markdown",
   "metadata": {},
   "source": [
    "Corrolation is aslo high (0.66). Again, shows that as the number of Suppliers invited increases the number of Livechats increases, but not at the same rate as for requests. There are also a few signficant outliers that are possibly showing a higher corrolation than there is in reality. "
   ]
  },
  {
   "cell_type": "code",
   "execution_count": 26,
   "metadata": {
    "scrolled": true
   },
   "outputs": [
    {
     "data": {
      "text/plain": [
       "<matplotlib.axes._subplots.AxesSubplot at 0x2015dfe1438>"
      ]
     },
     "execution_count": 26,
     "metadata": {},
     "output_type": "execute_result"
    },
    {
     "data": {
      "image/png": "[encoded data removed]",
      "text/plain": [
       "<Figure size 432x288 with 1 Axes>"
      ]
     },
     "metadata": {
      "needs_background": "light"
     },
     "output_type": "display_data"
    }
   ],
   "source": [
    "sns.regplot(x=live_chat[\"Livechat\"], y=live_chat[\"SuppliersInvitedCount\"])"
   ]
  },
  {
   "cell_type": "markdown",
   "metadata": {},
   "source": [
    "#### Livechat & SupplierDeadlineCount"
   ]
  },
  {
   "cell_type": "markdown",
   "metadata": {},
   "source": [
    "Again, while these two are positively corrolated (0.46), the corrolation is weaker than for the number of suppliers invited to newly published requests."
   ]
  },
  {
   "cell_type": "code",
   "execution_count": 27,
   "metadata": {
    "scrolled": true
   },
   "outputs": [
    {
     "data": {
      "text/plain": [
       "<matplotlib.axes._subplots.AxesSubplot at 0x2015c5ce6d8>"
      ]
     },
     "execution_count": 27,
     "metadata": {},
     "output_type": "execute_result"
    },
    {
     "data": {
      "image/png": "[encoded data removed]",
      "text/plain": [
       "<Figure size 432x288 with 1 Axes>"
      ]
     },
     "metadata": {
      "needs_background": "light"
     },
     "output_type": "display_data"
    }
   ],
   "source": [
    "sns.regplot(x=live_chat[\"Livechat\"], y=live_chat[\"DeadlineCount\"])"
   ]
  },
  {
   "cell_type": "markdown",
   "metadata": {},
   "source": [
    "#### Livechat & NewUserMail"
   ]
  },
  {
   "cell_type": "markdown",
   "metadata": {},
   "source": [
    "The strongest relationship to the number of Livechats of all is the number of new users registering on the system (0.93). This is not very suprising as users are most likely to experience issues or need help in general when they use the system for the first time."
   ]
  },
  {
   "cell_type": "code",
   "execution_count": 28,
   "metadata": {
    "scrolled": true
   },
   "outputs": [
    {
     "data": {
      "text/plain": [
       "<matplotlib.axes._subplots.AxesSubplot at 0x2015e0a9f60>"
      ]
     },
     "execution_count": 28,
     "metadata": {},
     "output_type": "execute_result"
    },
    {
     "data": {
      "image/png": "[encoded data removed]",
      "text/plain": [
       "<Figure size 432x288 with 1 Axes>"
      ]
     },
     "metadata": {
      "needs_background": "light"
     },
     "output_type": "display_data"
    }
   ],
   "source": [
    "sns.regplot(x=live_chat[\"Livechat\"], y=live_chat[\"NewUserMail\"])"
   ]
  },
  {
   "cell_type": "markdown",
   "metadata": {},
   "source": [
    "#### Livechat & NonRegMail"
   ]
  },
  {
   "cell_type": "markdown",
   "metadata": {},
   "source": [
    "Remember that NonRegMail is all emails sent from the systems to both Supplier Users and Buyer Users excluding emails issued when a new user creates an account. Correlation here is also high at 0.71."
   ]
  },
  {
   "cell_type": "code",
   "execution_count": 29,
   "metadata": {
    "scrolled": true
   },
   "outputs": [
    {
     "data": {
      "text/plain": [
       "<matplotlib.axes._subplots.AxesSubplot at 0x2015e0eee80>"
      ]
     },
     "execution_count": 29,
     "metadata": {},
     "output_type": "execute_result"
    },
    {
     "data": {
      "image/png": "[encoded data removed]",
      "text/plain": [
       "<Figure size 432x288 with 1 Axes>"
      ]
     },
     "metadata": {
      "needs_background": "light"
     },
     "output_type": "display_data"
    }
   ],
   "source": [
    "sns.regplot(x=live_chat[\"Livechat\"], y=live_chat[\"NonRegMail\"])"
   ]
  },
  {
   "cell_type": "markdown",
   "metadata": {},
   "source": [
    "### 3.4.2 Corrolation & Linear Regression Conclusion"
   ]
  },
  {
   "cell_type": "markdown",
   "metadata": {},
   "source": [
    "The four best predictors of the number of Livechats would seem to be:\n",
    "\n",
    "1. NewUserMail with a corrolation coefficient of 0.93\n",
    "2. PublishedCount with a corrolation coefficent of 0.78\n",
    "3. NonRegMail with a corrolation coefficient of 0.71\n",
    "4. SuppliersInvited with a corrolation coefficient of 0.66\n",
    "\n",
    "We will use these as our variables for activity increase modelling in section 5."
   ]
  },
  {
   "cell_type": "markdown",
   "metadata": {},
   "source": [
    "## 4.0 Simulated Dataset 1 - An Average Week's Activity"
   ]
  },
  {
   "cell_type": "markdown",
   "metadata": {},
   "source": [
    "In this sections I will synthesise a dataset that approximates what an average week of activity for our variables looks like. \n",
    "\n",
    "As I showed, in the Explaratory Data Analysis above, there is a great variation in activity from day to day and from hour to hour. We will therefore have to calculate the probability distribution for each hour in each day independently. \n",
    "\n",
    "I will be using a ***Poisson Distribution*** to simulate the data for each variable. The Poisson distribution is the best model for each of the variables as:\n",
    "\n",
    "1. Each of the events can occur any number of times during a time period.\n",
    "2. Events within each variable occur independently of eachother.\n",
    "3. The rate of occurance is constant with each hour per day. This may not necessarily be true, but it's still the best approach for this data.\n",
    "4. The probability of an event occuring is proportional to the time period. Again this is not true, but Poisson is stil the best distribution for this simulation."
   ]
  },
  {
   "cell_type": "markdown",
   "metadata": {},
   "source": [
    "### 4.1 Steps for Creating the Dataset"
   ]
  },
  {
   "cell_type": "code",
   "execution_count": 30,
   "metadata": {},
   "outputs": [
    {
     "data": {
      "text/html": [
       "<div>\n",
       "<style scoped>\n",
       "    .dataframe tbody tr th:only-of-type {\n",
       "        vertical-align: middle;\n",
       "    }\n",
       "\n",
       "    .dataframe tbody tr th {\n",
       "        vertical-align: top;\n",
       "    }\n",
       "\n",
       "    .dataframe thead th {\n",
       "        text-align: right;\n",
       "    }\n",
       "</style>\n",
       "<table border=\"1\" class=\"dataframe\">\n",
       "  <thead>\n",
       "    <tr style=\"text-align: right;\">\n",
       "      <th></th>\n",
       "      <th>Day</th>\n",
       "      <th>Hour</th>\n",
       "      <th>Livechat</th>\n",
       "      <th>PublishedCount</th>\n",
       "      <th>SuppliersInvitedCount</th>\n",
       "      <th>DeadlineCount</th>\n",
       "      <th>SupplierDeadlineCount</th>\n",
       "      <th>NewUserMail</th>\n",
       "      <th>NonRegMail</th>\n",
       "    </tr>\n",
       "  </thead>\n",
       "  <tbody>\n",
       "    <tr>\n",
       "      <th>0</th>\n",
       "      <td>1</td>\n",
       "      <td>0</td>\n",
       "      <td>0</td>\n",
       "      <td>0</td>\n",
       "      <td>0</td>\n",
       "      <td>0</td>\n",
       "      <td>0</td>\n",
       "      <td>4</td>\n",
       "      <td>76</td>\n",
       "    </tr>\n",
       "    <tr>\n",
       "      <th>1</th>\n",
       "      <td>1</td>\n",
       "      <td>1</td>\n",
       "      <td>0</td>\n",
       "      <td>0</td>\n",
       "      <td>0</td>\n",
       "      <td>10</td>\n",
       "      <td>14</td>\n",
       "      <td>1</td>\n",
       "      <td>48</td>\n",
       "    </tr>\n",
       "    <tr>\n",
       "      <th>2</th>\n",
       "      <td>1</td>\n",
       "      <td>2</td>\n",
       "      <td>0</td>\n",
       "      <td>0</td>\n",
       "      <td>0</td>\n",
       "      <td>0</td>\n",
       "      <td>0</td>\n",
       "      <td>2</td>\n",
       "      <td>7</td>\n",
       "    </tr>\n",
       "    <tr>\n",
       "      <th>3</th>\n",
       "      <td>1</td>\n",
       "      <td>3</td>\n",
       "      <td>0</td>\n",
       "      <td>0</td>\n",
       "      <td>0</td>\n",
       "      <td>0</td>\n",
       "      <td>0</td>\n",
       "      <td>0</td>\n",
       "      <td>6</td>\n",
       "    </tr>\n",
       "    <tr>\n",
       "      <th>4</th>\n",
       "      <td>1</td>\n",
       "      <td>4</td>\n",
       "      <td>1</td>\n",
       "      <td>26</td>\n",
       "      <td>26</td>\n",
       "      <td>29</td>\n",
       "      <td>33</td>\n",
       "      <td>0</td>\n",
       "      <td>194</td>\n",
       "    </tr>\n",
       "  </tbody>\n",
       "</table>\n",
       "</div>"
      ],
      "text/plain": [
       "   Day  Hour  Livechat  PublishedCount  SuppliersInvitedCount  DeadlineCount  \\\n",
       "0    1     0         0               0                      0              0   \n",
       "1    1     1         0               0                      0             10   \n",
       "2    1     2         0               0                      0              0   \n",
       "3    1     3         0               0                      0              0   \n",
       "4    1     4         1              26                     26             29   \n",
       "\n",
       "   SupplierDeadlineCount  NewUserMail  NonRegMail  \n",
       "0                      0            4          76  \n",
       "1                     14            1          48  \n",
       "2                      0            2           7  \n",
       "3                      0            0           6  \n",
       "4                     33            0         194  "
      ]
     },
     "execution_count": 30,
     "metadata": {},
     "output_type": "execute_result"
    }
   ],
   "source": [
    "# create a slimmed down dataset minus the combined columns\n",
    "live_chat_2 = live_chat.drop([\"CombinedRequests\", \"CombinedSupplierAction\"], axis=1)\n",
    "live_chat_2.head()"
   ]
  },
  {
   "cell_type": "markdown",
   "metadata": {},
   "source": [
    "Since the Poisson Distribution uses an average as it's input we need to calculate an average for a single day. We can do that by dividing each number in the the above dataframes by the number of times that day of the week occured in the time period the data was aggregated for. As I mentioned above, the original dataset consists of totals for the 1st of May 2018 to the 31st of October 2018. There were the following number of each day in that time period:\n",
    "* Mondays = 26\n",
    "* Tuesdays = 27\n",
    "* Wednesdays = 27\n",
    "* Thursdays = 26\n",
    "* Fridays = 26\n",
    "* Saturdays = 26\n",
    "* Sundays = 26\n",
    "\n",
    "Therefore we need to create the below dataframes:"
   ]
  },
  {
   "cell_type": "code",
   "execution_count": 31,
   "metadata": {},
   "outputs": [],
   "source": [
    "Sunday = live_chat_2.loc[live_chat_2[\"Day\"]==1]\n",
    "Monday = live_chat_2.loc[live_chat_2[\"Day\"]==2]\n",
    "Tuesday = live_chat_2.loc[live_chat_2[\"Day\"]==3]\n",
    "Wednesday = live_chat_2.loc[live_chat_2[\"Day\"]==4]\n",
    "Thursday = live_chat_2.loc[live_chat_2[\"Day\"]==5]\n",
    "Friday = live_chat_2.loc[live_chat_2[\"Day\"]==6]\n",
    "Saturday = live_chat_2.loc[live_chat_2[\"Day\"]==7]"
   ]
  },
  {
   "cell_type": "markdown",
   "metadata": {},
   "source": [
    "We can then divide each variables' value by the appropriate number of days, to get the average per day figure."
   ]
  },
  {
   "cell_type": "code",
   "execution_count": 32,
   "metadata": {},
   "outputs": [],
   "source": [
    "Sun_D = Sunday.divide(26).drop([\"Day\",\"Hour\"],axis=1)\n",
    "Mon_D = Monday.divide(27).drop([\"Day\",\"Hour\"],axis=1)\n",
    "Tues_D = Tuesday.divide(27).drop([\"Day\",\"Hour\"],axis=1)\n",
    "Wed_D = Wednesday.divide(26).drop([\"Day\",\"Hour\"],axis=1)\n",
    "Thurs_D = Thursday.divide(26).drop([\"Day\",\"Hour\"],axis=1)\n",
    "Fri_D = Friday.divide(26).drop([\"Day\",\"Hour\"],axis=1)\n",
    "Sat_D = Saturday.divide(26).drop([\"Day\",\"Hour\"],axis=1)\n"
   ]
  },
  {
   "cell_type": "markdown",
   "metadata": {},
   "source": [
    "Day and Hour were dropped from the above to prevent them being divided into nonsense numbers and being passed through the *np.random.poisson* function."
   ]
  },
  {
   "cell_type": "markdown",
   "metadata": {},
   "source": [
    "We can then use the *applymap* fuction to run each averaged datapoint in the dataframe through *np.random.poisson* function."
   ]
  },
  {
   "cell_type": "code",
   "execution_count": 33,
   "metadata": {},
   "outputs": [],
   "source": [
    "Sun_D = Sun_D.applymap(np.random.poisson)\n",
    "Mon_D = Mon_D.applymap(np.random.poisson)\n",
    "Tues_D = Tues_D.applymap(np.random.poisson)\n",
    "Wed_D = Wed_D.applymap(np.random.poisson)\n",
    "Thurs_D = Thurs_D.applymap(np.random.poisson)\n",
    "Fri_D = Fri_D.applymap(np.random.poisson)\n",
    "Sat_D = Sat_D.applymap(np.random.poisson)\n"
   ]
  },
  {
   "cell_type": "code",
   "execution_count": 34,
   "metadata": {},
   "outputs": [
    {
     "data": {
      "text/html": [
       "<div>\n",
       "<style scoped>\n",
       "    .dataframe tbody tr th:only-of-type {\n",
       "        vertical-align: middle;\n",
       "    }\n",
       "\n",
       "    .dataframe tbody tr th {\n",
       "        vertical-align: top;\n",
       "    }\n",
       "\n",
       "    .dataframe thead th {\n",
       "        text-align: right;\n",
       "    }\n",
       "</style>\n",
       "<table border=\"1\" class=\"dataframe\">\n",
       "  <thead>\n",
       "    <tr style=\"text-align: right;\">\n",
       "      <th></th>\n",
       "      <th>Livechat</th>\n",
       "      <th>PublishedCount</th>\n",
       "      <th>SuppliersInvitedCount</th>\n",
       "      <th>DeadlineCount</th>\n",
       "      <th>SupplierDeadlineCount</th>\n",
       "      <th>NewUserMail</th>\n",
       "      <th>NonRegMail</th>\n",
       "    </tr>\n",
       "  </thead>\n",
       "  <tbody>\n",
       "    <tr>\n",
       "      <th>72</th>\n",
       "      <td>0</td>\n",
       "      <td>0</td>\n",
       "      <td>0</td>\n",
       "      <td>0</td>\n",
       "      <td>1</td>\n",
       "      <td>1</td>\n",
       "      <td>4</td>\n",
       "    </tr>\n",
       "    <tr>\n",
       "      <th>73</th>\n",
       "      <td>0</td>\n",
       "      <td>0</td>\n",
       "      <td>2</td>\n",
       "      <td>0</td>\n",
       "      <td>1</td>\n",
       "      <td>0</td>\n",
       "      <td>7</td>\n",
       "    </tr>\n",
       "    <tr>\n",
       "      <th>74</th>\n",
       "      <td>0</td>\n",
       "      <td>0</td>\n",
       "      <td>2</td>\n",
       "      <td>0</td>\n",
       "      <td>0</td>\n",
       "      <td>0</td>\n",
       "      <td>8</td>\n",
       "    </tr>\n",
       "    <tr>\n",
       "      <th>75</th>\n",
       "      <td>0</td>\n",
       "      <td>4</td>\n",
       "      <td>1</td>\n",
       "      <td>0</td>\n",
       "      <td>0</td>\n",
       "      <td>0</td>\n",
       "      <td>9</td>\n",
       "    </tr>\n",
       "    <tr>\n",
       "      <th>76</th>\n",
       "      <td>0</td>\n",
       "      <td>3</td>\n",
       "      <td>1</td>\n",
       "      <td>7</td>\n",
       "      <td>5</td>\n",
       "      <td>0</td>\n",
       "      <td>12</td>\n",
       "    </tr>\n",
       "  </tbody>\n",
       "</table>\n",
       "</div>"
      ],
      "text/plain": [
       "    Livechat  PublishedCount  SuppliersInvitedCount  DeadlineCount  \\\n",
       "72         0               0                      0              0   \n",
       "73         0               0                      2              0   \n",
       "74         0               0                      2              0   \n",
       "75         0               4                      1              0   \n",
       "76         0               3                      1              7   \n",
       "\n",
       "    SupplierDeadlineCount  NewUserMail  NonRegMail  \n",
       "72                      1            1           4  \n",
       "73                      1            0           7  \n",
       "74                      0            0           8  \n",
       "75                      0            0           9  \n",
       "76                      5            0          12  "
      ]
     },
     "execution_count": 34,
     "metadata": {},
     "output_type": "execute_result"
    }
   ],
   "source": [
    "Wed_D.head()"
   ]
  },
  {
   "cell_type": "markdown",
   "metadata": {},
   "source": [
    "We can then add back in the Days and Hours columns to complete the simulated days."
   ]
  },
  {
   "cell_type": "code",
   "execution_count": 35,
   "metadata": {},
   "outputs": [],
   "source": [
    "Sun_D[\"Day\"] = Sunday[\"Day\"]\n",
    "Sun_D[\"Hour\"] = Sunday[\"Hour\"]\n",
    "Mon_D[\"Day\"] = Monday[\"Day\"]\n",
    "Mon_D[\"Hour\"] = Monday[\"Hour\"]\n",
    "Tues_D[\"Day\"] = Tuesday[\"Day\"]\n",
    "Tues_D[\"Hour\"] = Tuesday[\"Hour\"]\n",
    "Wed_D[\"Day\"] = Wednesday[\"Day\"]\n",
    "Wed_D[\"Hour\"] = Wednesday[\"Hour\"]\n",
    "Thurs_D[\"Day\"] = Thursday[\"Day\"]\n",
    "Thurs_D[\"Hour\"] = Thursday[\"Hour\"]\n",
    "Fri_D[\"Day\"] = Friday[\"Day\"]\n",
    "Fri_D[\"Hour\"] = Friday[\"Hour\"]\n",
    "Sat_D[\"Day\"] = Saturday[\"Day\"]\n",
    "Sat_D[\"Hour\"] = Saturday[\"Hour\"]"
   ]
  },
  {
   "cell_type": "code",
   "execution_count": 36,
   "metadata": {},
   "outputs": [
    {
     "data": {
      "text/plain": [
       "array(['Livechat', 'PublishedCount', 'SuppliersInvitedCount',\n",
       "       'DeadlineCount', 'SupplierDeadlineCount', 'NewUserMail',\n",
       "       'NonRegMail', 'Day', 'Hour'], dtype=object)"
      ]
     },
     "execution_count": 36,
     "metadata": {},
     "output_type": "execute_result"
    }
   ],
   "source": [
    "Sun_D.columns.values"
   ]
  },
  {
   "cell_type": "code",
   "execution_count": 37,
   "metadata": {},
   "outputs": [],
   "source": [
    "Sun_D = Sun_D[[\"Day\", \"Hour\", \"Livechat\", \"PublishedCount\", \"SuppliersInvitedCount\", \"DeadlineCount\", \"SupplierDeadlineCount\",\"NewUserMail\", \"NonRegMail\"]]\n",
    "Mon_D = Mon_D[[\"Day\", \"Hour\", \"Livechat\", \"PublishedCount\", \"SuppliersInvitedCount\", \"DeadlineCount\", \"SupplierDeadlineCount\",\"NewUserMail\", \"NonRegMail\"]]\n",
    "Tues_D = Tues_D[[\"Day\", \"Hour\", \"Livechat\", \"PublishedCount\", \"SuppliersInvitedCount\", \"DeadlineCount\",\"SupplierDeadlineCount\",\"NewUserMail\", \"NonRegMail\"]]\n",
    "Wed_D = Wed_D[[\"Day\", \"Hour\", \"Livechat\", \"PublishedCount\", \"SuppliersInvitedCount\", \"DeadlineCount\", \"SupplierDeadlineCount\",\"NewUserMail\", \"NonRegMail\"]]\n",
    "Thurs_D = Thurs_D[[\"Day\", \"Hour\", \"Livechat\", \"PublishedCount\", \"SuppliersInvitedCount\", \"DeadlineCount\", \"SupplierDeadlineCount\",\"NewUserMail\", \"NonRegMail\"]]\n",
    "Fri_D = Fri_D[[\"Day\", \"Hour\", \"Livechat\", \"PublishedCount\", \"SuppliersInvitedCount\", \"DeadlineCount\", \"SupplierDeadlineCount\",\"NewUserMail\", \"NonRegMail\"]]\n",
    "Sat_D = Sat_D[[\"Day\", \"Hour\", \"Livechat\", \"PublishedCount\", \"SuppliersInvitedCount\", \"DeadlineCount\", \"SupplierDeadlineCount\",\"NewUserMail\", \"NonRegMail\"]]\n"
   ]
  },
  {
   "cell_type": "markdown",
   "metadata": {},
   "source": [
    "Finally, we can merge each simulated day together to create a simulated week."
   ]
  },
  {
   "cell_type": "code",
   "execution_count": 38,
   "metadata": {},
   "outputs": [],
   "source": [
    "day_frames = [Sun_D, Mon_D, Tues_D, Wed_D, Thurs_D, Fri_D, Sat_D]"
   ]
  },
  {
   "cell_type": "code",
   "execution_count": 39,
   "metadata": {},
   "outputs": [],
   "source": [
    "simulated_week = pd.concat(day_frames)"
   ]
  },
  {
   "cell_type": "markdown",
   "metadata": {},
   "source": [
    "### 4.2 Output - Simulated Week Dataframe"
   ]
  },
  {
   "cell_type": "code",
   "execution_count": 40,
   "metadata": {},
   "outputs": [
    {
     "data": {
      "text/html": [
       "<div>\n",
       "<style scoped>\n",
       "    .dataframe tbody tr th:only-of-type {\n",
       "        vertical-align: middle;\n",
       "    }\n",
       "\n",
       "    .dataframe tbody tr th {\n",
       "        vertical-align: top;\n",
       "    }\n",
       "\n",
       "    .dataframe thead th {\n",
       "        text-align: right;\n",
       "    }\n",
       "</style>\n",
       "<table border=\"1\" class=\"dataframe\">\n",
       "  <thead>\n",
       "    <tr style=\"text-align: right;\">\n",
       "      <th></th>\n",
       "      <th>Day</th>\n",
       "      <th>Hour</th>\n",
       "      <th>Livechat</th>\n",
       "      <th>PublishedCount</th>\n",
       "      <th>SuppliersInvitedCount</th>\n",
       "      <th>DeadlineCount</th>\n",
       "      <th>SupplierDeadlineCount</th>\n",
       "      <th>NewUserMail</th>\n",
       "      <th>NonRegMail</th>\n",
       "    </tr>\n",
       "  </thead>\n",
       "  <tbody>\n",
       "    <tr>\n",
       "      <th>0</th>\n",
       "      <td>1</td>\n",
       "      <td>0</td>\n",
       "      <td>0</td>\n",
       "      <td>0</td>\n",
       "      <td>0</td>\n",
       "      <td>0</td>\n",
       "      <td>0</td>\n",
       "      <td>0</td>\n",
       "      <td>4</td>\n",
       "    </tr>\n",
       "    <tr>\n",
       "      <th>1</th>\n",
       "      <td>1</td>\n",
       "      <td>1</td>\n",
       "      <td>0</td>\n",
       "      <td>0</td>\n",
       "      <td>0</td>\n",
       "      <td>2</td>\n",
       "      <td>3</td>\n",
       "      <td>0</td>\n",
       "      <td>2</td>\n",
       "    </tr>\n",
       "    <tr>\n",
       "      <th>2</th>\n",
       "      <td>1</td>\n",
       "      <td>2</td>\n",
       "      <td>0</td>\n",
       "      <td>0</td>\n",
       "      <td>0</td>\n",
       "      <td>0</td>\n",
       "      <td>0</td>\n",
       "      <td>0</td>\n",
       "      <td>0</td>\n",
       "    </tr>\n",
       "    <tr>\n",
       "      <th>3</th>\n",
       "      <td>1</td>\n",
       "      <td>3</td>\n",
       "      <td>0</td>\n",
       "      <td>0</td>\n",
       "      <td>0</td>\n",
       "      <td>0</td>\n",
       "      <td>0</td>\n",
       "      <td>0</td>\n",
       "      <td>0</td>\n",
       "    </tr>\n",
       "    <tr>\n",
       "      <th>4</th>\n",
       "      <td>1</td>\n",
       "      <td>4</td>\n",
       "      <td>0</td>\n",
       "      <td>1</td>\n",
       "      <td>0</td>\n",
       "      <td>0</td>\n",
       "      <td>0</td>\n",
       "      <td>0</td>\n",
       "      <td>4</td>\n",
       "    </tr>\n",
       "    <tr>\n",
       "      <th>5</th>\n",
       "      <td>1</td>\n",
       "      <td>5</td>\n",
       "      <td>0</td>\n",
       "      <td>1</td>\n",
       "      <td>2</td>\n",
       "      <td>0</td>\n",
       "      <td>0</td>\n",
       "      <td>0</td>\n",
       "      <td>13</td>\n",
       "    </tr>\n",
       "    <tr>\n",
       "      <th>6</th>\n",
       "      <td>1</td>\n",
       "      <td>6</td>\n",
       "      <td>0</td>\n",
       "      <td>1</td>\n",
       "      <td>1</td>\n",
       "      <td>1</td>\n",
       "      <td>1</td>\n",
       "      <td>0</td>\n",
       "      <td>7</td>\n",
       "    </tr>\n",
       "    <tr>\n",
       "      <th>7</th>\n",
       "      <td>1</td>\n",
       "      <td>7</td>\n",
       "      <td>0</td>\n",
       "      <td>1</td>\n",
       "      <td>0</td>\n",
       "      <td>0</td>\n",
       "      <td>0</td>\n",
       "      <td>1</td>\n",
       "      <td>2</td>\n",
       "    </tr>\n",
       "    <tr>\n",
       "      <th>8</th>\n",
       "      <td>1</td>\n",
       "      <td>8</td>\n",
       "      <td>0</td>\n",
       "      <td>0</td>\n",
       "      <td>3</td>\n",
       "      <td>0</td>\n",
       "      <td>0</td>\n",
       "      <td>1</td>\n",
       "      <td>16</td>\n",
       "    </tr>\n",
       "    <tr>\n",
       "      <th>9</th>\n",
       "      <td>1</td>\n",
       "      <td>9</td>\n",
       "      <td>0</td>\n",
       "      <td>1</td>\n",
       "      <td>2</td>\n",
       "      <td>1</td>\n",
       "      <td>0</td>\n",
       "      <td>0</td>\n",
       "      <td>6</td>\n",
       "    </tr>\n",
       "    <tr>\n",
       "      <th>10</th>\n",
       "      <td>1</td>\n",
       "      <td>10</td>\n",
       "      <td>0</td>\n",
       "      <td>2</td>\n",
       "      <td>2</td>\n",
       "      <td>1</td>\n",
       "      <td>1</td>\n",
       "      <td>1</td>\n",
       "      <td>11</td>\n",
       "    </tr>\n",
       "    <tr>\n",
       "      <th>11</th>\n",
       "      <td>1</td>\n",
       "      <td>11</td>\n",
       "      <td>0</td>\n",
       "      <td>0</td>\n",
       "      <td>0</td>\n",
       "      <td>0</td>\n",
       "      <td>1</td>\n",
       "      <td>0</td>\n",
       "      <td>7</td>\n",
       "    </tr>\n",
       "    <tr>\n",
       "      <th>12</th>\n",
       "      <td>1</td>\n",
       "      <td>12</td>\n",
       "      <td>0</td>\n",
       "      <td>0</td>\n",
       "      <td>0</td>\n",
       "      <td>2</td>\n",
       "      <td>0</td>\n",
       "      <td>0</td>\n",
       "      <td>169</td>\n",
       "    </tr>\n",
       "    <tr>\n",
       "      <th>13</th>\n",
       "      <td>1</td>\n",
       "      <td>13</td>\n",
       "      <td>0</td>\n",
       "      <td>0</td>\n",
       "      <td>0</td>\n",
       "      <td>2</td>\n",
       "      <td>0</td>\n",
       "      <td>0</td>\n",
       "      <td>0</td>\n",
       "    </tr>\n",
       "    <tr>\n",
       "      <th>14</th>\n",
       "      <td>1</td>\n",
       "      <td>14</td>\n",
       "      <td>0</td>\n",
       "      <td>0</td>\n",
       "      <td>0</td>\n",
       "      <td>0</td>\n",
       "      <td>0</td>\n",
       "      <td>0</td>\n",
       "      <td>0</td>\n",
       "    </tr>\n",
       "    <tr>\n",
       "      <th>15</th>\n",
       "      <td>1</td>\n",
       "      <td>15</td>\n",
       "      <td>0</td>\n",
       "      <td>0</td>\n",
       "      <td>0</td>\n",
       "      <td>0</td>\n",
       "      <td>0</td>\n",
       "      <td>1</td>\n",
       "      <td>7</td>\n",
       "    </tr>\n",
       "    <tr>\n",
       "      <th>16</th>\n",
       "      <td>1</td>\n",
       "      <td>16</td>\n",
       "      <td>0</td>\n",
       "      <td>0</td>\n",
       "      <td>0</td>\n",
       "      <td>0</td>\n",
       "      <td>0</td>\n",
       "      <td>1</td>\n",
       "      <td>0</td>\n",
       "    </tr>\n",
       "    <tr>\n",
       "      <th>17</th>\n",
       "      <td>1</td>\n",
       "      <td>17</td>\n",
       "      <td>0</td>\n",
       "      <td>0</td>\n",
       "      <td>0</td>\n",
       "      <td>0</td>\n",
       "      <td>0</td>\n",
       "      <td>0</td>\n",
       "      <td>1</td>\n",
       "    </tr>\n",
       "    <tr>\n",
       "      <th>18</th>\n",
       "      <td>1</td>\n",
       "      <td>18</td>\n",
       "      <td>0</td>\n",
       "      <td>0</td>\n",
       "      <td>0</td>\n",
       "      <td>0</td>\n",
       "      <td>0</td>\n",
       "      <td>0</td>\n",
       "      <td>0</td>\n",
       "    </tr>\n",
       "    <tr>\n",
       "      <th>19</th>\n",
       "      <td>1</td>\n",
       "      <td>19</td>\n",
       "      <td>0</td>\n",
       "      <td>0</td>\n",
       "      <td>0</td>\n",
       "      <td>0</td>\n",
       "      <td>0</td>\n",
       "      <td>0</td>\n",
       "      <td>0</td>\n",
       "    </tr>\n",
       "    <tr>\n",
       "      <th>20</th>\n",
       "      <td>1</td>\n",
       "      <td>20</td>\n",
       "      <td>0</td>\n",
       "      <td>0</td>\n",
       "      <td>0</td>\n",
       "      <td>0</td>\n",
       "      <td>0</td>\n",
       "      <td>0</td>\n",
       "      <td>1</td>\n",
       "    </tr>\n",
       "    <tr>\n",
       "      <th>21</th>\n",
       "      <td>1</td>\n",
       "      <td>21</td>\n",
       "      <td>0</td>\n",
       "      <td>0</td>\n",
       "      <td>0</td>\n",
       "      <td>0</td>\n",
       "      <td>0</td>\n",
       "      <td>1</td>\n",
       "      <td>2</td>\n",
       "    </tr>\n",
       "    <tr>\n",
       "      <th>22</th>\n",
       "      <td>1</td>\n",
       "      <td>22</td>\n",
       "      <td>0</td>\n",
       "      <td>0</td>\n",
       "      <td>1</td>\n",
       "      <td>0</td>\n",
       "      <td>0</td>\n",
       "      <td>0</td>\n",
       "      <td>2</td>\n",
       "    </tr>\n",
       "    <tr>\n",
       "      <th>23</th>\n",
       "      <td>1</td>\n",
       "      <td>23</td>\n",
       "      <td>0</td>\n",
       "      <td>0</td>\n",
       "      <td>0</td>\n",
       "      <td>0</td>\n",
       "      <td>0</td>\n",
       "      <td>0</td>\n",
       "      <td>2</td>\n",
       "    </tr>\n",
       "    <tr>\n",
       "      <th>24</th>\n",
       "      <td>2</td>\n",
       "      <td>0</td>\n",
       "      <td>0</td>\n",
       "      <td>0</td>\n",
       "      <td>0</td>\n",
       "      <td>0</td>\n",
       "      <td>0</td>\n",
       "      <td>1</td>\n",
       "      <td>5</td>\n",
       "    </tr>\n",
       "    <tr>\n",
       "      <th>25</th>\n",
       "      <td>2</td>\n",
       "      <td>1</td>\n",
       "      <td>0</td>\n",
       "      <td>2</td>\n",
       "      <td>2</td>\n",
       "      <td>0</td>\n",
       "      <td>0</td>\n",
       "      <td>2</td>\n",
       "      <td>8</td>\n",
       "    </tr>\n",
       "    <tr>\n",
       "      <th>26</th>\n",
       "      <td>2</td>\n",
       "      <td>2</td>\n",
       "      <td>0</td>\n",
       "      <td>0</td>\n",
       "      <td>0</td>\n",
       "      <td>0</td>\n",
       "      <td>0</td>\n",
       "      <td>0</td>\n",
       "      <td>7</td>\n",
       "    </tr>\n",
       "    <tr>\n",
       "      <th>27</th>\n",
       "      <td>2</td>\n",
       "      <td>3</td>\n",
       "      <td>1</td>\n",
       "      <td>1</td>\n",
       "      <td>0</td>\n",
       "      <td>0</td>\n",
       "      <td>2</td>\n",
       "      <td>1</td>\n",
       "      <td>13</td>\n",
       "    </tr>\n",
       "    <tr>\n",
       "      <th>28</th>\n",
       "      <td>2</td>\n",
       "      <td>4</td>\n",
       "      <td>0</td>\n",
       "      <td>3</td>\n",
       "      <td>1</td>\n",
       "      <td>0</td>\n",
       "      <td>1</td>\n",
       "      <td>1</td>\n",
       "      <td>5</td>\n",
       "    </tr>\n",
       "    <tr>\n",
       "      <th>29</th>\n",
       "      <td>2</td>\n",
       "      <td>5</td>\n",
       "      <td>0</td>\n",
       "      <td>0</td>\n",
       "      <td>3</td>\n",
       "      <td>1</td>\n",
       "      <td>0</td>\n",
       "      <td>0</td>\n",
       "      <td>6</td>\n",
       "    </tr>\n",
       "    <tr>\n",
       "      <th>...</th>\n",
       "      <td>...</td>\n",
       "      <td>...</td>\n",
       "      <td>...</td>\n",
       "      <td>...</td>\n",
       "      <td>...</td>\n",
       "      <td>...</td>\n",
       "      <td>...</td>\n",
       "      <td>...</td>\n",
       "      <td>...</td>\n",
       "    </tr>\n",
       "    <tr>\n",
       "      <th>138</th>\n",
       "      <td>6</td>\n",
       "      <td>18</td>\n",
       "      <td>0</td>\n",
       "      <td>0</td>\n",
       "      <td>0</td>\n",
       "      <td>0</td>\n",
       "      <td>0</td>\n",
       "      <td>0</td>\n",
       "      <td>6</td>\n",
       "    </tr>\n",
       "    <tr>\n",
       "      <th>139</th>\n",
       "      <td>6</td>\n",
       "      <td>19</td>\n",
       "      <td>0</td>\n",
       "      <td>1</td>\n",
       "      <td>0</td>\n",
       "      <td>0</td>\n",
       "      <td>0</td>\n",
       "      <td>0</td>\n",
       "      <td>5</td>\n",
       "    </tr>\n",
       "    <tr>\n",
       "      <th>140</th>\n",
       "      <td>6</td>\n",
       "      <td>20</td>\n",
       "      <td>0</td>\n",
       "      <td>0</td>\n",
       "      <td>0</td>\n",
       "      <td>0</td>\n",
       "      <td>0</td>\n",
       "      <td>0</td>\n",
       "      <td>0</td>\n",
       "    </tr>\n",
       "    <tr>\n",
       "      <th>141</th>\n",
       "      <td>6</td>\n",
       "      <td>21</td>\n",
       "      <td>0</td>\n",
       "      <td>0</td>\n",
       "      <td>0</td>\n",
       "      <td>0</td>\n",
       "      <td>0</td>\n",
       "      <td>0</td>\n",
       "      <td>1</td>\n",
       "    </tr>\n",
       "    <tr>\n",
       "      <th>142</th>\n",
       "      <td>6</td>\n",
       "      <td>22</td>\n",
       "      <td>0</td>\n",
       "      <td>0</td>\n",
       "      <td>0</td>\n",
       "      <td>0</td>\n",
       "      <td>4</td>\n",
       "      <td>0</td>\n",
       "      <td>0</td>\n",
       "    </tr>\n",
       "    <tr>\n",
       "      <th>143</th>\n",
       "      <td>6</td>\n",
       "      <td>23</td>\n",
       "      <td>0</td>\n",
       "      <td>0</td>\n",
       "      <td>0</td>\n",
       "      <td>0</td>\n",
       "      <td>0</td>\n",
       "      <td>0</td>\n",
       "      <td>0</td>\n",
       "    </tr>\n",
       "    <tr>\n",
       "      <th>144</th>\n",
       "      <td>7</td>\n",
       "      <td>0</td>\n",
       "      <td>0</td>\n",
       "      <td>0</td>\n",
       "      <td>0</td>\n",
       "      <td>1</td>\n",
       "      <td>0</td>\n",
       "      <td>0</td>\n",
       "      <td>0</td>\n",
       "    </tr>\n",
       "    <tr>\n",
       "      <th>145</th>\n",
       "      <td>7</td>\n",
       "      <td>1</td>\n",
       "      <td>0</td>\n",
       "      <td>0</td>\n",
       "      <td>0</td>\n",
       "      <td>0</td>\n",
       "      <td>0</td>\n",
       "      <td>0</td>\n",
       "      <td>1</td>\n",
       "    </tr>\n",
       "    <tr>\n",
       "      <th>146</th>\n",
       "      <td>7</td>\n",
       "      <td>2</td>\n",
       "      <td>0</td>\n",
       "      <td>0</td>\n",
       "      <td>0</td>\n",
       "      <td>0</td>\n",
       "      <td>0</td>\n",
       "      <td>0</td>\n",
       "      <td>0</td>\n",
       "    </tr>\n",
       "    <tr>\n",
       "      <th>147</th>\n",
       "      <td>7</td>\n",
       "      <td>3</td>\n",
       "      <td>0</td>\n",
       "      <td>0</td>\n",
       "      <td>0</td>\n",
       "      <td>0</td>\n",
       "      <td>0</td>\n",
       "      <td>0</td>\n",
       "      <td>0</td>\n",
       "    </tr>\n",
       "    <tr>\n",
       "      <th>148</th>\n",
       "      <td>7</td>\n",
       "      <td>4</td>\n",
       "      <td>0</td>\n",
       "      <td>0</td>\n",
       "      <td>0</td>\n",
       "      <td>0</td>\n",
       "      <td>0</td>\n",
       "      <td>0</td>\n",
       "      <td>0</td>\n",
       "    </tr>\n",
       "    <tr>\n",
       "      <th>149</th>\n",
       "      <td>7</td>\n",
       "      <td>5</td>\n",
       "      <td>0</td>\n",
       "      <td>0</td>\n",
       "      <td>0</td>\n",
       "      <td>0</td>\n",
       "      <td>0</td>\n",
       "      <td>0</td>\n",
       "      <td>4</td>\n",
       "    </tr>\n",
       "    <tr>\n",
       "      <th>150</th>\n",
       "      <td>7</td>\n",
       "      <td>6</td>\n",
       "      <td>0</td>\n",
       "      <td>0</td>\n",
       "      <td>0</td>\n",
       "      <td>0</td>\n",
       "      <td>0</td>\n",
       "      <td>0</td>\n",
       "      <td>0</td>\n",
       "    </tr>\n",
       "    <tr>\n",
       "      <th>151</th>\n",
       "      <td>7</td>\n",
       "      <td>7</td>\n",
       "      <td>0</td>\n",
       "      <td>0</td>\n",
       "      <td>0</td>\n",
       "      <td>0</td>\n",
       "      <td>0</td>\n",
       "      <td>0</td>\n",
       "      <td>0</td>\n",
       "    </tr>\n",
       "    <tr>\n",
       "      <th>152</th>\n",
       "      <td>7</td>\n",
       "      <td>8</td>\n",
       "      <td>0</td>\n",
       "      <td>0</td>\n",
       "      <td>0</td>\n",
       "      <td>0</td>\n",
       "      <td>0</td>\n",
       "      <td>0</td>\n",
       "      <td>10</td>\n",
       "    </tr>\n",
       "    <tr>\n",
       "      <th>153</th>\n",
       "      <td>7</td>\n",
       "      <td>9</td>\n",
       "      <td>0</td>\n",
       "      <td>0</td>\n",
       "      <td>0</td>\n",
       "      <td>0</td>\n",
       "      <td>0</td>\n",
       "      <td>0</td>\n",
       "      <td>1</td>\n",
       "    </tr>\n",
       "    <tr>\n",
       "      <th>154</th>\n",
       "      <td>7</td>\n",
       "      <td>10</td>\n",
       "      <td>0</td>\n",
       "      <td>0</td>\n",
       "      <td>0</td>\n",
       "      <td>0</td>\n",
       "      <td>0</td>\n",
       "      <td>0</td>\n",
       "      <td>7</td>\n",
       "    </tr>\n",
       "    <tr>\n",
       "      <th>155</th>\n",
       "      <td>7</td>\n",
       "      <td>11</td>\n",
       "      <td>0</td>\n",
       "      <td>0</td>\n",
       "      <td>0</td>\n",
       "      <td>0</td>\n",
       "      <td>0</td>\n",
       "      <td>1</td>\n",
       "      <td>1</td>\n",
       "    </tr>\n",
       "    <tr>\n",
       "      <th>156</th>\n",
       "      <td>7</td>\n",
       "      <td>12</td>\n",
       "      <td>0</td>\n",
       "      <td>0</td>\n",
       "      <td>0</td>\n",
       "      <td>0</td>\n",
       "      <td>0</td>\n",
       "      <td>0</td>\n",
       "      <td>117</td>\n",
       "    </tr>\n",
       "    <tr>\n",
       "      <th>157</th>\n",
       "      <td>7</td>\n",
       "      <td>13</td>\n",
       "      <td>0</td>\n",
       "      <td>0</td>\n",
       "      <td>0</td>\n",
       "      <td>0</td>\n",
       "      <td>0</td>\n",
       "      <td>0</td>\n",
       "      <td>0</td>\n",
       "    </tr>\n",
       "    <tr>\n",
       "      <th>158</th>\n",
       "      <td>7</td>\n",
       "      <td>14</td>\n",
       "      <td>0</td>\n",
       "      <td>0</td>\n",
       "      <td>0</td>\n",
       "      <td>0</td>\n",
       "      <td>0</td>\n",
       "      <td>0</td>\n",
       "      <td>0</td>\n",
       "    </tr>\n",
       "    <tr>\n",
       "      <th>159</th>\n",
       "      <td>7</td>\n",
       "      <td>15</td>\n",
       "      <td>0</td>\n",
       "      <td>0</td>\n",
       "      <td>0</td>\n",
       "      <td>0</td>\n",
       "      <td>0</td>\n",
       "      <td>0</td>\n",
       "      <td>2</td>\n",
       "    </tr>\n",
       "    <tr>\n",
       "      <th>160</th>\n",
       "      <td>7</td>\n",
       "      <td>16</td>\n",
       "      <td>0</td>\n",
       "      <td>0</td>\n",
       "      <td>0</td>\n",
       "      <td>0</td>\n",
       "      <td>0</td>\n",
       "      <td>0</td>\n",
       "      <td>0</td>\n",
       "    </tr>\n",
       "    <tr>\n",
       "      <th>161</th>\n",
       "      <td>7</td>\n",
       "      <td>17</td>\n",
       "      <td>0</td>\n",
       "      <td>0</td>\n",
       "      <td>0</td>\n",
       "      <td>0</td>\n",
       "      <td>0</td>\n",
       "      <td>0</td>\n",
       "      <td>1</td>\n",
       "    </tr>\n",
       "    <tr>\n",
       "      <th>162</th>\n",
       "      <td>7</td>\n",
       "      <td>18</td>\n",
       "      <td>0</td>\n",
       "      <td>0</td>\n",
       "      <td>1</td>\n",
       "      <td>0</td>\n",
       "      <td>0</td>\n",
       "      <td>0</td>\n",
       "      <td>3</td>\n",
       "    </tr>\n",
       "    <tr>\n",
       "      <th>163</th>\n",
       "      <td>7</td>\n",
       "      <td>19</td>\n",
       "      <td>0</td>\n",
       "      <td>0</td>\n",
       "      <td>0</td>\n",
       "      <td>0</td>\n",
       "      <td>0</td>\n",
       "      <td>0</td>\n",
       "      <td>0</td>\n",
       "    </tr>\n",
       "    <tr>\n",
       "      <th>164</th>\n",
       "      <td>7</td>\n",
       "      <td>20</td>\n",
       "      <td>0</td>\n",
       "      <td>0</td>\n",
       "      <td>0</td>\n",
       "      <td>0</td>\n",
       "      <td>0</td>\n",
       "      <td>0</td>\n",
       "      <td>0</td>\n",
       "    </tr>\n",
       "    <tr>\n",
       "      <th>165</th>\n",
       "      <td>7</td>\n",
       "      <td>21</td>\n",
       "      <td>0</td>\n",
       "      <td>0</td>\n",
       "      <td>0</td>\n",
       "      <td>0</td>\n",
       "      <td>0</td>\n",
       "      <td>0</td>\n",
       "      <td>0</td>\n",
       "    </tr>\n",
       "    <tr>\n",
       "      <th>166</th>\n",
       "      <td>7</td>\n",
       "      <td>22</td>\n",
       "      <td>0</td>\n",
       "      <td>0</td>\n",
       "      <td>0</td>\n",
       "      <td>0</td>\n",
       "      <td>0</td>\n",
       "      <td>0</td>\n",
       "      <td>0</td>\n",
       "    </tr>\n",
       "    <tr>\n",
       "      <th>167</th>\n",
       "      <td>7</td>\n",
       "      <td>23</td>\n",
       "      <td>0</td>\n",
       "      <td>0</td>\n",
       "      <td>0</td>\n",
       "      <td>0</td>\n",
       "      <td>0</td>\n",
       "      <td>0</td>\n",
       "      <td>3</td>\n",
       "    </tr>\n",
       "  </tbody>\n",
       "</table>\n",
       "<p>168 rows × 9 columns</p>\n",
       "</div>"
      ],
      "text/plain": [
       "     Day  Hour  Livechat  PublishedCount  SuppliersInvitedCount  \\\n",
       "0      1     0         0               0                      0   \n",
       "1      1     1         0               0                      0   \n",
       "2      1     2         0               0                      0   \n",
       "3      1     3         0               0                      0   \n",
       "4      1     4         0               1                      0   \n",
       "5      1     5         0               1                      2   \n",
       "6      1     6         0               1                      1   \n",
       "7      1     7         0               1                      0   \n",
       "8      1     8         0               0                      3   \n",
       "9      1     9         0               1                      2   \n",
       "10     1    10         0               2                      2   \n",
       "11     1    11         0               0                      0   \n",
       "12     1    12         0               0                      0   \n",
       "13     1    13         0               0                      0   \n",
       "14     1    14         0               0                      0   \n",
       "15     1    15         0               0                      0   \n",
       "16     1    16         0               0                      0   \n",
       "17     1    17         0               0                      0   \n",
       "18     1    18         0               0                      0   \n",
       "19     1    19         0               0                      0   \n",
       "20     1    20         0               0                      0   \n",
       "21     1    21         0               0                      0   \n",
       "22     1    22         0               0                      1   \n",
       "23     1    23         0               0                      0   \n",
       "24     2     0         0               0                      0   \n",
       "25     2     1         0               2                      2   \n",
       "26     2     2         0               0                      0   \n",
       "27     2     3         1               1                      0   \n",
       "28     2     4         0               3                      1   \n",
       "29     2     5         0               0                      3   \n",
       "..   ...   ...       ...             ...                    ...   \n",
       "138    6    18         0               0                      0   \n",
       "139    6    19         0               1                      0   \n",
       "140    6    20         0               0                      0   \n",
       "141    6    21         0               0                      0   \n",
       "142    6    22         0               0                      0   \n",
       "143    6    23         0               0                      0   \n",
       "144    7     0         0               0                      0   \n",
       "145    7     1         0               0                      0   \n",
       "146    7     2         0               0                      0   \n",
       "147    7     3         0               0                      0   \n",
       "148    7     4         0               0                      0   \n",
       "149    7     5         0               0                      0   \n",
       "150    7     6         0               0                      0   \n",
       "151    7     7         0               0                      0   \n",
       "152    7     8         0               0                      0   \n",
       "153    7     9         0               0                      0   \n",
       "154    7    10         0               0                      0   \n",
       "155    7    11         0               0                      0   \n",
       "156    7    12         0               0                      0   \n",
       "157    7    13         0               0                      0   \n",
       "158    7    14         0               0                      0   \n",
       "159    7    15         0               0                      0   \n",
       "160    7    16         0               0                      0   \n",
       "161    7    17         0               0                      0   \n",
       "162    7    18         0               0                      1   \n",
       "163    7    19         0               0                      0   \n",
       "164    7    20         0               0                      0   \n",
       "165    7    21         0               0                      0   \n",
       "166    7    22         0               0                      0   \n",
       "167    7    23         0               0                      0   \n",
       "\n",
       "     DeadlineCount  SupplierDeadlineCount  NewUserMail  NonRegMail  \n",
       "0                0                      0            0           4  \n",
       "1                2                      3            0           2  \n",
       "2                0                      0            0           0  \n",
       "3                0                      0            0           0  \n",
       "4                0                      0            0           4  \n",
       "5                0                      0            0          13  \n",
       "6                1                      1            0           7  \n",
       "7                0                      0            1           2  \n",
       "8                0                      0            1          16  \n",
       "9                1                      0            0           6  \n",
       "10               1                      1            1          11  \n",
       "11               0                      1            0           7  \n",
       "12               2                      0            0         169  \n",
       "13               2                      0            0           0  \n",
       "14               0                      0            0           0  \n",
       "15               0                      0            1           7  \n",
       "16               0                      0            1           0  \n",
       "17               0                      0            0           1  \n",
       "18               0                      0            0           0  \n",
       "19               0                      0            0           0  \n",
       "20               0                      0            0           1  \n",
       "21               0                      0            1           2  \n",
       "22               0                      0            0           2  \n",
       "23               0                      0            0           2  \n",
       "24               0                      0            1           5  \n",
       "25               0                      0            2           8  \n",
       "26               0                      0            0           7  \n",
       "27               0                      2            1          13  \n",
       "28               0                      1            1           5  \n",
       "29               1                      0            0           6  \n",
       "..             ...                    ...          ...         ...  \n",
       "138              0                      0            0           6  \n",
       "139              0                      0            0           5  \n",
       "140              0                      0            0           0  \n",
       "141              0                      0            0           1  \n",
       "142              0                      4            0           0  \n",
       "143              0                      0            0           0  \n",
       "144              1                      0            0           0  \n",
       "145              0                      0            0           1  \n",
       "146              0                      0            0           0  \n",
       "147              0                      0            0           0  \n",
       "148              0                      0            0           0  \n",
       "149              0                      0            0           4  \n",
       "150              0                      0            0           0  \n",
       "151              0                      0            0           0  \n",
       "152              0                      0            0          10  \n",
       "153              0                      0            0           1  \n",
       "154              0                      0            0           7  \n",
       "155              0                      0            1           1  \n",
       "156              0                      0            0         117  \n",
       "157              0                      0            0           0  \n",
       "158              0                      0            0           0  \n",
       "159              0                      0            0           2  \n",
       "160              0                      0            0           0  \n",
       "161              0                      0            0           1  \n",
       "162              0                      0            0           3  \n",
       "163              0                      0            0           0  \n",
       "164              0                      0            0           0  \n",
       "165              0                      0            0           0  \n",
       "166              0                      0            0           0  \n",
       "167              0                      0            0           3  \n",
       "\n",
       "[168 rows x 9 columns]"
      ]
     },
     "execution_count": 40,
     "metadata": {},
     "output_type": "execute_result"
    }
   ],
   "source": [
    "simulated_week"
   ]
  },
  {
   "cell_type": "markdown",
   "metadata": {},
   "source": [
    "Remember that the below figures are for a week's worth of data rather than the 6 months worth of data in the original \"live_chat\" dataset."
   ]
  },
  {
   "cell_type": "code",
   "execution_count": 41,
   "metadata": {
    "scrolled": true
   },
   "outputs": [
    {
     "data": {
      "text/html": [
       "<div>\n",
       "<style scoped>\n",
       "    .dataframe tbody tr th:only-of-type {\n",
       "        vertical-align: middle;\n",
       "    }\n",
       "\n",
       "    .dataframe tbody tr th {\n",
       "        vertical-align: top;\n",
       "    }\n",
       "\n",
       "    .dataframe thead th {\n",
       "        text-align: right;\n",
       "    }\n",
       "</style>\n",
       "<table border=\"1\" class=\"dataframe\">\n",
       "  <thead>\n",
       "    <tr style=\"text-align: right;\">\n",
       "      <th></th>\n",
       "      <th>Livechat</th>\n",
       "      <th>PublishedCount</th>\n",
       "      <th>SuppliersInvitedCount</th>\n",
       "      <th>DeadlineCount</th>\n",
       "      <th>SupplierDeadlineCount</th>\n",
       "      <th>NewUserMail</th>\n",
       "      <th>NonRegMail</th>\n",
       "    </tr>\n",
       "  </thead>\n",
       "  <tbody>\n",
       "    <tr>\n",
       "      <th>count</th>\n",
       "      <td>168.000000</td>\n",
       "      <td>168.000000</td>\n",
       "      <td>168.000000</td>\n",
       "      <td>168.000000</td>\n",
       "      <td>168.000000</td>\n",
       "      <td>168.000000</td>\n",
       "      <td>168.000000</td>\n",
       "    </tr>\n",
       "    <tr>\n",
       "      <th>mean</th>\n",
       "      <td>0.380952</td>\n",
       "      <td>0.654762</td>\n",
       "      <td>1.916667</td>\n",
       "      <td>0.821429</td>\n",
       "      <td>1.785714</td>\n",
       "      <td>0.720238</td>\n",
       "      <td>36.410714</td>\n",
       "    </tr>\n",
       "    <tr>\n",
       "      <th>std</th>\n",
       "      <td>0.810186</td>\n",
       "      <td>1.178592</td>\n",
       "      <td>3.285637</td>\n",
       "      <td>1.815837</td>\n",
       "      <td>3.438324</td>\n",
       "      <td>1.247395</td>\n",
       "      <td>72.555849</td>\n",
       "    </tr>\n",
       "    <tr>\n",
       "      <th>min</th>\n",
       "      <td>0.000000</td>\n",
       "      <td>0.000000</td>\n",
       "      <td>0.000000</td>\n",
       "      <td>0.000000</td>\n",
       "      <td>0.000000</td>\n",
       "      <td>0.000000</td>\n",
       "      <td>0.000000</td>\n",
       "    </tr>\n",
       "    <tr>\n",
       "      <th>25%</th>\n",
       "      <td>0.000000</td>\n",
       "      <td>0.000000</td>\n",
       "      <td>0.000000</td>\n",
       "      <td>0.000000</td>\n",
       "      <td>0.000000</td>\n",
       "      <td>0.000000</td>\n",
       "      <td>2.000000</td>\n",
       "    </tr>\n",
       "    <tr>\n",
       "      <th>50%</th>\n",
       "      <td>0.000000</td>\n",
       "      <td>0.000000</td>\n",
       "      <td>1.000000</td>\n",
       "      <td>0.000000</td>\n",
       "      <td>0.000000</td>\n",
       "      <td>0.000000</td>\n",
       "      <td>7.000000</td>\n",
       "    </tr>\n",
       "    <tr>\n",
       "      <th>75%</th>\n",
       "      <td>0.000000</td>\n",
       "      <td>1.000000</td>\n",
       "      <td>2.250000</td>\n",
       "      <td>1.000000</td>\n",
       "      <td>2.000000</td>\n",
       "      <td>1.000000</td>\n",
       "      <td>50.500000</td>\n",
       "    </tr>\n",
       "    <tr>\n",
       "      <th>max</th>\n",
       "      <td>4.000000</td>\n",
       "      <td>6.000000</td>\n",
       "      <td>23.000000</td>\n",
       "      <td>18.000000</td>\n",
       "      <td>21.000000</td>\n",
       "      <td>7.000000</td>\n",
       "      <td>643.000000</td>\n",
       "    </tr>\n",
       "  </tbody>\n",
       "</table>\n",
       "</div>"
      ],
      "text/plain": [
       "         Livechat  PublishedCount  SuppliersInvitedCount  DeadlineCount  \\\n",
       "count  168.000000      168.000000             168.000000     168.000000   \n",
       "mean     0.380952        0.654762               1.916667       0.821429   \n",
       "std      0.810186        1.178592               3.285637       1.815837   \n",
       "min      0.000000        0.000000               0.000000       0.000000   \n",
       "25%      0.000000        0.000000               0.000000       0.000000   \n",
       "50%      0.000000        0.000000               1.000000       0.000000   \n",
       "75%      0.000000        1.000000               2.250000       1.000000   \n",
       "max      4.000000        6.000000              23.000000      18.000000   \n",
       "\n",
       "       SupplierDeadlineCount  NewUserMail  NonRegMail  \n",
       "count             168.000000   168.000000  168.000000  \n",
       "mean                1.785714     0.720238   36.410714  \n",
       "std                 3.438324     1.247395   72.555849  \n",
       "min                 0.000000     0.000000    0.000000  \n",
       "25%                 0.000000     0.000000    2.000000  \n",
       "50%                 0.000000     0.000000    7.000000  \n",
       "75%                 2.000000     1.000000   50.500000  \n",
       "max                21.000000     7.000000  643.000000  "
      ]
     },
     "execution_count": 41,
     "metadata": {},
     "output_type": "execute_result"
    }
   ],
   "source": [
    "simulated_week.drop([\"Day\",\"Hour\"], axis=1).describe()"
   ]
  },
  {
   "cell_type": "code",
   "execution_count": 42,
   "metadata": {},
   "outputs": [
    {
     "data": {
      "text/html": [
       "<div>\n",
       "<style scoped>\n",
       "    .dataframe tbody tr th:only-of-type {\n",
       "        vertical-align: middle;\n",
       "    }\n",
       "\n",
       "    .dataframe tbody tr th {\n",
       "        vertical-align: top;\n",
       "    }\n",
       "\n",
       "    .dataframe thead th {\n",
       "        text-align: right;\n",
       "    }\n",
       "</style>\n",
       "<table border=\"1\" class=\"dataframe\">\n",
       "  <thead>\n",
       "    <tr style=\"text-align: right;\">\n",
       "      <th></th>\n",
       "      <th>Livechat</th>\n",
       "      <th>PublishedCount</th>\n",
       "      <th>SuppliersInvitedCount</th>\n",
       "      <th>DeadlineCount</th>\n",
       "      <th>SupplierDeadlineCount</th>\n",
       "      <th>NewUserMail</th>\n",
       "      <th>NonRegMail</th>\n",
       "    </tr>\n",
       "  </thead>\n",
       "  <tbody>\n",
       "    <tr>\n",
       "      <th>Livechat</th>\n",
       "      <td>1.000000</td>\n",
       "      <td>0.295333</td>\n",
       "      <td>0.405653</td>\n",
       "      <td>0.262241</td>\n",
       "      <td>0.362663</td>\n",
       "      <td>0.485293</td>\n",
       "      <td>0.453373</td>\n",
       "    </tr>\n",
       "    <tr>\n",
       "      <th>PublishedCount</th>\n",
       "      <td>0.295333</td>\n",
       "      <td>1.000000</td>\n",
       "      <td>0.379107</td>\n",
       "      <td>0.421494</td>\n",
       "      <td>0.274211</td>\n",
       "      <td>0.394161</td>\n",
       "      <td>0.274622</td>\n",
       "    </tr>\n",
       "    <tr>\n",
       "      <th>SuppliersInvitedCount</th>\n",
       "      <td>0.405653</td>\n",
       "      <td>0.379107</td>\n",
       "      <td>1.000000</td>\n",
       "      <td>0.362824</td>\n",
       "      <td>0.302129</td>\n",
       "      <td>0.356614</td>\n",
       "      <td>0.380562</td>\n",
       "    </tr>\n",
       "    <tr>\n",
       "      <th>DeadlineCount</th>\n",
       "      <td>0.262241</td>\n",
       "      <td>0.421494</td>\n",
       "      <td>0.362824</td>\n",
       "      <td>1.000000</td>\n",
       "      <td>0.666157</td>\n",
       "      <td>0.250107</td>\n",
       "      <td>0.267261</td>\n",
       "    </tr>\n",
       "    <tr>\n",
       "      <th>SupplierDeadlineCount</th>\n",
       "      <td>0.362663</td>\n",
       "      <td>0.274211</td>\n",
       "      <td>0.302129</td>\n",
       "      <td>0.666157</td>\n",
       "      <td>1.000000</td>\n",
       "      <td>0.290300</td>\n",
       "      <td>0.261843</td>\n",
       "    </tr>\n",
       "    <tr>\n",
       "      <th>NewUserMail</th>\n",
       "      <td>0.485293</td>\n",
       "      <td>0.394161</td>\n",
       "      <td>0.356614</td>\n",
       "      <td>0.250107</td>\n",
       "      <td>0.290300</td>\n",
       "      <td>1.000000</td>\n",
       "      <td>0.375422</td>\n",
       "    </tr>\n",
       "    <tr>\n",
       "      <th>NonRegMail</th>\n",
       "      <td>0.453373</td>\n",
       "      <td>0.274622</td>\n",
       "      <td>0.380562</td>\n",
       "      <td>0.267261</td>\n",
       "      <td>0.261843</td>\n",
       "      <td>0.375422</td>\n",
       "      <td>1.000000</td>\n",
       "    </tr>\n",
       "  </tbody>\n",
       "</table>\n",
       "</div>"
      ],
      "text/plain": [
       "                       Livechat  PublishedCount  SuppliersInvitedCount  \\\n",
       "Livechat               1.000000        0.295333               0.405653   \n",
       "PublishedCount         0.295333        1.000000               0.379107   \n",
       "SuppliersInvitedCount  0.405653        0.379107               1.000000   \n",
       "DeadlineCount          0.262241        0.421494               0.362824   \n",
       "SupplierDeadlineCount  0.362663        0.274211               0.302129   \n",
       "NewUserMail            0.485293        0.394161               0.356614   \n",
       "NonRegMail             0.453373        0.274622               0.380562   \n",
       "\n",
       "                       DeadlineCount  SupplierDeadlineCount  NewUserMail  \\\n",
       "Livechat                    0.262241               0.362663     0.485293   \n",
       "PublishedCount              0.421494               0.274211     0.394161   \n",
       "SuppliersInvitedCount       0.362824               0.302129     0.356614   \n",
       "DeadlineCount               1.000000               0.666157     0.250107   \n",
       "SupplierDeadlineCount       0.666157               1.000000     0.290300   \n",
       "NewUserMail                 0.250107               0.290300     1.000000   \n",
       "NonRegMail                  0.267261               0.261843     0.375422   \n",
       "\n",
       "                       NonRegMail  \n",
       "Livechat                 0.453373  \n",
       "PublishedCount           0.274622  \n",
       "SuppliersInvitedCount    0.380562  \n",
       "DeadlineCount            0.267261  \n",
       "SupplierDeadlineCount    0.261843  \n",
       "NewUserMail              0.375422  \n",
       "NonRegMail               1.000000  "
      ]
     },
     "execution_count": 42,
     "metadata": {},
     "output_type": "execute_result"
    }
   ],
   "source": [
    "simulated_week.drop([\"Day\",\"Hour\"], axis=1).corr()"
   ]
  },
  {
   "cell_type": "code",
   "execution_count": 43,
   "metadata": {},
   "outputs": [
    {
     "data": {
      "text/html": [
       "<div>\n",
       "<style scoped>\n",
       "    .dataframe tbody tr th:only-of-type {\n",
       "        vertical-align: middle;\n",
       "    }\n",
       "\n",
       "    .dataframe tbody tr th {\n",
       "        vertical-align: top;\n",
       "    }\n",
       "\n",
       "    .dataframe thead th {\n",
       "        text-align: right;\n",
       "    }\n",
       "</style>\n",
       "<table border=\"1\" class=\"dataframe\">\n",
       "  <thead>\n",
       "    <tr style=\"text-align: right;\">\n",
       "      <th></th>\n",
       "      <th>Livechat</th>\n",
       "      <th>PublishedCount</th>\n",
       "      <th>SuppliersInvitedCount</th>\n",
       "      <th>DeadlineCount</th>\n",
       "      <th>SupplierDeadlineCount</th>\n",
       "      <th>NewUserMail</th>\n",
       "      <th>NonRegMail</th>\n",
       "    </tr>\n",
       "  </thead>\n",
       "  <tbody>\n",
       "    <tr>\n",
       "      <th>Livechat</th>\n",
       "      <td>1.000000</td>\n",
       "      <td>0.782965</td>\n",
       "      <td>0.666309</td>\n",
       "      <td>0.393666</td>\n",
       "      <td>0.464363</td>\n",
       "      <td>0.932075</td>\n",
       "      <td>0.707275</td>\n",
       "    </tr>\n",
       "    <tr>\n",
       "      <th>PublishedCount</th>\n",
       "      <td>0.782965</td>\n",
       "      <td>1.000000</td>\n",
       "      <td>0.647514</td>\n",
       "      <td>0.409971</td>\n",
       "      <td>0.464122</td>\n",
       "      <td>0.806586</td>\n",
       "      <td>0.524166</td>\n",
       "    </tr>\n",
       "    <tr>\n",
       "      <th>SuppliersInvitedCount</th>\n",
       "      <td>0.666309</td>\n",
       "      <td>0.647514</td>\n",
       "      <td>1.000000</td>\n",
       "      <td>0.331686</td>\n",
       "      <td>0.402064</td>\n",
       "      <td>0.685207</td>\n",
       "      <td>0.398718</td>\n",
       "    </tr>\n",
       "    <tr>\n",
       "      <th>DeadlineCount</th>\n",
       "      <td>0.393666</td>\n",
       "      <td>0.409971</td>\n",
       "      <td>0.331686</td>\n",
       "      <td>1.000000</td>\n",
       "      <td>0.832608</td>\n",
       "      <td>0.404578</td>\n",
       "      <td>0.248604</td>\n",
       "    </tr>\n",
       "    <tr>\n",
       "      <th>SupplierDeadlineCount</th>\n",
       "      <td>0.464363</td>\n",
       "      <td>0.464122</td>\n",
       "      <td>0.402064</td>\n",
       "      <td>0.832608</td>\n",
       "      <td>1.000000</td>\n",
       "      <td>0.473573</td>\n",
       "      <td>0.271595</td>\n",
       "    </tr>\n",
       "    <tr>\n",
       "      <th>NewUserMail</th>\n",
       "      <td>0.932075</td>\n",
       "      <td>0.806586</td>\n",
       "      <td>0.685207</td>\n",
       "      <td>0.404578</td>\n",
       "      <td>0.473573</td>\n",
       "      <td>1.000000</td>\n",
       "      <td>0.694883</td>\n",
       "    </tr>\n",
       "    <tr>\n",
       "      <th>NonRegMail</th>\n",
       "      <td>0.707275</td>\n",
       "      <td>0.524166</td>\n",
       "      <td>0.398718</td>\n",
       "      <td>0.248604</td>\n",
       "      <td>0.271595</td>\n",
       "      <td>0.694883</td>\n",
       "      <td>1.000000</td>\n",
       "    </tr>\n",
       "  </tbody>\n",
       "</table>\n",
       "</div>"
      ],
      "text/plain": [
       "                       Livechat  PublishedCount  SuppliersInvitedCount  \\\n",
       "Livechat               1.000000        0.782965               0.666309   \n",
       "PublishedCount         0.782965        1.000000               0.647514   \n",
       "SuppliersInvitedCount  0.666309        0.647514               1.000000   \n",
       "DeadlineCount          0.393666        0.409971               0.331686   \n",
       "SupplierDeadlineCount  0.464363        0.464122               0.402064   \n",
       "NewUserMail            0.932075        0.806586               0.685207   \n",
       "NonRegMail             0.707275        0.524166               0.398718   \n",
       "\n",
       "                       DeadlineCount  SupplierDeadlineCount  NewUserMail  \\\n",
       "Livechat                    0.393666               0.464363     0.932075   \n",
       "PublishedCount              0.409971               0.464122     0.806586   \n",
       "SuppliersInvitedCount       0.331686               0.402064     0.685207   \n",
       "DeadlineCount               1.000000               0.832608     0.404578   \n",
       "SupplierDeadlineCount       0.832608               1.000000     0.473573   \n",
       "NewUserMail                 0.404578               0.473573     1.000000   \n",
       "NonRegMail                  0.248604               0.271595     0.694883   \n",
       "\n",
       "                       NonRegMail  \n",
       "Livechat                 0.707275  \n",
       "PublishedCount           0.524166  \n",
       "SuppliersInvitedCount    0.398718  \n",
       "DeadlineCount            0.248604  \n",
       "SupplierDeadlineCount    0.271595  \n",
       "NewUserMail              0.694883  \n",
       "NonRegMail               1.000000  "
      ]
     },
     "execution_count": 43,
     "metadata": {},
     "output_type": "execute_result"
    }
   ],
   "source": [
    "live_chat.drop([\"Day\",\"Hour\",\"CombinedRequests\",\"CombinedSupplierAction\"], axis=1).corr()"
   ]
  },
  {
   "cell_type": "markdown",
   "metadata": {},
   "source": [
    "While there is still a positive corrolation between the number of chats and the other variables it is not as strong as it was in our original \"live_chat\" dataset covering a 6 month period vs this one synthesized week."
   ]
  },
  {
   "cell_type": "code",
   "execution_count": 44,
   "metadata": {},
   "outputs": [
    {
     "data": {
      "image/png": "[encoded data removed]",
      "text/plain": [
       "<Figure size 1440x720 with 1 Axes>"
      ]
     },
     "metadata": {
      "needs_background": "light"
     },
     "output_type": "display_data"
    }
   ],
   "source": [
    "ax = simulated_week[[\"Livechat\",\"NewUserMail\"]].plot(figsize=(20,10))\n",
    "ax.legend(loc='center left', bbox_to_anchor=(1, 0.5));"
   ]
  },
  {
   "cell_type": "markdown",
   "metadata": {},
   "source": [
    "## 5.0 Modelling Activity Increases"
   ]
  },
  {
   "cell_type": "markdown",
   "metadata": {},
   "source": [
    "In this section we will create a second mock dataset that predicts the count of Livechats if activity increased significatly. What would an average week look like if activity increased by a factor of 5, 10, 20.\n",
    "\n",
    "In order to do this we will use Linear Regression to look at the influence of 4 of the variables on the number of Livechats by using the original \"live_chat\" dataset to get the regression coefficients and train our models.\n",
    "\n",
    "We will then apply this model to each day individually, in the three increased activity scenarios. I'm aware that each of the four variables we are looking at are also interacting with eachother can could have some degree of collinearity, but this could at least give us some rough estimates of what an average week could like for each increase scenerio."
   ]
  },
  {
   "cell_type": "markdown",
   "metadata": {},
   "source": [
    "### 5.1 Training the Regression model"
   ]
  },
  {
   "cell_type": "code",
   "execution_count": 45,
   "metadata": {},
   "outputs": [],
   "source": [
    "Sun_Dalt = Sunday.divide(26).drop([\"Day\",\"Hour\"],axis=1)\n",
    "Mon_Dalt = Monday.divide(27).drop([\"Day\",\"Hour\"],axis=1)\n",
    "Tues_Dalt = Tuesday.divide(27).drop([\"Day\",\"Hour\"],axis=1)\n",
    "Wed_Dalt = Wednesday.divide(26).drop([\"Day\",\"Hour\"],axis=1)\n",
    "Thurs_Dalt = Thursday.divide(26).drop([\"Day\",\"Hour\"],axis=1)\n",
    "Fri_Dalt = Friday.divide(26).drop([\"Day\",\"Hour\"],axis=1)\n",
    "Sat_Dalt = Saturday.divide(26).drop([\"Day\",\"Hour\"],axis=1)"
   ]
  },
  {
   "cell_type": "code",
   "execution_count": 46,
   "metadata": {},
   "outputs": [],
   "source": [
    "from sklearn import linear_model"
   ]
  },
  {
   "cell_type": "markdown",
   "metadata": {},
   "source": [
    "We will base our predictions on the four variables that are most highly corrolated with the number of Livechats. These were:\n",
    "1. NewUserMail with a corrolation coefficient of 0.93\n",
    "2. PublishedCount with a corrolation coefficent of 0.78\n",
    "3. NonRegMail with a corrolation coefficient of 0.71\n",
    "4. SuppliersInvited with a corrolation coefficient of 0.66"
   ]
  },
  {
   "cell_type": "markdown",
   "metadata": {},
   "source": [
    "Below I have tested / trained the data using three different Linear regression models. Scikit-Learn has a cheatsheet page for helping to select the correct Regression model here: https://scikit-learn.org/stable/tutorial/machine_learning_map/index.html.\n",
    "\n",
    "This data seemed to most closely match the Lasso and ElasticNet models, but I have also included Ordinary Least Squares Regression below."
   ]
  },
  {
   "cell_type": "code",
   "execution_count": 47,
   "metadata": {},
   "outputs": [
    {
     "data": {
      "text/plain": [
       "Lasso(alpha=1.0, copy_X=True, fit_intercept=True, max_iter=1000,\n",
       "   normalize=False, positive=False, precompute=False, random_state=None,\n",
       "   selection='cyclic', tol=0.0001, warm_start=False)"
      ]
     },
     "execution_count": 47,
     "metadata": {},
     "output_type": "execute_result"
    }
   ],
   "source": [
    "regLass = linear_model.Lasso()\n",
    "regLass.fit(live_chat[[\"NewUserMail\",\"PublishedCount\",\"NonRegMail\",\"SuppliersInvitedCount\"]],live_chat.Livechat)"
   ]
  },
  {
   "cell_type": "code",
   "execution_count": 48,
   "metadata": {},
   "outputs": [
    {
     "data": {
      "text/plain": [
       "array([0.44693093, 0.05876259, 0.00108157, 0.01097613])"
      ]
     },
     "execution_count": 48,
     "metadata": {},
     "output_type": "execute_result"
    }
   ],
   "source": [
    "regLass.coef_"
   ]
  },
  {
   "cell_type": "code",
   "execution_count": 49,
   "metadata": {},
   "outputs": [
    {
     "data": {
      "text/plain": [
       "ElasticNet(alpha=1.0, copy_X=True, fit_intercept=True, l1_ratio=0.5,\n",
       "      max_iter=1000, normalize=False, positive=False, precompute=False,\n",
       "      random_state=None, selection='cyclic', tol=0.0001, warm_start=False)"
      ]
     },
     "execution_count": 49,
     "metadata": {},
     "output_type": "execute_result"
    }
   ],
   "source": [
    "regElas = linear_model.ElasticNet()\n",
    "regElas.fit(live_chat[[\"NewUserMail\",\"PublishedCount\",\"NonRegMail\",\"SuppliersInvitedCount\"]],live_chat.Livechat)"
   ]
  },
  {
   "cell_type": "code",
   "execution_count": 50,
   "metadata": {},
   "outputs": [
    {
     "data": {
      "text/plain": [
       "array([0.44687093, 0.06044885, 0.00107435, 0.0108343 ])"
      ]
     },
     "execution_count": 50,
     "metadata": {},
     "output_type": "execute_result"
    }
   ],
   "source": [
    "regElas.coef_"
   ]
  },
  {
   "cell_type": "code",
   "execution_count": 51,
   "metadata": {},
   "outputs": [
    {
     "data": {
      "text/plain": [
       "LinearRegression(copy_X=True, fit_intercept=True, n_jobs=None,\n",
       "         normalize=False)"
      ]
     },
     "execution_count": 51,
     "metadata": {},
     "output_type": "execute_result"
    }
   ],
   "source": [
    "regLin = linear_model.LinearRegression()\n",
    "regLin.fit(live_chat[[\"NewUserMail\",\"PublishedCount\",\"NonRegMail\",\"SuppliersInvitedCount\"]],live_chat.Livechat)"
   ]
  },
  {
   "cell_type": "code",
   "execution_count": 52,
   "metadata": {},
   "outputs": [
    {
     "data": {
      "text/plain": [
       "array([0.4500989 , 0.06065626, 0.00105072, 0.01041581])"
      ]
     },
     "execution_count": 52,
     "metadata": {},
     "output_type": "execute_result"
    }
   ],
   "source": [
    "regLin.coef_"
   ]
  },
  {
   "cell_type": "markdown",
   "metadata": {},
   "source": [
    "It's worth noting the Regression Coefficients above. None are showing as great predictors of what the Livechat value will be, but they are the only values we have to work with. As expected from looking at the corrolation coefficients above, the lmplots, and the line plot comparisons, NewUserMail is the best predictor of the Livechat count, but the other variables are all suprisingly low. \n",
    "\n",
    "This count be due not having performed normalization or standardisation on the dataset. For example, NewUserMails and Livechats both correspond to a single person, whereas each request is published to multiple people in most a lot of cases."
   ]
  },
  {
   "cell_type": "markdown",
   "metadata": {},
   "source": [
    "### 5.2 Creating the Three Scenarios"
   ]
  },
  {
   "cell_type": "code",
   "execution_count": 53,
   "metadata": {},
   "outputs": [
    {
     "data": {
      "text/html": [
       "<div>\n",
       "<style scoped>\n",
       "    .dataframe tbody tr th:only-of-type {\n",
       "        vertical-align: middle;\n",
       "    }\n",
       "\n",
       "    .dataframe tbody tr th {\n",
       "        vertical-align: top;\n",
       "    }\n",
       "\n",
       "    .dataframe thead th {\n",
       "        text-align: right;\n",
       "    }\n",
       "</style>\n",
       "<table border=\"1\" class=\"dataframe\">\n",
       "  <thead>\n",
       "    <tr style=\"text-align: right;\">\n",
       "      <th></th>\n",
       "      <th>Day</th>\n",
       "      <th>Hour</th>\n",
       "      <th>Livechat</th>\n",
       "      <th>PublishedCount</th>\n",
       "      <th>SuppliersInvitedCount</th>\n",
       "      <th>DeadlineCount</th>\n",
       "      <th>SupplierDeadlineCount</th>\n",
       "      <th>CombinedRequests</th>\n",
       "      <th>CombinedSupplierAction</th>\n",
       "      <th>NewUserMail</th>\n",
       "      <th>NonRegMail</th>\n",
       "    </tr>\n",
       "  </thead>\n",
       "  <tbody>\n",
       "    <tr>\n",
       "      <th>0</th>\n",
       "      <td>1</td>\n",
       "      <td>0</td>\n",
       "      <td>0</td>\n",
       "      <td>0</td>\n",
       "      <td>0</td>\n",
       "      <td>0</td>\n",
       "      <td>0</td>\n",
       "      <td>0</td>\n",
       "      <td>0</td>\n",
       "      <td>4</td>\n",
       "      <td>76</td>\n",
       "    </tr>\n",
       "    <tr>\n",
       "      <th>1</th>\n",
       "      <td>1</td>\n",
       "      <td>1</td>\n",
       "      <td>0</td>\n",
       "      <td>0</td>\n",
       "      <td>0</td>\n",
       "      <td>10</td>\n",
       "      <td>14</td>\n",
       "      <td>10</td>\n",
       "      <td>14</td>\n",
       "      <td>1</td>\n",
       "      <td>48</td>\n",
       "    </tr>\n",
       "    <tr>\n",
       "      <th>2</th>\n",
       "      <td>1</td>\n",
       "      <td>2</td>\n",
       "      <td>0</td>\n",
       "      <td>0</td>\n",
       "      <td>0</td>\n",
       "      <td>0</td>\n",
       "      <td>0</td>\n",
       "      <td>0</td>\n",
       "      <td>0</td>\n",
       "      <td>2</td>\n",
       "      <td>7</td>\n",
       "    </tr>\n",
       "    <tr>\n",
       "      <th>3</th>\n",
       "      <td>1</td>\n",
       "      <td>3</td>\n",
       "      <td>0</td>\n",
       "      <td>0</td>\n",
       "      <td>0</td>\n",
       "      <td>0</td>\n",
       "      <td>0</td>\n",
       "      <td>0</td>\n",
       "      <td>0</td>\n",
       "      <td>0</td>\n",
       "      <td>6</td>\n",
       "    </tr>\n",
       "    <tr>\n",
       "      <th>4</th>\n",
       "      <td>1</td>\n",
       "      <td>4</td>\n",
       "      <td>1</td>\n",
       "      <td>26</td>\n",
       "      <td>26</td>\n",
       "      <td>29</td>\n",
       "      <td>33</td>\n",
       "      <td>55</td>\n",
       "      <td>59</td>\n",
       "      <td>0</td>\n",
       "      <td>194</td>\n",
       "    </tr>\n",
       "  </tbody>\n",
       "</table>\n",
       "</div>"
      ],
      "text/plain": [
       "   Day  Hour  Livechat  PublishedCount  SuppliersInvitedCount  DeadlineCount  \\\n",
       "0    1     0         0               0                      0              0   \n",
       "1    1     1         0               0                      0             10   \n",
       "2    1     2         0               0                      0              0   \n",
       "3    1     3         0               0                      0              0   \n",
       "4    1     4         1              26                     26             29   \n",
       "\n",
       "   SupplierDeadlineCount  CombinedRequests  CombinedSupplierAction  \\\n",
       "0                      0                 0                       0   \n",
       "1                     14                10                      14   \n",
       "2                      0                 0                       0   \n",
       "3                      0                 0                       0   \n",
       "4                     33                55                      59   \n",
       "\n",
       "   NewUserMail  NonRegMail  \n",
       "0            4          76  \n",
       "1            1          48  \n",
       "2            2           7  \n",
       "3            0           6  \n",
       "4            0         194  "
      ]
     },
     "execution_count": 53,
     "metadata": {},
     "output_type": "execute_result"
    }
   ],
   "source": [
    "live_chat.head()"
   ]
  },
  {
   "cell_type": "code",
   "execution_count": 54,
   "metadata": {},
   "outputs": [],
   "source": [
    "live_chat_by5 = live_chat.multiply(5).drop([\"Day\",\"Hour\",\"Livechat\",\"DeadlineCount\",\"SupplierDeadlineCount\",\"CombinedRequests\",\"CombinedSupplierAction\"],axis=1)\n",
    "live_chat_by10 = live_chat.multiply(10).drop([\"Day\",\"Hour\",\"Livechat\",\"DeadlineCount\",\"SupplierDeadlineCount\",\"CombinedRequests\",\"CombinedSupplierAction\"],axis=1)\n",
    "live_chat_by20 = live_chat.multiply(20).drop([\"Day\",\"Hour\",\"Livechat\",\"DeadlineCount\",\"SupplierDeadlineCount\",\"CombinedRequests\",\"CombinedSupplierAction\"],axis=1)"
   ]
  },
  {
   "cell_type": "code",
   "execution_count": 55,
   "metadata": {},
   "outputs": [
    {
     "data": {
      "text/html": [
       "<div>\n",
       "<style scoped>\n",
       "    .dataframe tbody tr th:only-of-type {\n",
       "        vertical-align: middle;\n",
       "    }\n",
       "\n",
       "    .dataframe tbody tr th {\n",
       "        vertical-align: top;\n",
       "    }\n",
       "\n",
       "    .dataframe thead th {\n",
       "        text-align: right;\n",
       "    }\n",
       "</style>\n",
       "<table border=\"1\" class=\"dataframe\">\n",
       "  <thead>\n",
       "    <tr style=\"text-align: right;\">\n",
       "      <th></th>\n",
       "      <th>PublishedCount</th>\n",
       "      <th>SuppliersInvitedCount</th>\n",
       "      <th>NewUserMail</th>\n",
       "      <th>NonRegMail</th>\n",
       "    </tr>\n",
       "  </thead>\n",
       "  <tbody>\n",
       "    <tr>\n",
       "      <th>0</th>\n",
       "      <td>0</td>\n",
       "      <td>0</td>\n",
       "      <td>20</td>\n",
       "      <td>380</td>\n",
       "    </tr>\n",
       "    <tr>\n",
       "      <th>1</th>\n",
       "      <td>0</td>\n",
       "      <td>0</td>\n",
       "      <td>5</td>\n",
       "      <td>240</td>\n",
       "    </tr>\n",
       "    <tr>\n",
       "      <th>2</th>\n",
       "      <td>0</td>\n",
       "      <td>0</td>\n",
       "      <td>10</td>\n",
       "      <td>35</td>\n",
       "    </tr>\n",
       "    <tr>\n",
       "      <th>3</th>\n",
       "      <td>0</td>\n",
       "      <td>0</td>\n",
       "      <td>0</td>\n",
       "      <td>30</td>\n",
       "    </tr>\n",
       "    <tr>\n",
       "      <th>4</th>\n",
       "      <td>130</td>\n",
       "      <td>130</td>\n",
       "      <td>0</td>\n",
       "      <td>970</td>\n",
       "    </tr>\n",
       "  </tbody>\n",
       "</table>\n",
       "</div>"
      ],
      "text/plain": [
       "   PublishedCount  SuppliersInvitedCount  NewUserMail  NonRegMail\n",
       "0               0                      0           20         380\n",
       "1               0                      0            5         240\n",
       "2               0                      0           10          35\n",
       "3               0                      0            0          30\n",
       "4             130                    130            0         970"
      ]
     },
     "execution_count": 55,
     "metadata": {},
     "output_type": "execute_result"
    }
   ],
   "source": [
    "live_chat_by5.head()"
   ]
  },
  {
   "cell_type": "markdown",
   "metadata": {},
   "source": [
    "I'm aware there are a lot of 0 values in the results. Most of these are at times at the early morning, night or weekend where activity is likely not to increase a significant degree anyway and in any case we don't provide livechat cover at these times, so it is safe enough to ignore them."
   ]
  },
  {
   "cell_type": "markdown",
   "metadata": {},
   "source": [
    "The columns in the above datasets don't match our regression model so they need to be reordered."
   ]
  },
  {
   "cell_type": "code",
   "execution_count": 56,
   "metadata": {},
   "outputs": [],
   "source": [
    "live_chat_by5 = live_chat_by5[[\"NewUserMail\",\"PublishedCount\",\"NonRegMail\",\"SuppliersInvitedCount\"]]\n",
    "live_chat_by10 = live_chat_by10[[\"NewUserMail\",\"PublishedCount\",\"NonRegMail\",\"SuppliersInvitedCount\"]]\n",
    "live_chat_by20 = live_chat_by20[[\"NewUserMail\",\"PublishedCount\",\"NonRegMail\",\"SuppliersInvitedCount\"]]"
   ]
  },
  {
   "cell_type": "code",
   "execution_count": 57,
   "metadata": {
    "scrolled": true
   },
   "outputs": [
    {
     "data": {
      "text/html": [
       "<div>\n",
       "<style scoped>\n",
       "    .dataframe tbody tr th:only-of-type {\n",
       "        vertical-align: middle;\n",
       "    }\n",
       "\n",
       "    .dataframe tbody tr th {\n",
       "        vertical-align: top;\n",
       "    }\n",
       "\n",
       "    .dataframe thead th {\n",
       "        text-align: right;\n",
       "    }\n",
       "</style>\n",
       "<table border=\"1\" class=\"dataframe\">\n",
       "  <thead>\n",
       "    <tr style=\"text-align: right;\">\n",
       "      <th></th>\n",
       "      <th>NewUserMail</th>\n",
       "      <th>PublishedCount</th>\n",
       "      <th>NonRegMail</th>\n",
       "      <th>SuppliersInvitedCount</th>\n",
       "    </tr>\n",
       "  </thead>\n",
       "  <tbody>\n",
       "    <tr>\n",
       "      <th>0</th>\n",
       "      <td>20</td>\n",
       "      <td>0</td>\n",
       "      <td>380</td>\n",
       "      <td>0</td>\n",
       "    </tr>\n",
       "    <tr>\n",
       "      <th>1</th>\n",
       "      <td>5</td>\n",
       "      <td>0</td>\n",
       "      <td>240</td>\n",
       "      <td>0</td>\n",
       "    </tr>\n",
       "    <tr>\n",
       "      <th>2</th>\n",
       "      <td>10</td>\n",
       "      <td>0</td>\n",
       "      <td>35</td>\n",
       "      <td>0</td>\n",
       "    </tr>\n",
       "    <tr>\n",
       "      <th>3</th>\n",
       "      <td>0</td>\n",
       "      <td>0</td>\n",
       "      <td>30</td>\n",
       "      <td>0</td>\n",
       "    </tr>\n",
       "    <tr>\n",
       "      <th>4</th>\n",
       "      <td>0</td>\n",
       "      <td>130</td>\n",
       "      <td>970</td>\n",
       "      <td>130</td>\n",
       "    </tr>\n",
       "  </tbody>\n",
       "</table>\n",
       "</div>"
      ],
      "text/plain": [
       "   NewUserMail  PublishedCount  NonRegMail  SuppliersInvitedCount\n",
       "0           20               0         380                      0\n",
       "1            5               0         240                      0\n",
       "2           10               0          35                      0\n",
       "3            0               0          30                      0\n",
       "4            0             130         970                    130"
      ]
     },
     "execution_count": 57,
     "metadata": {},
     "output_type": "execute_result"
    }
   ],
   "source": [
    "live_chat_by5.head()"
   ]
  },
  {
   "cell_type": "code",
   "execution_count": 58,
   "metadata": {},
   "outputs": [
    {
     "data": {
      "text/plain": [
       "array([7.05922505])"
      ]
     },
     "execution_count": 58,
     "metadata": {},
     "output_type": "execute_result"
    }
   ],
   "source": [
    "regLass.predict([[20,0,380,0]])"
   ]
  },
  {
   "cell_type": "code",
   "execution_count": 59,
   "metadata": {},
   "outputs": [
    {
     "data": {
      "text/plain": [
       "array([7.8247692])"
      ]
     },
     "execution_count": 59,
     "metadata": {},
     "output_type": "execute_result"
    }
   ],
   "source": [
    "regLass.predict([[0,130,970,130]])"
   ]
  },
  {
   "cell_type": "markdown",
   "metadata": {},
   "source": [
    "### 5.4 Creating Predicted Livechat column"
   ]
  },
  {
   "cell_type": "code",
   "execution_count": 60,
   "metadata": {},
   "outputs": [
    {
     "data": {
      "text/plain": [
       "Lasso(alpha=1.0, copy_X=True, fit_intercept=True, max_iter=1000,\n",
       "   normalize=False, positive=False, precompute=False, random_state=None,\n",
       "   selection='cyclic', tol=0.0001, warm_start=False)"
      ]
     },
     "execution_count": 60,
     "metadata": {},
     "output_type": "execute_result"
    }
   ],
   "source": [
    "x = live_chat[[\"NewUserMail\",\"PublishedCount\",\"NonRegMail\",\"SuppliersInvitedCount\"]]\n",
    "y = live_chat[\"Livechat\"]\n",
    "\n",
    "model = linear_model.Lasso()\n",
    "\n",
    "model.fit(x, y)"
   ]
  },
  {
   "cell_type": "code",
   "execution_count": 61,
   "metadata": {},
   "outputs": [],
   "source": [
    "Livechat5 = model.predict(live_chat_by5)\n",
    "Livechat10 = model.predict(live_chat_by10)\n",
    "Livechat20 = model.predict(live_chat_by20)"
   ]
  },
  {
   "cell_type": "code",
   "execution_count": 62,
   "metadata": {},
   "outputs": [],
   "source": [
    "Livechat5_R = np.around(Livechat5).astype(int).clip(min=0)\n",
    "Livechat10_R = np.around(Livechat10).astype(int).clip(min=0)\n",
    "Livechat20_R = np.around(Livechat20).astype(int).clip(min=0)"
   ]
  },
  {
   "cell_type": "code",
   "execution_count": 63,
   "metadata": {},
   "outputs": [
    {
     "data": {
      "text/plain": [
       "array([ 16,   3,   7,   0,  18,  45,  63,  53,  63,  63,  66,  23, 105,\n",
       "        14,  11,   7,  16,   3,   2,  11,  11,  21,  13,  17,  59,  50,\n",
       "        58,  67,  74,  97, 136, 210, 404, 468, 392, 310, 436, 310, 291,\n",
       "       244, 103,  53,  26,  14,  24,  13,  17,  38,  58,  76,  65,  78,\n",
       "        44, 120, 134, 159, 326, 408, 356, 340, 454, 381, 431, 371, 172,\n",
       "        47,  28,  30,  50,  29,  48,  26,  58,  86,  66,  61,  83, 102,\n",
       "       155, 305, 336, 497, 331, 301, 489, 344, 358, 364, 113,  69,  28,\n",
       "        19,  32,  20,  18,  22,  43,  51,  49,  91,  82,  70, 128, 196,\n",
       "       350, 579, 415, 238, 323, 335, 325, 209, 103,  31,  20,  32,  29,\n",
       "         4,  14,  32,  27,  38,  35,  53,  50,  39,  62, 172, 333, 312,\n",
       "       252, 258, 377, 271, 278, 291,  87,  12,  19,  23,   9,   2,   2,\n",
       "         0,   2,   2,   2,   7,   0,   7,   8,   7,  22,   7,  27,  12,\n",
       "        43,  11,   2,   0,  25,   2,   2,   7,   2,   0,  11,   0])"
      ]
     },
     "execution_count": 63,
     "metadata": {},
     "output_type": "execute_result"
    }
   ],
   "source": [
    "Livechat10_R"
   ]
  },
  {
   "cell_type": "markdown",
   "metadata": {},
   "source": [
    "### 5.5 Finalising the Datasets"
   ]
  },
  {
   "cell_type": "code",
   "execution_count": 64,
   "metadata": {},
   "outputs": [],
   "source": [
    "live_chat_by5[\"Livechat\"] = Livechat5_R\n",
    "live_chat_by10[\"Livechat\"] = Livechat10_R\n",
    "live_chat_by20[\"Livechat\"] = Livechat20_R"
   ]
  },
  {
   "cell_type": "code",
   "execution_count": 65,
   "metadata": {},
   "outputs": [
    {
     "data": {
      "text/html": [
       "<div>\n",
       "<style scoped>\n",
       "    .dataframe tbody tr th:only-of-type {\n",
       "        vertical-align: middle;\n",
       "    }\n",
       "\n",
       "    .dataframe tbody tr th {\n",
       "        vertical-align: top;\n",
       "    }\n",
       "\n",
       "    .dataframe thead th {\n",
       "        text-align: right;\n",
       "    }\n",
       "</style>\n",
       "<table border=\"1\" class=\"dataframe\">\n",
       "  <thead>\n",
       "    <tr style=\"text-align: right;\">\n",
       "      <th></th>\n",
       "      <th>NewUserMail</th>\n",
       "      <th>PublishedCount</th>\n",
       "      <th>NonRegMail</th>\n",
       "      <th>SuppliersInvitedCount</th>\n",
       "      <th>Livechat</th>\n",
       "    </tr>\n",
       "  </thead>\n",
       "  <tbody>\n",
       "    <tr>\n",
       "      <th>0</th>\n",
       "      <td>20</td>\n",
       "      <td>0</td>\n",
       "      <td>380</td>\n",
       "      <td>0</td>\n",
       "      <td>7</td>\n",
       "    </tr>\n",
       "    <tr>\n",
       "      <th>1</th>\n",
       "      <td>5</td>\n",
       "      <td>0</td>\n",
       "      <td>240</td>\n",
       "      <td>0</td>\n",
       "      <td>0</td>\n",
       "    </tr>\n",
       "    <tr>\n",
       "      <th>2</th>\n",
       "      <td>10</td>\n",
       "      <td>0</td>\n",
       "      <td>35</td>\n",
       "      <td>0</td>\n",
       "      <td>2</td>\n",
       "    </tr>\n",
       "    <tr>\n",
       "      <th>3</th>\n",
       "      <td>0</td>\n",
       "      <td>0</td>\n",
       "      <td>30</td>\n",
       "      <td>0</td>\n",
       "      <td>0</td>\n",
       "    </tr>\n",
       "    <tr>\n",
       "      <th>4</th>\n",
       "      <td>0</td>\n",
       "      <td>130</td>\n",
       "      <td>970</td>\n",
       "      <td>130</td>\n",
       "      <td>8</td>\n",
       "    </tr>\n",
       "  </tbody>\n",
       "</table>\n",
       "</div>"
      ],
      "text/plain": [
       "   NewUserMail  PublishedCount  NonRegMail  SuppliersInvitedCount  Livechat\n",
       "0           20               0         380                      0         7\n",
       "1            5               0         240                      0         0\n",
       "2           10               0          35                      0         2\n",
       "3            0               0          30                      0         0\n",
       "4            0             130         970                    130         8"
      ]
     },
     "execution_count": 65,
     "metadata": {},
     "output_type": "execute_result"
    }
   ],
   "source": [
    "live_chat_by5.head()"
   ]
  },
  {
   "cell_type": "markdown",
   "metadata": {},
   "source": [
    "Adding back in the day and hour columns."
   ]
  },
  {
   "cell_type": "code",
   "execution_count": 66,
   "metadata": {},
   "outputs": [],
   "source": [
    "live_chat_by5[\"Day\"] = live_chat[\"Day\"]\n",
    "live_chat_by5[\"Hour\"] = live_chat[\"Hour\"]\n",
    "live_chat_by10[\"Day\"] = live_chat[\"Day\"]\n",
    "live_chat_by10[\"Hour\"] = live_chat[\"Hour\"]\n",
    "live_chat_by20[\"Day\"] = live_chat[\"Day\"]\n",
    "live_chat_by20[\"Hour\"] = live_chat[\"Hour\"]"
   ]
  },
  {
   "cell_type": "code",
   "execution_count": 67,
   "metadata": {},
   "outputs": [
    {
     "data": {
      "text/html": [
       "<div>\n",
       "<style scoped>\n",
       "    .dataframe tbody tr th:only-of-type {\n",
       "        vertical-align: middle;\n",
       "    }\n",
       "\n",
       "    .dataframe tbody tr th {\n",
       "        vertical-align: top;\n",
       "    }\n",
       "\n",
       "    .dataframe thead th {\n",
       "        text-align: right;\n",
       "    }\n",
       "</style>\n",
       "<table border=\"1\" class=\"dataframe\">\n",
       "  <thead>\n",
       "    <tr style=\"text-align: right;\">\n",
       "      <th></th>\n",
       "      <th>NewUserMail</th>\n",
       "      <th>PublishedCount</th>\n",
       "      <th>NonRegMail</th>\n",
       "      <th>SuppliersInvitedCount</th>\n",
       "      <th>Livechat</th>\n",
       "      <th>Day</th>\n",
       "      <th>Hour</th>\n",
       "    </tr>\n",
       "  </thead>\n",
       "  <tbody>\n",
       "    <tr>\n",
       "      <th>0</th>\n",
       "      <td>20</td>\n",
       "      <td>0</td>\n",
       "      <td>380</td>\n",
       "      <td>0</td>\n",
       "      <td>7</td>\n",
       "      <td>1</td>\n",
       "      <td>0</td>\n",
       "    </tr>\n",
       "    <tr>\n",
       "      <th>1</th>\n",
       "      <td>5</td>\n",
       "      <td>0</td>\n",
       "      <td>240</td>\n",
       "      <td>0</td>\n",
       "      <td>0</td>\n",
       "      <td>1</td>\n",
       "      <td>1</td>\n",
       "    </tr>\n",
       "    <tr>\n",
       "      <th>2</th>\n",
       "      <td>10</td>\n",
       "      <td>0</td>\n",
       "      <td>35</td>\n",
       "      <td>0</td>\n",
       "      <td>2</td>\n",
       "      <td>1</td>\n",
       "      <td>2</td>\n",
       "    </tr>\n",
       "    <tr>\n",
       "      <th>3</th>\n",
       "      <td>0</td>\n",
       "      <td>0</td>\n",
       "      <td>30</td>\n",
       "      <td>0</td>\n",
       "      <td>0</td>\n",
       "      <td>1</td>\n",
       "      <td>3</td>\n",
       "    </tr>\n",
       "    <tr>\n",
       "      <th>4</th>\n",
       "      <td>0</td>\n",
       "      <td>130</td>\n",
       "      <td>970</td>\n",
       "      <td>130</td>\n",
       "      <td>8</td>\n",
       "      <td>1</td>\n",
       "      <td>4</td>\n",
       "    </tr>\n",
       "  </tbody>\n",
       "</table>\n",
       "</div>"
      ],
      "text/plain": [
       "   NewUserMail  PublishedCount  NonRegMail  SuppliersInvitedCount  Livechat  \\\n",
       "0           20               0         380                      0         7   \n",
       "1            5               0         240                      0         0   \n",
       "2           10               0          35                      0         2   \n",
       "3            0               0          30                      0         0   \n",
       "4            0             130         970                    130         8   \n",
       "\n",
       "   Day  Hour  \n",
       "0    1     0  \n",
       "1    1     1  \n",
       "2    1     2  \n",
       "3    1     3  \n",
       "4    1     4  "
      ]
     },
     "execution_count": 67,
     "metadata": {},
     "output_type": "execute_result"
    }
   ],
   "source": [
    "live_chat_by5.head()"
   ]
  },
  {
   "cell_type": "code",
   "execution_count": 68,
   "metadata": {},
   "outputs": [
    {
     "data": {
      "text/html": [
       "<div>\n",
       "<style scoped>\n",
       "    .dataframe tbody tr th:only-of-type {\n",
       "        vertical-align: middle;\n",
       "    }\n",
       "\n",
       "    .dataframe tbody tr th {\n",
       "        vertical-align: top;\n",
       "    }\n",
       "\n",
       "    .dataframe thead th {\n",
       "        text-align: right;\n",
       "    }\n",
       "</style>\n",
       "<table border=\"1\" class=\"dataframe\">\n",
       "  <thead>\n",
       "    <tr style=\"text-align: right;\">\n",
       "      <th></th>\n",
       "      <th>NewUserMail</th>\n",
       "      <th>PublishedCount</th>\n",
       "      <th>NonRegMail</th>\n",
       "      <th>SuppliersInvitedCount</th>\n",
       "      <th>Livechat</th>\n",
       "      <th>Day</th>\n",
       "      <th>Hour</th>\n",
       "    </tr>\n",
       "  </thead>\n",
       "  <tbody>\n",
       "    <tr>\n",
       "      <th>NewUserMail</th>\n",
       "      <td>1.000000</td>\n",
       "      <td>0.806586</td>\n",
       "      <td>0.694883</td>\n",
       "      <td>0.685207</td>\n",
       "      <td>0.992852</td>\n",
       "      <td>-0.073793</td>\n",
       "      <td>-0.104177</td>\n",
       "    </tr>\n",
       "    <tr>\n",
       "      <th>PublishedCount</th>\n",
       "      <td>0.806586</td>\n",
       "      <td>1.000000</td>\n",
       "      <td>0.524166</td>\n",
       "      <td>0.647514</td>\n",
       "      <td>0.833050</td>\n",
       "      <td>-0.179942</td>\n",
       "      <td>-0.241421</td>\n",
       "    </tr>\n",
       "    <tr>\n",
       "      <th>NonRegMail</th>\n",
       "      <td>0.694883</td>\n",
       "      <td>0.524166</td>\n",
       "      <td>1.000000</td>\n",
       "      <td>0.398718</td>\n",
       "      <td>0.755817</td>\n",
       "      <td>0.014096</td>\n",
       "      <td>-0.023836</td>\n",
       "    </tr>\n",
       "    <tr>\n",
       "      <th>SuppliersInvitedCount</th>\n",
       "      <td>0.685207</td>\n",
       "      <td>0.647514</td>\n",
       "      <td>0.398718</td>\n",
       "      <td>1.000000</td>\n",
       "      <td>0.710514</td>\n",
       "      <td>-0.063806</td>\n",
       "      <td>-0.067998</td>\n",
       "    </tr>\n",
       "    <tr>\n",
       "      <th>Livechat</th>\n",
       "      <td>0.992852</td>\n",
       "      <td>0.833050</td>\n",
       "      <td>0.755817</td>\n",
       "      <td>0.710514</td>\n",
       "      <td>1.000000</td>\n",
       "      <td>-0.074787</td>\n",
       "      <td>-0.109906</td>\n",
       "    </tr>\n",
       "    <tr>\n",
       "      <th>Day</th>\n",
       "      <td>-0.073793</td>\n",
       "      <td>-0.179942</td>\n",
       "      <td>0.014096</td>\n",
       "      <td>-0.063806</td>\n",
       "      <td>-0.074787</td>\n",
       "      <td>1.000000</td>\n",
       "      <td>0.000000</td>\n",
       "    </tr>\n",
       "    <tr>\n",
       "      <th>Hour</th>\n",
       "      <td>-0.104177</td>\n",
       "      <td>-0.241421</td>\n",
       "      <td>-0.023836</td>\n",
       "      <td>-0.067998</td>\n",
       "      <td>-0.109906</td>\n",
       "      <td>0.000000</td>\n",
       "      <td>1.000000</td>\n",
       "    </tr>\n",
       "  </tbody>\n",
       "</table>\n",
       "</div>"
      ],
      "text/plain": [
       "                       NewUserMail  PublishedCount  NonRegMail  \\\n",
       "NewUserMail               1.000000        0.806586    0.694883   \n",
       "PublishedCount            0.806586        1.000000    0.524166   \n",
       "NonRegMail                0.694883        0.524166    1.000000   \n",
       "SuppliersInvitedCount     0.685207        0.647514    0.398718   \n",
       "Livechat                  0.992852        0.833050    0.755817   \n",
       "Day                      -0.073793       -0.179942    0.014096   \n",
       "Hour                     -0.104177       -0.241421   -0.023836   \n",
       "\n",
       "                       SuppliersInvitedCount  Livechat       Day      Hour  \n",
       "NewUserMail                         0.685207  0.992852 -0.073793 -0.104177  \n",
       "PublishedCount                      0.647514  0.833050 -0.179942 -0.241421  \n",
       "NonRegMail                          0.398718  0.755817  0.014096 -0.023836  \n",
       "SuppliersInvitedCount               1.000000  0.710514 -0.063806 -0.067998  \n",
       "Livechat                            0.710514  1.000000 -0.074787 -0.109906  \n",
       "Day                                -0.063806 -0.074787  1.000000  0.000000  \n",
       "Hour                               -0.067998 -0.109906  0.000000  1.000000  "
      ]
     },
     "execution_count": 68,
     "metadata": {},
     "output_type": "execute_result"
    }
   ],
   "source": [
    "live_chat_by5.corr()"
   ]
  },
  {
   "cell_type": "code",
   "execution_count": 69,
   "metadata": {},
   "outputs": [
    {
     "data": {
      "text/html": [
       "<div>\n",
       "<style scoped>\n",
       "    .dataframe tbody tr th:only-of-type {\n",
       "        vertical-align: middle;\n",
       "    }\n",
       "\n",
       "    .dataframe tbody tr th {\n",
       "        vertical-align: top;\n",
       "    }\n",
       "\n",
       "    .dataframe thead th {\n",
       "        text-align: right;\n",
       "    }\n",
       "</style>\n",
       "<table border=\"1\" class=\"dataframe\">\n",
       "  <thead>\n",
       "    <tr style=\"text-align: right;\">\n",
       "      <th></th>\n",
       "      <th>NewUserMail</th>\n",
       "      <th>PublishedCount</th>\n",
       "      <th>NonRegMail</th>\n",
       "      <th>SuppliersInvitedCount</th>\n",
       "      <th>Livechat</th>\n",
       "      <th>Day</th>\n",
       "      <th>Hour</th>\n",
       "    </tr>\n",
       "  </thead>\n",
       "  <tbody>\n",
       "    <tr>\n",
       "      <th>NewUserMail</th>\n",
       "      <td>1.000000</td>\n",
       "      <td>0.806586</td>\n",
       "      <td>0.694883</td>\n",
       "      <td>0.685207</td>\n",
       "      <td>0.992881</td>\n",
       "      <td>-0.073793</td>\n",
       "      <td>-0.104177</td>\n",
       "    </tr>\n",
       "    <tr>\n",
       "      <th>PublishedCount</th>\n",
       "      <td>0.806586</td>\n",
       "      <td>1.000000</td>\n",
       "      <td>0.524166</td>\n",
       "      <td>0.647514</td>\n",
       "      <td>0.833072</td>\n",
       "      <td>-0.179942</td>\n",
       "      <td>-0.241421</td>\n",
       "    </tr>\n",
       "    <tr>\n",
       "      <th>NonRegMail</th>\n",
       "      <td>0.694883</td>\n",
       "      <td>0.524166</td>\n",
       "      <td>1.000000</td>\n",
       "      <td>0.398718</td>\n",
       "      <td>0.755591</td>\n",
       "      <td>0.014096</td>\n",
       "      <td>-0.023836</td>\n",
       "    </tr>\n",
       "    <tr>\n",
       "      <th>SuppliersInvitedCount</th>\n",
       "      <td>0.685207</td>\n",
       "      <td>0.647514</td>\n",
       "      <td>0.398718</td>\n",
       "      <td>1.000000</td>\n",
       "      <td>0.710919</td>\n",
       "      <td>-0.063806</td>\n",
       "      <td>-0.067998</td>\n",
       "    </tr>\n",
       "    <tr>\n",
       "      <th>Livechat</th>\n",
       "      <td>0.992881</td>\n",
       "      <td>0.833072</td>\n",
       "      <td>0.755591</td>\n",
       "      <td>0.710919</td>\n",
       "      <td>1.000000</td>\n",
       "      <td>-0.075110</td>\n",
       "      <td>-0.110468</td>\n",
       "    </tr>\n",
       "    <tr>\n",
       "      <th>Day</th>\n",
       "      <td>-0.073793</td>\n",
       "      <td>-0.179942</td>\n",
       "      <td>0.014096</td>\n",
       "      <td>-0.063806</td>\n",
       "      <td>-0.075110</td>\n",
       "      <td>1.000000</td>\n",
       "      <td>0.000000</td>\n",
       "    </tr>\n",
       "    <tr>\n",
       "      <th>Hour</th>\n",
       "      <td>-0.104177</td>\n",
       "      <td>-0.241421</td>\n",
       "      <td>-0.023836</td>\n",
       "      <td>-0.067998</td>\n",
       "      <td>-0.110468</td>\n",
       "      <td>0.000000</td>\n",
       "      <td>1.000000</td>\n",
       "    </tr>\n",
       "  </tbody>\n",
       "</table>\n",
       "</div>"
      ],
      "text/plain": [
       "                       NewUserMail  PublishedCount  NonRegMail  \\\n",
       "NewUserMail               1.000000        0.806586    0.694883   \n",
       "PublishedCount            0.806586        1.000000    0.524166   \n",
       "NonRegMail                0.694883        0.524166    1.000000   \n",
       "SuppliersInvitedCount     0.685207        0.647514    0.398718   \n",
       "Livechat                  0.992881        0.833072    0.755591   \n",
       "Day                      -0.073793       -0.179942    0.014096   \n",
       "Hour                     -0.104177       -0.241421   -0.023836   \n",
       "\n",
       "                       SuppliersInvitedCount  Livechat       Day      Hour  \n",
       "NewUserMail                         0.685207  0.992881 -0.073793 -0.104177  \n",
       "PublishedCount                      0.647514  0.833072 -0.179942 -0.241421  \n",
       "NonRegMail                          0.398718  0.755591  0.014096 -0.023836  \n",
       "SuppliersInvitedCount               1.000000  0.710919 -0.063806 -0.067998  \n",
       "Livechat                            0.710919  1.000000 -0.075110 -0.110468  \n",
       "Day                                -0.063806 -0.075110  1.000000  0.000000  \n",
       "Hour                               -0.067998 -0.110468  0.000000  1.000000  "
      ]
     },
     "execution_count": 69,
     "metadata": {},
     "output_type": "execute_result"
    }
   ],
   "source": [
    "live_chat_by10.corr()"
   ]
  },
  {
   "cell_type": "code",
   "execution_count": 70,
   "metadata": {},
   "outputs": [
    {
     "data": {
      "text/html": [
       "<div>\n",
       "<style scoped>\n",
       "    .dataframe tbody tr th:only-of-type {\n",
       "        vertical-align: middle;\n",
       "    }\n",
       "\n",
       "    .dataframe tbody tr th {\n",
       "        vertical-align: top;\n",
       "    }\n",
       "\n",
       "    .dataframe thead th {\n",
       "        text-align: right;\n",
       "    }\n",
       "</style>\n",
       "<table border=\"1\" class=\"dataframe\">\n",
       "  <thead>\n",
       "    <tr style=\"text-align: right;\">\n",
       "      <th></th>\n",
       "      <th>NewUserMail</th>\n",
       "      <th>PublishedCount</th>\n",
       "      <th>NonRegMail</th>\n",
       "      <th>SuppliersInvitedCount</th>\n",
       "      <th>Livechat</th>\n",
       "      <th>Day</th>\n",
       "      <th>Hour</th>\n",
       "    </tr>\n",
       "  </thead>\n",
       "  <tbody>\n",
       "    <tr>\n",
       "      <th>NewUserMail</th>\n",
       "      <td>1.000000</td>\n",
       "      <td>0.806586</td>\n",
       "      <td>0.694883</td>\n",
       "      <td>0.685207</td>\n",
       "      <td>0.992858</td>\n",
       "      <td>-0.073793</td>\n",
       "      <td>-0.104177</td>\n",
       "    </tr>\n",
       "    <tr>\n",
       "      <th>PublishedCount</th>\n",
       "      <td>0.806586</td>\n",
       "      <td>1.000000</td>\n",
       "      <td>0.524166</td>\n",
       "      <td>0.647514</td>\n",
       "      <td>0.833233</td>\n",
       "      <td>-0.179942</td>\n",
       "      <td>-0.241421</td>\n",
       "    </tr>\n",
       "    <tr>\n",
       "      <th>NonRegMail</th>\n",
       "      <td>0.694883</td>\n",
       "      <td>0.524166</td>\n",
       "      <td>1.000000</td>\n",
       "      <td>0.398718</td>\n",
       "      <td>0.755564</td>\n",
       "      <td>0.014096</td>\n",
       "      <td>-0.023836</td>\n",
       "    </tr>\n",
       "    <tr>\n",
       "      <th>SuppliersInvitedCount</th>\n",
       "      <td>0.685207</td>\n",
       "      <td>0.647514</td>\n",
       "      <td>0.398718</td>\n",
       "      <td>1.000000</td>\n",
       "      <td>0.711100</td>\n",
       "      <td>-0.063806</td>\n",
       "      <td>-0.067998</td>\n",
       "    </tr>\n",
       "    <tr>\n",
       "      <th>Livechat</th>\n",
       "      <td>0.992858</td>\n",
       "      <td>0.833233</td>\n",
       "      <td>0.755564</td>\n",
       "      <td>0.711100</td>\n",
       "      <td>1.000000</td>\n",
       "      <td>-0.075551</td>\n",
       "      <td>-0.110589</td>\n",
       "    </tr>\n",
       "    <tr>\n",
       "      <th>Day</th>\n",
       "      <td>-0.073793</td>\n",
       "      <td>-0.179942</td>\n",
       "      <td>0.014096</td>\n",
       "      <td>-0.063806</td>\n",
       "      <td>-0.075551</td>\n",
       "      <td>1.000000</td>\n",
       "      <td>0.000000</td>\n",
       "    </tr>\n",
       "    <tr>\n",
       "      <th>Hour</th>\n",
       "      <td>-0.104177</td>\n",
       "      <td>-0.241421</td>\n",
       "      <td>-0.023836</td>\n",
       "      <td>-0.067998</td>\n",
       "      <td>-0.110589</td>\n",
       "      <td>0.000000</td>\n",
       "      <td>1.000000</td>\n",
       "    </tr>\n",
       "  </tbody>\n",
       "</table>\n",
       "</div>"
      ],
      "text/plain": [
       "                       NewUserMail  PublishedCount  NonRegMail  \\\n",
       "NewUserMail               1.000000        0.806586    0.694883   \n",
       "PublishedCount            0.806586        1.000000    0.524166   \n",
       "NonRegMail                0.694883        0.524166    1.000000   \n",
       "SuppliersInvitedCount     0.685207        0.647514    0.398718   \n",
       "Livechat                  0.992858        0.833233    0.755564   \n",
       "Day                      -0.073793       -0.179942    0.014096   \n",
       "Hour                     -0.104177       -0.241421   -0.023836   \n",
       "\n",
       "                       SuppliersInvitedCount  Livechat       Day      Hour  \n",
       "NewUserMail                         0.685207  0.992858 -0.073793 -0.104177  \n",
       "PublishedCount                      0.647514  0.833233 -0.179942 -0.241421  \n",
       "NonRegMail                          0.398718  0.755564  0.014096 -0.023836  \n",
       "SuppliersInvitedCount               1.000000  0.711100 -0.063806 -0.067998  \n",
       "Livechat                            0.711100  1.000000 -0.075551 -0.110589  \n",
       "Day                                -0.063806 -0.075551  1.000000  0.000000  \n",
       "Hour                               -0.067998 -0.110589  0.000000  1.000000  "
      ]
     },
     "execution_count": 70,
     "metadata": {},
     "output_type": "execute_result"
    }
   ],
   "source": [
    "live_chat_by20.corr()"
   ]
  }
 ],
 "metadata": {
  "kernelspec": {
   "display_name": "Python 3",
   "language": "python",
   "name": "python3"
  },
  "language_info": {
   "codemirror_mode": {
    "name": "ipython",
    "version": 3
   },
   "file_extension": ".py",
   "mimetype": "text/x-python",
   "name": "python",
   "nbconvert_exporter": "python",
   "pygments_lexer": "ipython3",
   "version": "3.6.7"
  }
 },
 "nbformat": 4,
 "nbformat_minor": 2
}
